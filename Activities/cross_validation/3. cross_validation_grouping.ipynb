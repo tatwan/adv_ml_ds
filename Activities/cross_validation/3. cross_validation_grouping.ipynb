{
 "cells": [
  {
   "cell_type": "markdown",
   "metadata": {},
   "source": [
    "# Cross-Validation with Sample Grouping\n",
    "\n",
    "In this notebook, we explore the concept of **sample groups** in cross-validation and why they are crucial for obtaining reliable model performance estimates. We'll use the handwritten digits dataset to demonstrate some surprising results that highlight the importance of proper data splitting strategies.\n",
    "\n",
    "## Learning Objectives\n",
    "By the end of this notebook, you will understand:\n",
    "- What sample grouping means in the context of cross-validation\n",
    "- How data leakage can occur when groups are not properly handled\n",
    "- The difference between optimistic and realistic performance estimates\n",
    "- When and how to use group-aware cross-validation techniques\n",
    "- Real-world scenarios where grouping is essential\n",
    "\n",
    "## What is Sample Grouping?\n",
    "Sample grouping refers to the situation where certain samples in your dataset are related or dependent on each other. These relationships can arise from:\n",
    "- **Temporal dependencies**: Data collected over time from the same source\n",
    "- **Individual subjects**: Multiple measurements from the same person/entity\n",
    "- **Hierarchical structures**: Data from the same institution, location, or category\n",
    "- **Data collection methodology**: Samples processed in the same batch or session\n",
    "\n",
    "**Why does this matter?** If related samples end up in both training and test sets, your model might learn to recognize the underlying patterns of specific groups rather than generalizing to new, unseen groups. This leads to overly optimistic performance estimates that don't reflect real-world performance."
   ]
  },
  {
   "cell_type": "code",
   "execution_count": 1,
   "metadata": {},
   "outputs": [],
   "source": [
    "from sklearn.datasets import load_digits\n",
    "\n",
    "digits = load_digits()\n",
    "data, target = digits.data, digits.target"
   ]
  },
  {
   "cell_type": "markdown",
   "id": "376c761a",
   "metadata": {},
   "source": [
    "## The Dataset: Handwritten Digits\n",
    "Let's start by loading the handwritten digits dataset. This dataset will serve as a perfect example to demonstrate the importance of grouping because it contains a hidden structure that we'll uncover."
   ]
  },
  {
   "cell_type": "markdown",
   "metadata": {},
   "source": [
    "We create a model consisting of a logistic regression classifier with a\n",
    "preprocessor to scale the data.\n",
    "\n",
    "<div class=\"admonition note alert alert-info\">\n",
    "<p class=\"first admonition-title\" style=\"font-weight: bold;\">Note</p>\n",
    "<p class=\"last\">Here we use a <tt class=\"docutils literal\">MinMaxScaler</tt> as we know that each pixel's gray-scale is\n",
    "strictly bounded between 0 (white) and 16 (black). This makes <tt class=\"docutils literal\">MinMaxScaler</tt>\n",
    "more suited in this case than <tt class=\"docutils literal\">StandardScaler</tt>, as some pixels consistently\n",
    "have low variance (pixels at the borders might almost always be zero if most\n",
    "digits are centered in the image). Then, using <tt class=\"docutils literal\">StandardScaler</tt> can result in\n",
    "a very high scaled value due to division by a small number.</p>\n",
    "</div>"
   ]
  },
  {
   "cell_type": "code",
   "execution_count": 2,
   "metadata": {},
   "outputs": [],
   "source": [
    "from sklearn.preprocessing import MinMaxScaler\n",
    "from sklearn.linear_model import LogisticRegression\n",
    "from sklearn.pipeline import make_pipeline\n",
    "\n",
    "model = make_pipeline(MinMaxScaler(), LogisticRegression(max_iter=1_000))"
   ]
  },
  {
   "cell_type": "markdown",
   "metadata": {},
   "source": [
    "The idea is to compare the estimated generalization performance using\n",
    "different cross-validation techniques and see how such estimations are\n",
    "impacted by underlying data structures. We first use a `KFold`\n",
    "cross-validation without shuffling the data."
   ]
  },
  {
   "cell_type": "markdown",
   "id": "190c3bec",
   "metadata": {},
   "source": [
    "## Experiment 1: Standard K-Fold Cross-Validation\n",
    "\n",
    "Now we'll compare different cross-validation strategies to see how they affect our performance estimates. This comparison will reveal the hidden dangers of ignoring data structure.\n",
    "\n",
    "### Without Shuffling\n",
    "First, let's establish a baseline using standard K-Fold cross-validation without shuffling the data. This means we'll use the data in its original order."
   ]
  },
  {
   "cell_type": "code",
   "execution_count": 3,
   "metadata": {},
   "outputs": [
    {
     "name": "stdout",
     "output_type": "stream",
     "text": [
      "The average accuracy is 0.931 ± 0.027\n"
     ]
    }
   ],
   "source": [
    "from sklearn.model_selection import cross_val_score, KFold\n",
    "\n",
    "cv = KFold(shuffle=False)\n",
    "test_score_no_shuffling = cross_val_score(model, data, target, cv=cv, n_jobs=2)\n",
    "print(\n",
    "    \"The average accuracy is \"\n",
    "    f\"{test_score_no_shuffling.mean():.3f} ± \"\n",
    "    f\"{test_score_no_shuffling.std():.3f}\"\n",
    ")"
   ]
  },
  {
   "cell_type": "markdown",
   "metadata": {},
   "source": [
    "Now, let's repeat the experiment by shuffling the data within the\n",
    "cross-validation."
   ]
  },
  {
   "cell_type": "markdown",
   "id": "4cea33bf",
   "metadata": {},
   "source": [
    "### With Shuffling\n",
    "Next, let's see what happens when we shuffle the data before splitting. This is a common practice that randomly redistributes samples across folds."
   ]
  },
  {
   "cell_type": "code",
   "execution_count": 4,
   "metadata": {},
   "outputs": [
    {
     "name": "stdout",
     "output_type": "stream",
     "text": [
      "The average accuracy is 0.968 ± 0.013\n"
     ]
    }
   ],
   "source": [
    "cv = KFold(shuffle=True)\n",
    "test_score_with_shuffling = cross_val_score(\n",
    "    model, data, target, cv=cv, n_jobs=2\n",
    ")\n",
    "print(\n",
    "    \"The average accuracy is \"\n",
    "    f\"{test_score_with_shuffling.mean():.3f} ± \"\n",
    "    f\"{test_score_with_shuffling.std():.3f}\"\n",
    ")"
   ]
  },
  {
   "cell_type": "markdown",
   "metadata": {},
   "source": [
    "We observe that shuffling the data improves the mean accuracy. We can go a\n",
    "little further and plot the distribution of the testing score. For such\n",
    "purpose we concatenate the test scores."
   ]
  },
  {
   "cell_type": "markdown",
   "id": "32f93d2c",
   "metadata": {},
   "source": [
    "## Analyzing the Results\n",
    "\n",
    "**🚨 Important Observation**: The shuffled data gives us better performance! This should make us suspicious. In most real-world scenarios, simply shuffling shouldn't dramatically improve model performance - this suggests there's an underlying structure in our data that shuffling is artificially exploiting."
   ]
  },
  {
   "cell_type": "code",
   "execution_count": 5,
   "metadata": {},
   "outputs": [],
   "source": [
    "import pandas as pd\n",
    "\n",
    "all_scores = pd.DataFrame(\n",
    "    [test_score_no_shuffling, test_score_with_shuffling],\n",
    "    index=[\"KFold without shuffling\", \"KFold with shuffling\"],\n",
    ").T"
   ]
  },
  {
   "cell_type": "markdown",
   "metadata": {},
   "source": [
    "Let's now plot the score distributions."
   ]
  },
  {
   "cell_type": "code",
   "execution_count": 6,
   "metadata": {},
   "outputs": [
    {
     "data": {
      "image/png": "[encoded data removed]",
      "text/plain": [
       "<Figure size 640x480 with 1 Axes>"
      ]
     },
     "metadata": {},
     "output_type": "display_data"
    }
   ],
   "source": [
    "import matplotlib.pyplot as plt\n",
    "\n",
    "all_scores.plot.hist(bins=16, edgecolor=\"black\", alpha=0.7)\n",
    "plt.xlim([0.8, 1.0])\n",
    "plt.xlabel(\"Accuracy score\")\n",
    "plt.legend(bbox_to_anchor=(1.05, 0.8), loc=\"upper left\")\n",
    "_ = plt.title(\"Distribution of the test scores\")"
   ]
  },
  {
   "cell_type": "markdown",
   "metadata": {},
   "source": [
    "Shuffling the data results in a higher cross-validated test accuracy with less\n",
    "variance compared to when the data is not shuffled. It means that some\n",
    "specific fold leads to a low score in this case."
   ]
  },
  {
   "cell_type": "code",
   "execution_count": 7,
   "metadata": {},
   "outputs": [
    {
     "name": "stdout",
     "output_type": "stream",
     "text": [
      "[0.94166667 0.89722222 0.94707521 0.96657382 0.90250696]\n"
     ]
    }
   ],
   "source": [
    "print(test_score_no_shuffling)"
   ]
  },
  {
   "cell_type": "markdown",
   "metadata": {},
   "source": [
    "Thus, shuffling the data breaks the underlying structure and thus makes the\n",
    "classification task easier to our model. To get a better understanding, we can\n",
    "read the dataset description in more detail:"
   ]
  },
  {
   "cell_type": "markdown",
   "id": "5fd3f194",
   "metadata": {},
   "source": [
    "## Understanding Data Leakage\n",
    "\n",
    "**What just happened?** We've encountered a classic case of **data leakage** - a situation where information from the test set inadvertently influences the model during training.\n",
    "\n",
    "### The Hidden Structure\n",
    "When we shuffle the data, we're breaking apart natural groupings. If samples from the same group (in this case, the same writer) appear in both training and test sets, our model learns to recognize writer-specific patterns rather than general digit recognition patterns. This leads to:\n",
    "\n",
    "1. **Overly optimistic performance estimates**: The model appears to perform better than it actually would on truly new data\n",
    "2. **Poor generalization**: The model fails when encountering digits from completely new writers\n",
    "3. **Misleading conclusions**: We might think our model is production-ready when it's not\n",
    "\n",
    "This is why understanding and respecting the natural structure of your data is crucial for honest model evaluation."
   ]
  },
  {
   "cell_type": "code",
   "execution_count": 8,
   "metadata": {},
   "outputs": [
    {
     "name": "stdout",
     "output_type": "stream",
     "text": [
      ".. _digits_dataset:\n",
      "\n",
      "Optical recognition of handwritten digits dataset\n",
      "--------------------------------------------------\n",
      "\n",
      "**Data Set Characteristics:**\n",
      "\n",
      ":Number of Instances: 1797\n",
      ":Number of Attributes: 64\n",
      ":Attribute Information: 8x8 image of integer pixels in the range 0..16.\n",
      ":Missing Attribute Values: None\n",
      ":Creator: E. Alpaydin (alpaydin '@' boun.edu.tr)\n",
      ":Date: July; 1998\n",
      "\n",
      "This is a copy of the test set of the UCI ML hand-written digits datasets\n",
      "https://archive.ics.uci.edu/ml/datasets/Optical+Recognition+of+Handwritten+Digits\n",
      "\n",
      "The data set contains images of hand-written digits: 10 classes where\n",
      "each class refers to a digit.\n",
      "\n",
      "Preprocessing programs made available by NIST were used to extract\n",
      "normalized bitmaps of handwritten digits from a preprinted form. From a\n",
      "total of 43 people, 30 contributed to the training set and different 13\n",
      "to the test set. 32x32 bitmaps are divided into nonoverlapping blocks of\n",
      "4x4 and the number of on pixels are counted in each block. This generates\n",
      "an input matrix of 8x8 where each element is an integer in the range\n",
      "0..16. This reduces dimensionality and gives invariance to small\n",
      "distortions.\n",
      "\n",
      "For info on NIST preprocessing routines, see M. D. Garris, J. L. Blue, G.\n",
      "T. Candela, D. L. Dimmick, J. Geist, P. J. Grother, S. A. Janet, and C.\n",
      "L. Wilson, NIST Form-Based Handprint Recognition System, NISTIR 5469,\n",
      "1994.\n",
      "\n",
      ".. dropdown:: References\n",
      "\n",
      "  - C. Kaynak (1995) Methods of Combining Multiple Classifiers and Their\n",
      "    Applications to Handwritten Digit Recognition, MSc Thesis, Institute of\n",
      "    Graduate Studies in Science and Engineering, Bogazici University.\n",
      "  - E. Alpaydin, C. Kaynak (1998) Cascading Classifiers, Kybernetika.\n",
      "  - Ken Tang and Ponnuthurai N. Suganthan and Xi Yao and A. Kai Qin.\n",
      "    Linear dimensionalityreduction using relevance weighted LDA. School of\n",
      "    Electrical and Electronic Engineering Nanyang Technological University.\n",
      "    2005.\n",
      "  - Claudio Gentile. A New Approximate Maximal Margin Classification\n",
      "    Algorithm. NIPS. 2000.\n",
      "\n"
     ]
    }
   ],
   "source": [
    "print(digits.DESCR)"
   ]
  },
  {
   "cell_type": "markdown",
   "metadata": {},
   "source": [
    "If we read carefully, `load_digits` loads a copy of the **test set** of the\n",
    "UCI ML hand-written digits dataset, which consists of 1797 images by\n",
    "**13 different writers**. Thus, each writer wrote several times the same\n",
    "numbers. Let's suppose the dataset is ordered by writer. Subsequently,\n",
    "not shuffling the data will keep all writer samples together either in the\n",
    "training or the testing sets. Mixing the data will break this structure, and\n",
    "therefore digits written by the same writer will be available in both the\n",
    "training and testing sets.\n",
    "\n",
    "Besides, a writer will usually tend to write digits in the same manner. Thus,\n",
    "our model will learn to identify a writer's pattern for each digit instead of\n",
    "recognizing the digit itself.\n",
    "\n",
    "We can solve this problem by ensuring that the data associated with a writer\n",
    "should either belong to the training or the testing set. Thus, we want to\n",
    "group samples for each writer.\n",
    "\n",
    "Indeed, we can recover the groups by looking at the target variable."
   ]
  },
  {
   "cell_type": "code",
   "execution_count": 9,
   "metadata": {},
   "outputs": [
    {
     "data": {
      "text/plain": [
       "array([0, 1, 2, 3, 4, 5, 6, 7, 8, 9, 0, 1, 2, 3, 4, 5, 6, 7, 8, 9, 0, 1,\n",
       "       2, 3, 4, 5, 6, 7, 8, 9, 0, 9, 5, 5, 6, 5, 0, 9, 8, 9, 8, 4, 1, 7,\n",
       "       7, 3, 5, 1, 0, 0, 2, 2, 7, 8, 2, 0, 1, 2, 6, 3, 3, 7, 3, 3, 4, 6,\n",
       "       6, 6, 4, 9, 1, 5, 0, 9, 5, 2, 8, 2, 0, 0, 1, 7, 6, 3, 2, 1, 7, 4,\n",
       "       6, 3, 1, 3, 9, 1, 7, 6, 8, 4, 3, 1, 4, 0, 5, 3, 6, 9, 6, 1, 7, 5,\n",
       "       4, 4, 7, 2, 8, 2, 2, 5, 7, 9, 5, 4, 8, 8, 4, 9, 0, 8, 9, 8, 0, 1,\n",
       "       2, 3, 4, 5, 6, 7, 8, 9, 0, 1, 2, 3, 4, 5, 6, 7, 8, 9, 0, 1, 2, 3,\n",
       "       4, 5, 6, 7, 8, 9, 0, 9, 5, 5, 6, 5, 0, 9, 8, 9, 8, 4, 1, 7, 7, 3,\n",
       "       5, 1, 0, 0, 2, 2, 7, 8, 2, 0, 1, 2, 6, 3, 3, 7, 3, 3, 4, 6, 6, 6,\n",
       "       4, 9])"
      ]
     },
     "execution_count": 9,
     "metadata": {},
     "output_type": "execute_result"
    }
   ],
   "source": [
    "target[:200]"
   ]
  },
  {
   "cell_type": "markdown",
   "metadata": {},
   "source": [
    "\n",
    "It might not be obvious at first, but there is a structure in the target:\n",
    "there is a repetitive pattern that always starts by some series of ordered\n",
    "digits from 0 to 9 followed by random digits at a certain point. If we look in\n",
    "detail, we see that there are 14 such patterns, always with around 130 samples\n",
    "each.\n",
    "\n",
    "Even if it is not exactly corresponding to the 13 writers in the documentation\n",
    "(maybe one writer wrote two series of digits), we can make the hypothesis that\n",
    "each of these patterns corresponds to a different writer and thus a different\n",
    "group."
   ]
  },
  {
   "cell_type": "markdown",
   "id": "462f71d5",
   "metadata": {},
   "source": [
    "## Discovering the Group Structure\n",
    "\n",
    "Let's investigate the structure hidden in our target variable. Understanding this structure is key to implementing proper cross-validation."
   ]
  },
  {
   "cell_type": "code",
   "execution_count": 10,
   "metadata": {},
   "outputs": [],
   "source": [
    "from itertools import count\n",
    "import numpy as np\n",
    "\n",
    "# defines the lower and upper bounds of sample indices\n",
    "# for each writer\n",
    "writer_boundaries = [\n",
    "    0,\n",
    "    130,\n",
    "    256,\n",
    "    386,\n",
    "    516,\n",
    "    646,\n",
    "    776,\n",
    "    915,\n",
    "    1029,\n",
    "    1157,\n",
    "    1287,\n",
    "    1415,\n",
    "    1545,\n",
    "    1667,\n",
    "    1797,\n",
    "]\n",
    "groups = np.zeros_like(target)\n",
    "lower_bounds = writer_boundaries[:-1]\n",
    "upper_bounds = writer_boundaries[1:]\n",
    "\n",
    "for group_id, lb, up in zip(count(), lower_bounds, upper_bounds):\n",
    "    groups[lb:up] = group_id"
   ]
  },
  {
   "cell_type": "markdown",
   "metadata": {},
   "source": [
    "We can check the grouping by plotting the indices linked to writers' ids."
   ]
  },
  {
   "cell_type": "code",
   "execution_count": 11,
   "metadata": {},
   "outputs": [
    {
     "data": {
      "image/png": "[encoded data removed]",
      "text/plain": [
       "<Figure size 640x480 with 1 Axes>"
      ]
     },
     "metadata": {},
     "output_type": "display_data"
    }
   ],
   "source": [
    "plt.plot(groups)\n",
    "plt.yticks(np.unique(groups))\n",
    "plt.xticks(writer_boundaries, rotation=90)\n",
    "plt.xlabel(\"Target index\")\n",
    "plt.ylabel(\"Writer index\")\n",
    "_ = plt.title(\"Underlying writer groups existing in the target\")"
   ]
  },
  {
   "cell_type": "markdown",
   "metadata": {},
   "source": [
    "Once we group the digits by writer, we can incorporate this information into\n",
    "the cross-validation process by using group-aware variations of the strategies\n",
    "we have explored in this course, for example, the `GroupKFold` strategy."
   ]
  },
  {
   "cell_type": "markdown",
   "id": "c5a1c3be",
   "metadata": {},
   "source": [
    "## Experiment 2: Group-Aware Cross-Validation\n",
    "\n",
    "Now we'll implement the proper solution: **Group-Aware Cross-Validation**. This ensures that all samples from the same writer are kept together in either the training or testing set, but never split between them."
   ]
  },
  {
   "cell_type": "code",
   "execution_count": 12,
   "metadata": {},
   "outputs": [
    {
     "name": "stdout",
     "output_type": "stream",
     "text": [
      "The average accuracy is 0.921 ± 0.021\n"
     ]
    }
   ],
   "source": [
    "from sklearn.model_selection import GroupKFold\n",
    "\n",
    "cv = GroupKFold()\n",
    "test_score = cross_val_score(\n",
    "    model, data, target, groups=groups, cv=cv, n_jobs=2\n",
    ")\n",
    "print(\n",
    "    f\"The average accuracy is {test_score.mean():.3f} ± {test_score.std():.3f}\"\n",
    ")"
   ]
  },
  {
   "cell_type": "markdown",
   "metadata": {},
   "source": [
    "We see that this strategy leads to a lower generalization performance than the\n",
    "other two techniques. However, this is the most reliable estimate if our goal\n",
    "is to evaluate the capabilities of the model to generalize to new unseen\n",
    "writers. In this sense, shuffling the dataset (or alternatively using the\n",
    "writers' ids as a new feature) would lead the model to memorize the different\n",
    "writer's particular handwriting."
   ]
  },
  {
   "cell_type": "markdown",
   "id": "d6149fa7",
   "metadata": {},
   "source": [
    "## Interpreting the Results\n",
    "\n",
    "**The Reality Check**: Notice that GroupKFold gives us the lowest performance estimate. This might seem disappointing, but it's actually the most **honest and reliable** estimate of how our model will perform in the real world.\n",
    "\n",
    "### Why the Lower Score is Actually Better\n",
    "- **Honest evaluation**: This score reflects how the model will perform on digits from completely new writers\n",
    "- **Real-world relevance**: In practice, you'll encounter handwriting from people your model has never seen before\n",
    "- **Prevents overconfidence**: You won't deploy a model thinking it has 95% accuracy when it really has 85%\n",
    "\n",
    "### The Danger of Optimistic Estimates\n",
    "If you used the shuffled cross-validation results:\n",
    "- You might deploy a model expecting 95% accuracy\n",
    "- In production, you'd see ~85% accuracy\n",
    "- This gap could be critical in applications like medical diagnosis or financial decisions"
   ]
  },
  {
   "cell_type": "code",
   "execution_count": 13,
   "metadata": {},
   "outputs": [],
   "source": [
    "all_scores = pd.DataFrame(\n",
    "    [test_score_no_shuffling, test_score_with_shuffling, test_score],\n",
    "    index=[\n",
    "        \"KFold without shuffling\",\n",
    "        \"KFold with shuffling\",\n",
    "        \"KFold with groups\",\n",
    "    ],\n",
    ").T"
   ]
  },
  {
   "cell_type": "code",
   "execution_count": 14,
   "metadata": {},
   "outputs": [
    {
     "data": {
      "image/png": "[encoded data removed]",
      "text/plain": [
       "<Figure size 640x480 with 1 Axes>"
      ]
     },
     "metadata": {},
     "output_type": "display_data"
    }
   ],
   "source": [
    "all_scores.plot.hist(bins=16, edgecolor=\"black\", alpha=0.7)\n",
    "plt.xlim([0.8, 1.0])\n",
    "plt.xlabel(\"Accuracy score\")\n",
    "plt.legend(bbox_to_anchor=(1.05, 0.8), loc=\"upper left\")\n",
    "_ = plt.title(\"Distribution of the test scores\")"
   ]
  },
  {
   "cell_type": "markdown",
   "metadata": {},
   "source": [
    "## Key Takeaways and When to Use Grouping\n",
    "\n",
    "### Essential Concepts\n",
    "1. **Data Leakage Prevention**: Group-aware CV prevents information leakage between training and test sets\n",
    "2. **Realistic Performance Estimates**: Lower but honest scores are better than optimistic but misleading ones\n",
    "3. **Structure Matters**: Always investigate the natural structure of your data before choosing a CV strategy\n",
    "\n",
    "### When Should You Consider Grouping?\n",
    "\n",
    "**Definitely use grouping when you have:**\n",
    "- **Time series data**: Multiple measurements from the same time period or entity\n",
    "- **Medical data**: Multiple samples/visits from the same patient\n",
    "- **Image data**: Multiple images from the same person, object, or scene\n",
    "- **Text data**: Multiple documents from the same author or source\n",
    "- **Sensor data**: Multiple readings from the same device or location\n",
    "- **Financial data**: Multiple transactions from the same customer or account\n",
    "\n",
    "**Questions to ask yourself:**\n",
    "- Are there natural clusters or relationships in my data?\n",
    "- Could samples from the same source appear in both training and test sets?\n",
    "- Does my model need to generalize to completely new entities/sources?\n",
    "- Would domain experts consider certain samples as \"related\"?\n",
    "\n",
    "### Other Group-Aware Strategies\n",
    "Besides `GroupKFold`, scikit-learn provides:\n",
    "- `LeaveOneGroupOut`: Use each group as a test set once\n",
    "- `LeavePGroupsOut`: Use P groups as test set in each fold  \n",
    "- `GroupShuffleSplit`: Random sampling while respecting groups\n",
    "- `StratifiedGroupKFold`: Stratified sampling with group constraints\n",
    "\n",
    "### Real-World Impact\n",
    "Proper cross-validation with grouping:\n",
    "- ✅ Provides reliable performance estimates\n",
    "- ✅ Prevents deployment of overoptimistic models  \n",
    "- ✅ Builds trust in machine learning systems\n",
    "- ✅ Reduces the risk of model failures in production\n",
    "\n",
    "Remember: **It's better to have a realistic estimate of 85% accuracy than a misleading estimate of 95% accuracy!**\n",
    "\n",
    "The interested reader can learn about other group-aware cross-validation techniques in the [scikit-learn user guide](https://scikit-learn.org/stable/modules/cross_validation.html#cross-validation-iterators-for-grouped-data)."
   ]
  },
  {
   "cell_type": "markdown",
   "id": "30418f93",
   "metadata": {},
   "source": [
    "## Practice Exercise for Students\n",
    "\n",
    "**Try This Yourself:**\n",
    "1. Think of a dataset from your field of study or interest\n",
    "2. Identify potential grouping structures in that data\n",
    "3. Consider how ignoring these groups could lead to data leakage\n",
    "4. Discuss with your peers what the real-world consequences might be\n",
    "\n",
    "**Reflection Questions:**\n",
    "- How would you explain the importance of grouping to a project stakeholder?\n",
    "- What questions would you ask a domain expert to identify potential groups?\n",
    "- How might the consequences of overoptimistic estimates differ across industries (healthcare, finance, autonomous vehicles, etc.)?"
   ]
  }
 ],
 "metadata": {
  "jupytext": {
   "main_language": "python"
  },
  "kernelspec": {
   "display_name": "dev1",
   "language": "python",
   "name": "python3"
  },
  "language_info": {
   "codemirror_mode": {
    "name": "ipython",
    "version": 3
   },
   "file_extension": ".py",
   "mimetype": "text/x-python",
   "name": "python",
   "nbconvert_exporter": "python",
   "pygments_lexer": "ipython3",
   "version": "3.12.11"
  }
 },
 "nbformat": 4,
 "nbformat_minor": 5
}
