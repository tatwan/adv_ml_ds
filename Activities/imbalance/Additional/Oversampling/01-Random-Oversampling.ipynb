{
 "cells": [
  {
   "cell_type": "markdown",
   "metadata": {},
   "source": [
    "# Random Over-sampling\n",
    "\n",
    "Random over-sampling consists in extracting at random samples from the minority class, until they reach a certain proportion compared to the majority class, typically 50:50, or in other words, a balancing ratio of 1.\n",
    "\n",
    "In Random over-sampling, we extract samples from the minority class at random, with replacement."
   ]
  },
  {
   "cell_type": "code",
   "execution_count": null,
   "metadata": {},
   "outputs": [],
   "source": [
    "import pandas as pd\n",
    "import matplotlib.pyplot as plt\n",
    "import seaborn as sns\n",
    "\n",
    "from sklearn.datasets import make_blobs\n",
    "from imblearn.over_sampling import RandomOverSampler"
   ]
  },
  {
   "cell_type": "markdown",
   "metadata": {},
   "source": [
    "## Create data\n",
    "\n",
    "https://scikit-learn.org/stable/modules/generated/sklearn.datasets.make_blobs.html\n",
    "\n",
    "We will create 2 classes, one majority one minority, clearly separated to facilitate the demonstration."
   ]
  },
  {
   "cell_type": "code",
   "execution_count": null,
   "metadata": {},
   "outputs": [],
   "source": [
    "# Configuration options\n",
    "blobs_random_seed = 42\n",
    "centers = [(0, 0), (5, 5)]\n",
    "cluster_std = 1.5\n",
    "num_features_for_samples = 2\n",
    "num_samples_total = 1600\n",
    "\n",
    "# Generate X\n",
    "X, y = make_blobs(\n",
    "    n_samples=num_samples_total,\n",
    "    centers=centers,\n",
    "    n_features=num_features_for_samples,\n",
    "    cluster_std=cluster_std)\n",
    "\n",
    "# transform arrays to pandas formats\n",
    "X = pd.DataFrame(X, columns=['VarA', 'VarB'])\n",
    "y = pd.Series(y)\n",
    "\n",
    "# create an imbalancced Xset\n",
    "# (make blobs creates same number of obs per class\n",
    "# we need to downsample manually)\n",
    "X = pd.concat([\n",
    "    X[y == 0],\n",
    "    X[y == 1].sample(200, random_state=42)\n",
    "], axis=0)\n",
    "\n",
    "y = y.loc[X.index]\n",
    "\n",
    "# display size\n",
    "X.shape, y.shape"
   ]
  },
  {
   "cell_type": "code",
   "execution_count": null,
   "metadata": {},
   "outputs": [],
   "source": [
    "X.head()"
   ]
  },
  {
   "cell_type": "code",
   "execution_count": null,
   "metadata": {},
   "outputs": [],
   "source": [
    "sns.scatterplot(\n",
    "    data=X, x=\"VarA\", y=\"VarB\", hue=y, alpha=0.5\n",
    ")\n",
    "\n",
    "plt.title('Toy dataset')\n",
    "plt.show()"
   ]
  },
  {
   "cell_type": "markdown",
   "metadata": {},
   "source": [
    "## Random Over-sampling\n",
    "\n",
    "[RandomOverSampler](https://imbalanced-learn.org/stable/references/generated/imblearn.over_sampling.RandomOverSampler.html)\n",
    "\n",
    "\n",
    "Selects samples from the minority class at random, with replacement, until we have as many observations as those in the majority class (or any other balancing ratio we wish)."
   ]
  },
  {
   "cell_type": "code",
   "execution_count": null,
   "metadata": {},
   "outputs": [],
   "source": [
    "ros = RandomOverSampler(\n",
    "    sampling_strategy='auto', # samples only the minority class\n",
    "    random_state=0,  # for reproducibility\n",
    ")  \n",
    "\n",
    "X_res, y_res = ros.fit_resample(X, y)"
   ]
  },
  {
   "cell_type": "code",
   "execution_count": null,
   "metadata": {},
   "outputs": [],
   "source": [
    "# size of original data\n",
    "\n",
    "X.shape, y.shape"
   ]
  },
  {
   "cell_type": "code",
   "execution_count": null,
   "metadata": {},
   "outputs": [],
   "source": [
    "# size of undersampled data\n",
    "\n",
    "X_res.shape, y_res.shape"
   ]
  },
  {
   "cell_type": "code",
   "execution_count": null,
   "metadata": {},
   "outputs": [],
   "source": [
    "# number of minority class observations\n",
    "\n",
    "y.value_counts(), y_res.value_counts()"
   ]
  },
  {
   "cell_type": "code",
   "execution_count": null,
   "metadata": {},
   "outputs": [],
   "source": [
    "# plot of original data\n",
    "\n",
    "sns.scatterplot(\n",
    "    data=X, x=\"VarA\", y=\"VarB\", hue=y,alpha=0.5\n",
    ")\n",
    "\n",
    "plt.title('Original dataset')\n",
    "plt.show()"
   ]
  },
  {
   "cell_type": "code",
   "execution_count": null,
   "metadata": {},
   "outputs": [],
   "source": [
    "# plot of resampled data\n",
    "\n",
    "sns.scatterplot(\n",
    "    data=X_res, x=\"VarA\", y=\"VarB\", hue=y_res, alpha=0.5\n",
    ")\n",
    "\n",
    "plt.title('Over-sampled dataset')\n",
    "plt.show()"
   ]
  },
  {
   "cell_type": "markdown",
   "metadata": {},
   "source": [
    "The reason why we do not see as if there were more observations from the minority, is because they are identical to the other ones, so they are plotted on top. We notice there are more, because the orange colour is darker."
   ]
  },
  {
   "cell_type": "markdown",
   "metadata": {},
   "source": [
    "**HOMEWORK**\n",
    "\n",
    "- Test Random Over-sampling in one of the datasets from imbalanced-learn and make some plots of variables highlighting the minority class to play and visualize the outcome better. \n",
    "\n",
    "- Change the parameter strategy in the current notebook to attain different proportions of minority class."
   ]
  },
  {
   "cell_type": "markdown",
   "metadata": {},
   "source": [
    "# Multiclass\n",
    "\n",
    "## Create data"
   ]
  },
  {
   "cell_type": "code",
   "execution_count": null,
   "metadata": {},
   "outputs": [],
   "source": [
    "# Create some toy data\n",
    "\n",
    "# Configuration options\n",
    "blobs_random_seed = 42\n",
    "centers = [(0, 0), (5, 5), [-1, 5]]\n",
    "cluster_std = 1.5\n",
    "num_features_for_samples = 2\n",
    "num_samples_total = 1600\n",
    "\n",
    "# Generate X\n",
    "X, y = make_blobs(\n",
    "    n_samples=num_samples_total,\n",
    "    centers=centers,\n",
    "    n_features=num_features_for_samples,\n",
    "    cluster_std=cluster_std,\n",
    ")\n",
    "\n",
    "# transform arrays to pandas formats\n",
    "X = pd.DataFrame(X, columns=['VarA', 'VarB'])\n",
    "y = pd.Series(y)\n",
    "\n",
    "# create an imbalancced Xset\n",
    "# (make blobs creates same number of obs per class\n",
    "# we need to downsample manually)\n",
    "X = pd.concat([\n",
    "    X[y == 0],\n",
    "    X[y == 1].sample(100, random_state=42),\n",
    "    X[y == 2].sample(100, random_state=42)\n",
    "], axis=0)\n",
    "\n",
    "y = y.loc[X.index]\n",
    "\n",
    "sns.scatterplot(\n",
    "    data=X, x=\"VarA\", y=\"VarB\", hue=y, alpha=0.5\n",
    ")\n",
    "\n",
    "plt.title('Toy dataset')\n",
    "plt.show()"
   ]
  },
  {
   "cell_type": "code",
   "execution_count": null,
   "metadata": {},
   "outputs": [],
   "source": [
    "y.value_counts()"
   ]
  },
  {
   "cell_type": "markdown",
   "metadata": {},
   "source": [
    "## Oversampling"
   ]
  },
  {
   "cell_type": "code",
   "execution_count": null,
   "metadata": {},
   "outputs": [],
   "source": [
    "# option 1: oversample all but majority class\n",
    "\n",
    "ros = RandomOverSampler(\n",
    "    sampling_strategy='not majority', # samples all but majority class\n",
    "    random_state=0,  # for reproducibility\n",
    ")  \n",
    "\n",
    "X_res, y_res = ros.fit_resample(X, y)\n",
    "\n",
    "# plot of resampled data\n",
    "\n",
    "sns.scatterplot(\n",
    "    data=X_res, x=\"VarA\", y=\"VarB\", hue=y_res, alpha=0.5\n",
    ")\n",
    "\n",
    "plt.title('Over-sampled dataset')\n",
    "plt.show()"
   ]
  },
  {
   "cell_type": "code",
   "execution_count": null,
   "metadata": {},
   "outputs": [],
   "source": [
    "y_res.value_counts()"
   ]
  },
  {
   "cell_type": "code",
   "execution_count": null,
   "metadata": {},
   "outputs": [],
   "source": [
    "# option 2: specify which classes to oversample\n",
    "\n",
    "ros = RandomOverSampler(\n",
    "    sampling_strategy={1:500, 2:500}, # we specify what to oversample\n",
    "    random_state=0,  # for reproducibility\n",
    ")  \n",
    "\n",
    "X_res, y_res = ros.fit_resample(X, y)\n",
    "\n",
    "# plot of resampled data\n",
    "\n",
    "sns.scatterplot(\n",
    "    data=X_res, x=\"VarA\", y=\"VarB\", hue=y_res, alpha=0.5\n",
    ")\n",
    "\n",
    "plt.title('Over-sampled dataset')\n",
    "plt.show()"
   ]
  },
  {
   "cell_type": "code",
   "execution_count": null,
   "metadata": {},
   "outputs": [],
   "source": [
    "y_res.value_counts()"
   ]
  },
  {
   "cell_type": "code",
   "execution_count": null,
   "metadata": {},
   "outputs": [],
   "source": []
  },
  {
   "cell_type": "code",
   "execution_count": null,
   "metadata": {},
   "outputs": [],
   "source": []
  }
 ],
 "metadata": {
  "kernelspec": {
   "display_name": "dev1",
   "language": "python",
   "name": "python3"
  },
  "language_info": {
   "codemirror_mode": {
    "name": "ipython",
    "version": 3
   },
   "file_extension": ".py",
   "mimetype": "text/x-python",
   "name": "python",
   "nbconvert_exporter": "python",
   "pygments_lexer": "ipython3",
   "version": "3.12.11"
  },
  "toc": {
   "base_numbering": 1,
   "nav_menu": {},
   "number_sections": true,
   "sideBar": true,
   "skip_h1_title": false,
   "title_cell": "Table of Contents",
   "title_sidebar": "Contents",
   "toc_cell": false,
   "toc_position": {},
   "toc_section_display": true,
   "toc_window_display": true
  }
 },
 "nbformat": 4,
 "nbformat_minor": 4
}
