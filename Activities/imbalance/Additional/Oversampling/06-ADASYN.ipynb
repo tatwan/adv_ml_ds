{
 "cells": [
  {
   "cell_type": "markdown",
   "metadata": {},
   "source": [
    "# ADASYN\n",
    "\n",
    "\n",
    "Creates new samples by interpolation of samples of the minority class and its closest neighbours. It creates more samples from samples that are harder to classify."
   ]
  },
  {
   "cell_type": "code",
   "execution_count": null,
   "metadata": {},
   "outputs": [],
   "source": [
    "import pandas as pd\n",
    "import matplotlib.pyplot as plt\n",
    "import seaborn as sns\n",
    "\n",
    "from sklearn.datasets import make_blobs\n",
    "from imblearn.over_sampling import ADASYN"
   ]
  },
  {
   "cell_type": "markdown",
   "metadata": {},
   "source": [
    "## Create data\n",
    "\n",
    "https://scikit-learn.org/stable/modules/generated/sklearn.datasets.make_blobs.html\n",
    "\n",
    "We will create 2 classes, one majority one minority, clearly separated to facilitate the demonstration."
   ]
  },
  {
   "cell_type": "code",
   "execution_count": null,
   "metadata": {},
   "outputs": [],
   "source": [
    "# Configuration options\n",
    "blobs_random_seed = 42\n",
    "centers = [(0, 0), (5, 5)]\n",
    "cluster_std = 1.5\n",
    "num_features_for_samples = 2\n",
    "num_samples_total = 1600\n",
    "\n",
    "# Generate X\n",
    "X, y = make_blobs(\n",
    "    n_samples=num_samples_total,\n",
    "    centers=centers,\n",
    "    n_features=num_features_for_samples,\n",
    "    cluster_std=cluster_std)\n",
    "\n",
    "# transform arrays to pandas formats\n",
    "X = pd.DataFrame(X, columns=['VarA', 'VarB'])\n",
    "y = pd.Series(y)\n",
    "\n",
    "# create an imbalancced Xset\n",
    "# (make blobs creates same number of obs per class\n",
    "# we need to downsample manually)\n",
    "X = pd.concat([\n",
    "    X[y == 0],\n",
    "    X[y == 1].sample(200, random_state=42)\n",
    "], axis=0)\n",
    "\n",
    "y = y.loc[X.index]\n",
    "\n",
    "# display size\n",
    "X.shape, y.shape"
   ]
  },
  {
   "cell_type": "code",
   "execution_count": null,
   "metadata": {},
   "outputs": [],
   "source": [
    "sns.scatterplot(\n",
    "    data=X, x=\"VarA\", y=\"VarB\", hue=y, alpha=0.5\n",
    ")\n",
    "\n",
    "plt.title('Toy dataset')\n",
    "plt.show()"
   ]
  },
  {
   "cell_type": "markdown",
   "metadata": {},
   "source": [
    "## ADASYN\n",
    "\n",
    "[ADASYN](https://imbalanced-learn.org/stable/references/generated/imblearn.over_sampling.ADASYN.html)"
   ]
  },
  {
   "cell_type": "code",
   "execution_count": null,
   "metadata": {},
   "outputs": [],
   "source": [
    "ada = ADASYN(\n",
    "    sampling_strategy='auto',  # samples only the minority class\n",
    "    random_state=0,  # for reproducibility\n",
    "    n_neighbors=5,\n",
    ")\n",
    "\n",
    "X_res, y_res = ada.fit_resample(X, y)"
   ]
  },
  {
   "cell_type": "code",
   "execution_count": null,
   "metadata": {},
   "outputs": [],
   "source": [
    "# size of original data\n",
    "\n",
    "X.shape, y.shape"
   ]
  },
  {
   "cell_type": "code",
   "execution_count": null,
   "metadata": {},
   "outputs": [],
   "source": [
    "# size of undersampled data\n",
    "\n",
    "X_res.shape, y_res.shape"
   ]
  },
  {
   "cell_type": "code",
   "execution_count": null,
   "metadata": {},
   "outputs": [],
   "source": [
    "# number of minority class observations\n",
    "\n",
    "y.value_counts(), y_res.value_counts()"
   ]
  },
  {
   "cell_type": "code",
   "execution_count": null,
   "metadata": {},
   "outputs": [],
   "source": [
    "# plot of original data\n",
    "\n",
    "sns.scatterplot(\n",
    "    data=X, x=\"VarA\", y=\"VarB\", hue=y,alpha=0.5\n",
    ")\n",
    "\n",
    "plt.title('Original dataset')\n",
    "plt.show()"
   ]
  },
  {
   "cell_type": "code",
   "execution_count": null,
   "metadata": {},
   "outputs": [],
   "source": [
    "# plot of original data\n",
    "\n",
    "sns.scatterplot(\n",
    "    data=X_res, x=\"VarA\", y=\"VarB\", hue=y_res, alpha=0.5\n",
    ")\n",
    "\n",
    "plt.title('Over-sampled dataset')\n",
    "plt.show()"
   ]
  },
  {
   "cell_type": "markdown",
   "metadata": {},
   "source": [
    "There are now new observations that differ from the original ones. New observations sit at the boundary between the classes."
   ]
  },
  {
   "cell_type": "markdown",
   "metadata": {},
   "source": [
    "**HOMEWORK**\n",
    "\n",
    "- Test ADASYN using the toy datasets that we created for section 4 and see how the distribution of the newly created data varies with the different separateness of the classes. "
   ]
  },
  {
   "cell_type": "code",
   "execution_count": null,
   "metadata": {},
   "outputs": [],
   "source": []
  }
 ],
 "metadata": {
  "kernelspec": {
   "display_name": "dev1",
   "language": "python",
   "name": "python3"
  },
  "language_info": {
   "codemirror_mode": {
    "name": "ipython",
    "version": 3
   },
   "file_extension": ".py",
   "mimetype": "text/x-python",
   "name": "python",
   "nbconvert_exporter": "python",
   "pygments_lexer": "ipython3",
   "version": "3.12.11"
  },
  "toc": {
   "base_numbering": 1,
   "nav_menu": {},
   "number_sections": true,
   "sideBar": true,
   "skip_h1_title": false,
   "title_cell": "Table of Contents",
   "title_sidebar": "Contents",
   "toc_cell": false,
   "toc_position": {},
   "toc_section_display": true,
   "toc_window_display": true
  }
 },
 "nbformat": 4,
 "nbformat_minor": 4
}
