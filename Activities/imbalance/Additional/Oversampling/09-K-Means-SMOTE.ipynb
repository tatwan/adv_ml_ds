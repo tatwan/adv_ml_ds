{
 "cells": [
  {
   "cell_type": "markdown",
   "metadata": {},
   "source": [
    "# K Means-SMOTE\n",
    "\n",
    "\n",
    "Creates new samples by interpolation of samples with SMOTE within selected clusters"
   ]
  },
  {
   "cell_type": "code",
   "execution_count": null,
   "metadata": {},
   "outputs": [],
   "source": [
    "import numpy as np\n",
    "import pandas as pd\n",
    "import matplotlib.pyplot as plt\n",
    "import seaborn as sns\n",
    "\n",
    "from sklearn.datasets import make_blobs\n",
    "from sklearn.cluster import KMeans\n",
    "\n",
    "from imblearn.over_sampling import KMeansSMOTE"
   ]
  },
  {
   "cell_type": "markdown",
   "metadata": {},
   "source": [
    "## Create data\n",
    "\n",
    "https://scikit-learn.org/stable/modules/generated/sklearn.datasets.make_blobs.html\n",
    "\n",
    "We will create 2 classes, one majority one minority, clearly separated to facilitate the demonstration."
   ]
  },
  {
   "cell_type": "code",
   "execution_count": null,
   "metadata": {},
   "outputs": [],
   "source": [
    "# Configuration options\n",
    "blobs_random_seed = 42\n",
    "centers = [(0, 0), (5, 5), (0,5)]\n",
    "cluster_std = 1.5\n",
    "num_features_for_samples = 2\n",
    "num_samples_total = 2100\n",
    "\n",
    "# Generate X\n",
    "X, y = make_blobs(\n",
    "    n_samples=num_samples_total,\n",
    "    centers=centers,\n",
    "    n_features=num_features_for_samples,\n",
    "    cluster_std=cluster_std)\n",
    "\n",
    "# transform arrays to pandas formats\n",
    "X = pd.DataFrame(X, columns=['VarA', 'VarB'])\n",
    "y = pd.Series(y)\n",
    "\n",
    "# different number of samples per blob\n",
    "X = pd.concat([\n",
    "    X[y == 0],\n",
    "    X[y == 1].sample(400, random_state=42),\n",
    "    X[y == 2].sample(100, random_state=42)\n",
    "], axis=0)\n",
    "\n",
    "y = y.loc[X.index]\n",
    "\n",
    "# reset indexes\n",
    "X.reset_index(drop=True, inplace=True)\n",
    "y.reset_index(drop=True, inplace=True)\n",
    "\n",
    "             \n",
    "# create imbalanced target\n",
    "y = pd.concat([\n",
    "    pd.Series(np.random.binomial(1, 0.3, 700)),\n",
    "    pd.Series(np.random.binomial(1, 0.2, 400)),\n",
    "    pd.Series(np.random.binomial(1, 0.1, 100)),\n",
    "], axis=0).reset_index(drop=True)\n",
    "\n",
    "# display size\n",
    "X.shape, y.shape"
   ]
  },
  {
   "cell_type": "code",
   "execution_count": null,
   "metadata": {},
   "outputs": [],
   "source": [
    "y.value_counts()"
   ]
  },
  {
   "cell_type": "code",
   "execution_count": null,
   "metadata": {},
   "outputs": [],
   "source": [
    "sns.scatterplot(\n",
    "    data=X, x=\"VarA\", y=\"VarB\", hue=y, alpha=0.5\n",
    ")\n",
    "\n",
    "plt.title('Toy dataset')\n",
    "plt.show()"
   ]
  },
  {
   "cell_type": "markdown",
   "metadata": {},
   "source": [
    "## K Means SMOTE\n",
    "\n",
    "[KMeansSMOTE](https://imbalanced-learn.org/stable/references/generated/imblearn.over_sampling.KMeansSMOTE.html)"
   ]
  },
  {
   "cell_type": "code",
   "execution_count": null,
   "metadata": {},
   "outputs": [],
   "source": [
    "sm = KMeansSMOTE(\n",
    "    sampling_strategy='auto',  # samples only the minority class\n",
    "    random_state=0,  # for reproducibility\n",
    "    k_neighbors=2,\n",
    "    kmeans_estimator=KMeans(n_clusters=3, random_state=0),\n",
    "    cluster_balance_threshold=0.1,\n",
    "    density_exponent='auto'\n",
    ")\n",
    "\n",
    "X_res, y_res = sm.fit_resample(X, y)"
   ]
  },
  {
   "cell_type": "code",
   "execution_count": null,
   "metadata": {},
   "outputs": [],
   "source": [
    "# size of original data\n",
    "\n",
    "X.shape, y.shape"
   ]
  },
  {
   "cell_type": "code",
   "execution_count": null,
   "metadata": {},
   "outputs": [],
   "source": [
    "# size of undersampled data\n",
    "\n",
    "X_res.shape, y_res.shape"
   ]
  },
  {
   "cell_type": "code",
   "execution_count": null,
   "metadata": {},
   "outputs": [],
   "source": [
    "# number of minority class observations\n",
    "\n",
    "y.value_counts(), y_res.value_counts()"
   ]
  },
  {
   "cell_type": "code",
   "execution_count": null,
   "metadata": {},
   "outputs": [],
   "source": [
    "# plot of original data\n",
    "\n",
    "sns.scatterplot(\n",
    "    data=X, x=\"VarA\", y=\"VarB\", hue=y,alpha=0.5\n",
    ")\n",
    "\n",
    "plt.title('Original dataset')\n",
    "plt.show()"
   ]
  },
  {
   "cell_type": "code",
   "execution_count": null,
   "metadata": {},
   "outputs": [],
   "source": [
    "# plot of original data\n",
    "\n",
    "sns.scatterplot(\n",
    "    data=X_res, x=\"VarA\", y=\"VarB\", hue=y_res, alpha=0.5\n",
    ")\n",
    "\n",
    "plt.title('K-Means SMOTE')\n",
    "plt.show()"
   ]
  },
  {
   "cell_type": "code",
   "execution_count": null,
   "metadata": {},
   "outputs": [],
   "source": []
  },
  {
   "cell_type": "code",
   "execution_count": null,
   "metadata": {},
   "outputs": [],
   "source": []
  }
 ],
 "metadata": {
  "kernelspec": {
   "display_name": "dev1",
   "language": "python",
   "name": "python3"
  },
  "language_info": {
   "codemirror_mode": {
    "name": "ipython",
    "version": 3
   },
   "file_extension": ".py",
   "mimetype": "text/x-python",
   "name": "python",
   "nbconvert_exporter": "python",
   "pygments_lexer": "ipython3",
   "version": "3.12.11"
  },
  "toc": {
   "base_numbering": 1,
   "nav_menu": {},
   "number_sections": true,
   "sideBar": true,
   "skip_h1_title": false,
   "title_cell": "Table of Contents",
   "title_sidebar": "Contents",
   "toc_cell": false,
   "toc_position": {},
   "toc_section_display": true,
   "toc_window_display": true
  }
 },
 "nbformat": 4,
 "nbformat_minor": 4
}
