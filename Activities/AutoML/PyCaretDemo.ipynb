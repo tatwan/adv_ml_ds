{
 "cells": [
  {
   "cell_type": "markdown",
   "id": "9d7794cd",
   "metadata": {},
   "source": [
    "# Low-Code AutoML with PyCaret"
   ]
  },
  {
   "cell_type": "code",
   "execution_count": null,
   "id": "ce0fa5f7",
   "metadata": {},
   "outputs": [],
   "source": [
    "!python --version"
   ]
  },
  {
   "cell_type": "code",
   "execution_count": null,
   "id": "8bc8c8ac",
   "metadata": {},
   "outputs": [],
   "source": [
    "import pycaret\n",
    "pycaret.__version__"
   ]
  },
  {
   "cell_type": "markdown",
   "id": "09a5ae15",
   "metadata": {},
   "source": [
    "## Binary Classification"
   ]
  },
  {
   "cell_type": "code",
   "execution_count": null,
   "id": "b8984085",
   "metadata": {},
   "outputs": [],
   "source": [
    "# loading sample dataset from pycaret dataset module\n",
    "from pycaret.datasets import get_data\n",
    "data = get_data('diabetes')"
   ]
  },
  {
   "cell_type": "code",
   "execution_count": null,
   "id": "09c3d94f",
   "metadata": {},
   "outputs": [],
   "source": [
    "data.info()"
   ]
  },
  {
   "cell_type": "code",
   "execution_count": null,
   "id": "696523ad",
   "metadata": {},
   "outputs": [],
   "source": [
    "data['Class variable'].value_counts()"
   ]
  },
  {
   "cell_type": "code",
   "execution_count": null,
   "id": "be65a99e",
   "metadata": {},
   "outputs": [],
   "source": [
    "# import pycaret classification and init setup\n",
    "from pycaret.classification import *\n",
    "s = setup(data, target = 'Class variable', session_id = 123)"
   ]
  },
  {
   "cell_type": "code",
   "execution_count": null,
   "id": "29ed6ed4",
   "metadata": {},
   "outputs": [],
   "source": [
    "# compare baseline models\n",
    "best = compare_models()"
   ]
  },
  {
   "cell_type": "code",
   "execution_count": null,
   "id": "574112b9",
   "metadata": {},
   "outputs": [],
   "source": [
    "best"
   ]
  },
  {
   "cell_type": "code",
   "execution_count": null,
   "id": "2e99d126",
   "metadata": {},
   "outputs": [],
   "source": [
    "# predict on test set\n",
    "holdout_pred = predict_model(best)"
   ]
  },
  {
   "cell_type": "code",
   "execution_count": null,
   "id": "b1e037eb",
   "metadata": {},
   "outputs": [],
   "source": [
    "# show predictions df\n",
    "holdout_pred"
   ]
  },
  {
   "cell_type": "code",
   "execution_count": null,
   "metadata": {},
   "outputs": [],
   "source": [
    "evaluate_model(best)"
   ]
  },
  {
   "cell_type": "code",
   "execution_count": null,
   "id": "304d6b01",
   "metadata": {},
   "outputs": [],
   "source": [
    "# plot confusion matrix\n",
    "plot_model(best, plot = 'confusion_matrix')"
   ]
  },
  {
   "cell_type": "code",
   "execution_count": null,
   "id": "fbd1156b",
   "metadata": {},
   "outputs": [],
   "source": [
    "# plot AUC\n",
    "plot_model(best, plot = 'auc')"
   ]
  },
  {
   "cell_type": "code",
   "execution_count": null,
   "id": "b786634d",
   "metadata": {},
   "outputs": [],
   "source": [
    "evaluate_model(best)"
   ]
  },
  {
   "cell_type": "code",
   "execution_count": null,
   "id": "32502bca",
   "metadata": {},
   "outputs": [],
   "source": [
    "# plot feature importance\n",
    "plot_model(best, plot = 'feature')"
   ]
  },
  {
   "cell_type": "markdown",
   "id": "880fb85e",
   "metadata": {},
   "source": [
    "### Saving and Loading a model"
   ]
  },
  {
   "cell_type": "code",
   "execution_count": null,
   "id": "18ffa4b3",
   "metadata": {},
   "outputs": [],
   "source": [
    "# save pipeline\n",
    "save_model(best, 'diabetes_model')"
   ]
  },
  {
   "cell_type": "code",
   "execution_count": null,
   "id": "acb6c5ac",
   "metadata": {},
   "outputs": [],
   "source": [
    "loaded_model_pipeline = load_model('diabetes_model')\n",
    "loaded_model_pipeline"
   ]
  },
  {
   "cell_type": "code",
   "execution_count": null,
   "id": "d6d172ef",
   "metadata": {},
   "outputs": [],
   "source": [
    "knn = create_model('knn')"
   ]
  },
  {
   "cell_type": "code",
   "execution_count": null,
   "id": "681ea86b",
   "metadata": {},
   "outputs": [],
   "source": [
    "plot_model(knn, plot = 'confusion_matrix')"
   ]
  },
  {
   "cell_type": "code",
   "execution_count": null,
   "id": "b67057a1",
   "metadata": {},
   "outputs": [],
   "source": [
    "s.X_test"
   ]
  },
  {
   "cell_type": "code",
   "execution_count": null,
   "id": "fcf39deb",
   "metadata": {},
   "outputs": [],
   "source": [
    "s.X_test_transformed"
   ]
  },
  {
   "cell_type": "code",
   "execution_count": null,
   "id": "12a12f22",
   "metadata": {},
   "outputs": [],
   "source": [
    "new_data = s.X_test_transformed"
   ]
  },
  {
   "cell_type": "code",
   "execution_count": null,
   "id": "e6dd36e5",
   "metadata": {},
   "outputs": [],
   "source": [
    "knn.predict(new_data)"
   ]
  },
  {
   "cell_type": "code",
   "execution_count": null,
   "id": "0bbb18dc",
   "metadata": {},
   "outputs": [],
   "source": [
    "predict_model(knn)"
   ]
  },
  {
   "cell_type": "code",
   "execution_count": null,
   "id": "464039d7",
   "metadata": {},
   "outputs": [],
   "source": [
    "predict_model(knn, new_data)"
   ]
  },
  {
   "cell_type": "markdown",
   "id": "598a12d4",
   "metadata": {},
   "source": [
    "### Deploying"
   ]
  },
  {
   "cell_type": "code",
   "execution_count": null,
   "id": "a3e630ce",
   "metadata": {},
   "outputs": [],
   "source": [
    "import gradio\n",
    "gradio.__version__"
   ]
  },
  {
   "cell_type": "code",
   "execution_count": null,
   "id": "e98dca6f",
   "metadata": {},
   "outputs": [],
   "source": [
    "create_app(knn)\n"
   ]
  },
  {
   "cell_type": "code",
   "execution_count": null,
   "id": "381612fd",
   "metadata": {},
   "outputs": [],
   "source": [
    "create_api(knn, 'knn_api')"
   ]
  },
  {
   "cell_type": "code",
   "execution_count": null,
   "id": "5b9bb8d2",
   "metadata": {},
   "outputs": [],
   "source": [
    "# create_docker(knn)"
   ]
  },
  {
   "cell_type": "markdown",
   "id": "c0be911e",
   "metadata": {},
   "source": [
    "## Multiclass Classification"
   ]
  },
  {
   "cell_type": "code",
   "execution_count": null,
   "id": "3f0b0e53",
   "metadata": {},
   "outputs": [],
   "source": [
    "# loading sample dataset from pycaret dataset module\n",
    "from pycaret.datasets import get_data\n",
    "data = get_data('iris')"
   ]
  },
  {
   "cell_type": "code",
   "execution_count": null,
   "id": "a6e4fe7b",
   "metadata": {},
   "outputs": [],
   "source": [
    "data['species'].value_counts()"
   ]
  },
  {
   "cell_type": "code",
   "execution_count": null,
   "id": "4d268c59",
   "metadata": {},
   "outputs": [],
   "source": [
    "s = setup(data, target = 'species', session_id = 123)"
   ]
  },
  {
   "cell_type": "code",
   "execution_count": null,
   "id": "7a4d5d37",
   "metadata": {},
   "outputs": [],
   "source": [
    "?compare_models"
   ]
  },
  {
   "cell_type": "code",
   "execution_count": null,
   "id": "bb5f7db1",
   "metadata": {},
   "outputs": [],
   "source": [
    "# compare baseline models\n",
    "best = compare_models(sort='AUC')"
   ]
  },
  {
   "cell_type": "code",
   "execution_count": null,
   "id": "30bb148f",
   "metadata": {},
   "outputs": [],
   "source": [
    "# predict on test set\n",
    "holdout_pred = predict_model(best)\n",
    "holdout_pred.head()"
   ]
  },
  {
   "cell_type": "code",
   "execution_count": null,
   "id": "f51b81ae",
   "metadata": {},
   "outputs": [],
   "source": [
    "help(plot_model)"
   ]
  },
  {
   "cell_type": "code",
   "execution_count": null,
   "id": "0a10e0a1",
   "metadata": {},
   "outputs": [],
   "source": [
    "plot_model(best, plot = 'confusion_matrix')"
   ]
  },
  {
   "cell_type": "code",
   "execution_count": null,
   "id": "244cd383",
   "metadata": {},
   "outputs": [],
   "source": [
    "# plot feature importance\n",
    "plot_model(best, plot = 'feature')"
   ]
  },
  {
   "cell_type": "code",
   "execution_count": null,
   "id": "40aca80b",
   "metadata": {},
   "outputs": [],
   "source": [
    "# save pipeline\n",
    "save_model(best, 'my_iris_prediction')"
   ]
  },
  {
   "cell_type": "code",
   "execution_count": null,
   "id": "d433e3c3",
   "metadata": {},
   "outputs": [],
   "source": [
    "loaded_model_pipeline = load_model('my_iris_prediction')\n",
    "loaded_model_pipeline"
   ]
  },
  {
   "cell_type": "markdown",
   "id": "7229147b",
   "metadata": {},
   "source": [
    "## Regression"
   ]
  },
  {
   "cell_type": "code",
   "execution_count": null,
   "id": "47d8e2c7",
   "metadata": {},
   "outputs": [],
   "source": [
    "from pycaret.regression import *\n",
    "\n",
    "data = get_data('insurance')\n",
    "s = setup(data, target = 'charges', session_id = 123)"
   ]
  },
  {
   "cell_type": "code",
   "execution_count": null,
   "id": "72cf8d08",
   "metadata": {},
   "outputs": [],
   "source": [
    "?compare_models"
   ]
  },
  {
   "cell_type": "code",
   "execution_count": null,
   "id": "aef2ef80",
   "metadata": {},
   "outputs": [],
   "source": [
    "# compare baseline models\n",
    "best = compare_models()"
   ]
  },
  {
   "cell_type": "code",
   "execution_count": null,
   "id": "880dcf0a",
   "metadata": {},
   "outputs": [],
   "source": [
    "# best = create_model('catboost')"
   ]
  },
  {
   "cell_type": "code",
   "execution_count": null,
   "id": "5cd570ad",
   "metadata": {},
   "outputs": [],
   "source": [
    "# predict on test set\n",
    "holdout_pred = predict_model(best)\n",
    "# show predictions df\n",
    "holdout_pred.head()"
   ]
  },
  {
   "cell_type": "code",
   "execution_count": null,
   "id": "ed059d02",
   "metadata": {},
   "outputs": [],
   "source": [
    "plot_model(best, plot = 'residuals')"
   ]
  },
  {
   "cell_type": "code",
   "execution_count": null,
   "id": "ac1861d3",
   "metadata": {},
   "outputs": [],
   "source": [
    "# plot error\n",
    "plot_model(best, plot = 'error')"
   ]
  },
  {
   "cell_type": "code",
   "execution_count": null,
   "id": "ad5eb248",
   "metadata": {},
   "outputs": [],
   "source": [
    "# plot feature importance\n",
    "plot_model(best, plot = 'feature')"
   ]
  },
  {
   "cell_type": "code",
   "execution_count": null,
   "id": "a1d87803",
   "metadata": {},
   "outputs": [],
   "source": [
    "# save pipeline\n",
    "save_model(best, 'regression_model')\n",
    "# load pipeline\n",
    "loaded_model_pipeline = load_model('regression_model')\n",
    "loaded_model_pipeline"
   ]
  },
  {
   "cell_type": "code",
   "execution_count": null,
   "id": "1009dac4",
   "metadata": {},
   "outputs": [],
   "source": [
    "create_app(loaded_model_pipeline)"
   ]
  },
  {
   "cell_type": "markdown",
   "id": "f3e065af",
   "metadata": {},
   "source": [
    "## Clustering"
   ]
  },
  {
   "cell_type": "code",
   "execution_count": null,
   "id": "b45fc821",
   "metadata": {},
   "outputs": [],
   "source": [
    "from pycaret.clustering import *\n",
    "\n",
    "data = get_data('jewellery')"
   ]
  },
  {
   "cell_type": "code",
   "execution_count": null,
   "id": "af4c54ec",
   "metadata": {},
   "outputs": [],
   "source": [
    "s = setup(data, session_id = 123)"
   ]
  },
  {
   "cell_type": "code",
   "execution_count": null,
   "id": "3f1a40f2",
   "metadata": {},
   "outputs": [],
   "source": [
    "models()"
   ]
  },
  {
   "cell_type": "code",
   "execution_count": null,
   "id": "e2fdfe99",
   "metadata": {},
   "outputs": [],
   "source": [
    "# train kmeans model\n",
    "kmeans = create_model('kmeans')"
   ]
  },
  {
   "cell_type": "code",
   "execution_count": null,
   "id": "f22c19a7",
   "metadata": {},
   "outputs": [],
   "source": [
    "dbscan = create_model('birch')"
   ]
  },
  {
   "cell_type": "code",
   "execution_count": null,
   "id": "82ce19f3",
   "metadata": {},
   "outputs": [],
   "source": [
    "kmeans_cluster = assign_model(kmeans)"
   ]
  },
  {
   "cell_type": "code",
   "execution_count": null,
   "id": "34d647ca",
   "metadata": {},
   "outputs": [],
   "source": [
    "kmeans_cluster"
   ]
  },
  {
   "cell_type": "code",
   "execution_count": null,
   "id": "d7176154",
   "metadata": {},
   "outputs": [],
   "source": [
    "kmeans_cluster['Cluster'].value_counts()"
   ]
  },
  {
   "cell_type": "code",
   "execution_count": null,
   "id": "c1f35222",
   "metadata": {},
   "outputs": [],
   "source": [
    "plot_model(kmeans, plot = 'cluster')"
   ]
  },
  {
   "cell_type": "code",
   "execution_count": null,
   "id": "c8319cee",
   "metadata": {},
   "outputs": [],
   "source": [
    "# plot elbow\n",
    "plot_model(kmeans, plot = 'elbow')"
   ]
  },
  {
   "cell_type": "code",
   "execution_count": null,
   "id": "7fdf115d",
   "metadata": {},
   "outputs": [],
   "source": [
    "# plot silhouette\n",
    "plot_model(kmeans, plot = 'silhouette')"
   ]
  },
  {
   "cell_type": "code",
   "execution_count": null,
   "id": "514d622d",
   "metadata": {},
   "outputs": [],
   "source": [
    "# save pipeline\n",
    "save_model(kmeans, 'kmeans_pipeline')"
   ]
  },
  {
   "cell_type": "code",
   "execution_count": null,
   "id": "7ea24539",
   "metadata": {},
   "outputs": [],
   "source": [
    "# load pipeline\n",
    "kmeans_pipeline = load_model('kmeans_pipeline')\n"
   ]
  },
  {
   "cell_type": "code",
   "execution_count": null,
   "id": "83791bfb",
   "metadata": {},
   "outputs": [],
   "source": [
    "plot_model(kmeans_pipeline,  plot = 'cluster')"
   ]
  },
  {
   "cell_type": "markdown",
   "id": "10ec54aa",
   "metadata": {},
   "source": [
    "## Student Activity\n",
    "* Load the credit_data_train.csv \n",
    "* Train a model to predict `credit_risk`\n",
    "* Once model is trained, load the `test_set.csv` \n",
    "* Remove the `credit_risk` in that dataset. This reflects actuals so you can compare how good the model did\n",
    "* Predict using the test_set to get the estimated credit_risk from the model and compare agaist the actuals"
   ]
  },
  {
   "cell_type": "code",
   "execution_count": null,
   "id": "45350411",
   "metadata": {},
   "outputs": [],
   "source": [
    "import pandas as pd"
   ]
  },
  {
   "cell_type": "code",
   "execution_count": null,
   "id": "6b694ed6",
   "metadata": {},
   "outputs": [],
   "source": [
    "df = # YOUR CODE \n",
    "df.head()"
   ]
  },
  {
   "cell_type": "code",
   "execution_count": null,
   "id": "f10ca606",
   "metadata": {},
   "outputs": [],
   "source": [
    "# Check shape of the set"
   ]
  },
  {
   "cell_type": "code",
   "execution_count": null,
   "id": "283b52cd",
   "metadata": {},
   "outputs": [],
   "source": [
    "# Configure your model \n"
   ]
  },
  {
   "cell_type": "code",
   "execution_count": null,
   "id": "be44de8f",
   "metadata": {},
   "outputs": [],
   "source": [
    "# Train a lightgbm model"
   ]
  },
  {
   "cell_type": "code",
   "execution_count": null,
   "id": "f63499a1",
   "metadata": {},
   "outputs": [],
   "source": []
  },
  {
   "cell_type": "code",
   "execution_count": null,
   "id": "7da388a7",
   "metadata": {},
   "outputs": [],
   "source": [
    "# Check the transformation made on the input data set"
   ]
  },
  {
   "cell_type": "code",
   "execution_count": null,
   "id": "0ed71101",
   "metadata": {},
   "outputs": [],
   "source": [
    "# Plot the confusion matrix "
   ]
  },
  {
   "cell_type": "code",
   "execution_count": null,
   "id": "2ae352b4",
   "metadata": {},
   "outputs": [],
   "source": [
    "# Read the test set "
   ]
  },
  {
   "cell_type": "code",
   "execution_count": null,
   "id": "86bfd000",
   "metadata": {},
   "outputs": [],
   "source": [
    "# Predict using the model and compare results"
   ]
  },
  {
   "cell_type": "markdown",
   "id": "60078449",
   "metadata": {},
   "source": [
    "## Time Series"
   ]
  },
  {
   "cell_type": "code",
   "execution_count": null,
   "id": "75358ebc",
   "metadata": {},
   "outputs": [],
   "source": [
    "# load sample dataset\n",
    "from pycaret.datasets import get_data\n",
    "data = get_data('airline')\n"
   ]
  },
  {
   "cell_type": "code",
   "execution_count": null,
   "id": "92fe88b1",
   "metadata": {},
   "outputs": [],
   "source": [
    "data.plot()"
   ]
  },
  {
   "cell_type": "code",
   "execution_count": null,
   "id": "f6344229",
   "metadata": {},
   "outputs": [],
   "source": [
    "from pycaret.time_series import *\n",
    "s = setup(data, fh = 3, fold = 5, session_id = 123)\n"
   ]
  },
  {
   "cell_type": "code",
   "execution_count": null,
   "id": "3af3dc44",
   "metadata": {},
   "outputs": [],
   "source": [
    "?compare_models"
   ]
  },
  {
   "cell_type": "code",
   "execution_count": null,
   "id": "d74b355a",
   "metadata": {},
   "outputs": [],
   "source": [
    "\n",
    "best = compare_models()"
   ]
  },
  {
   "cell_type": "code",
   "execution_count": null,
   "id": "044e8b22",
   "metadata": {},
   "outputs": [],
   "source": [
    "\n",
    "plot_model(best, plot = 'forecast', data_kwargs = {'fh' : 24})"
   ]
  },
  {
   "cell_type": "code",
   "execution_count": null,
   "id": "60ae894b",
   "metadata": {},
   "outputs": [],
   "source": [
    "\n",
    "plot_model(best, plot = 'diagnostics')"
   ]
  },
  {
   "cell_type": "code",
   "execution_count": null,
   "id": "0eab728d",
   "metadata": {},
   "outputs": [],
   "source": [
    "\n",
    "plot_model(best, plot = 'insample')"
   ]
  },
  {
   "cell_type": "code",
   "execution_count": null,
   "id": "db1c8ad3",
   "metadata": {},
   "outputs": [],
   "source": [
    "\n",
    "final_best = finalize_model(best)\n",
    "predict_model(best, fh = 24)"
   ]
  },
  {
   "cell_type": "code",
   "execution_count": null,
   "id": "3977f435",
   "metadata": {},
   "outputs": [],
   "source": [
    "final_best"
   ]
  },
  {
   "cell_type": "code",
   "execution_count": null,
   "id": "3b583a2d",
   "metadata": {},
   "outputs": [],
   "source": []
  }
 ],
 "metadata": {
  "kernelspec": {
   "display_name": "dev2",
   "language": "python",
   "name": "python3"
  },
  "language_info": {
   "codemirror_mode": {
    "name": "ipython",
    "version": 3
   },
   "file_extension": ".py",
   "mimetype": "text/x-python",
   "name": "python",
   "nbconvert_exporter": "python",
   "pygments_lexer": "ipython3",
   "version": "3.10.18"
  }
 },
 "nbformat": 4,
 "nbformat_minor": 5
}
