{
 "cells": [
  {
   "cell_type": "markdown",
   "id": "5bfc893d-9a93-4324-91a2-e4a7251b4c83",
   "metadata": {},
   "source": [
    "# *Outlier Detection Using Statistical Methods*, \n",
    "\n",
    "This chapter covers statistical methods for outlier and anomaly detection. These practical yet straightforward techniques are easy to interpret and implement. The chapter uses data from the **Numenta Anomaly Benchmark (NAB)** to evaluate different anomaly detection algorithms.\n",
    "\n",
    "The recipes that you will encounter in this chapter are as follows:  \n",
    "* Resampling time series data\n",
    "* Detecting outliers using visualizations\n",
    "* Detecting outliers using the Tukey method\n",
    "* Detecting outliers using a z-score\n",
    "* Detecting outliers using a modified z-score"
   ]
  },
  {
   "cell_type": "markdown",
   "id": "988928ab-cd9e-48bf-9fe8-70cf36bd3162",
   "metadata": {},
   "source": [
    "# -- START --"
   ]
  },
  {
   "cell_type": "markdown",
   "id": "a920cd52-117b-4861-bfee-600a099b29cd",
   "metadata": {},
   "source": [
    "* If you have the libraries installed check the versions \n",
    "* If the libraries are missing or you have an older version then either install or update the library"
   ]
  },
  {
   "cell_type": "markdown",
   "id": "dfd9ef2d-0013-408c-97d9-688b8544c621",
   "metadata": {},
   "source": [
    "# Technical Requirements \n",
    "* Preparing for the recipes of this chapter"
   ]
  },
  {
   "cell_type": "code",
   "execution_count": 1,
   "id": "5754ae08-0c84-416c-9449-924bb1d3305b",
   "metadata": {},
   "outputs": [
    {
     "name": "stdout",
     "output_type": "stream",
     "text": [
      "\n",
      "matplotlib -> 3.10.7\n",
      "pandas -> 2.3.3   \n",
      "scipy -> 1.16.2\n",
      "statsmodels -> 0.14.5\n",
      "\n"
     ]
    }
   ],
   "source": [
    "import matplotlib \n",
    "import pandas as pd\n",
    "import scipy \n",
    "import statsmodels\n",
    "\n",
    "print(f'''\n",
    "matplotlib -> {matplotlib.__version__}\n",
    "pandas -> {pd.__version__}   \n",
    "scipy -> {scipy.__version__}\n",
    "statsmodels -> {statsmodels.__version__}\n",
    "''')"
   ]
  },
  {
   "cell_type": "code",
   "execution_count": 2,
   "id": "9da8c937-98d0-414d-8afe-c12675065483",
   "metadata": {},
   "outputs": [],
   "source": [
    "import pandas as pd\n",
    "import numpy as np\n",
    "import matplotlib.pyplot as plt\n",
    "from pathlib import Path\n"
   ]
  },
  {
   "cell_type": "code",
   "execution_count": 3,
   "id": "6c1098f1-d26b-4a00-aa17-1c728eaa7bef",
   "metadata": {},
   "outputs": [],
   "source": [
    "plt.rcParams[\"figure.figsize\"] = [12, 5]  "
   ]
  },
  {
   "cell_type": "markdown",
   "id": "06223207-cfda-4287-86fe-b5a03da54fe4",
   "metadata": {},
   "source": [
    "### Create DataFrames "
   ]
  },
  {
   "cell_type": "code",
   "execution_count": 4,
   "id": "0a70ddf8-9638-4363-bed7-d24ba7ef09e6",
   "metadata": {},
   "outputs": [],
   "source": [
    "file = Path(\"data/weight-height.csv\")\n",
    "wh = pd.read_csv(file)\n"
   ]
  },
  {
   "cell_type": "code",
   "execution_count": 5,
   "metadata": {},
   "outputs": [
    {
     "data": {
      "application/vnd.microsoft.datawrangler.viewer.v0+json": {
       "columns": [
        {
         "name": "index",
         "rawType": "int64",
         "type": "integer"
        },
        {
         "name": "Gender",
         "rawType": "object",
         "type": "string"
        },
        {
         "name": "Height",
         "rawType": "float64",
         "type": "float"
        },
        {
         "name": "Weight",
         "rawType": "float64",
         "type": "float"
        }
       ],
       "ref": "ac5e7095-4ab7-4348-a8d3-a7566d232b10",
       "rows": [
        [
         "0",
         "Male",
         "73.847017017515",
         "241.893563180437"
        ],
        [
         "1",
         "Male",
         "68.7819040458903",
         "162.3104725213"
        ],
        [
         "2",
         "Male",
         "74.1101053917849",
         "212.7408555565"
        ],
        [
         "3",
         "Male",
         "71.7309784033377",
         "220.042470303077"
        ],
        [
         "4",
         "Male",
         "69.8817958611153",
         "206.349800623871"
        ],
        [
         "5",
         "Male",
         "67.2530156878065",
         "152.212155757083"
        ],
        [
         "6",
         "Male",
         "68.7850812516616",
         "183.927888604031"
        ],
        [
         "7",
         "Male",
         "68.3485155115879",
         "167.971110489509"
        ],
        [
         "8",
         "Male",
         "67.018949662883",
         "175.92944039571"
        ],
        [
         "9",
         "Male",
         "63.4564939783664",
         "156.399676387112"
        ],
        [
         "10",
         "Male",
         "71.1953822829745",
         "186.604925560358"
        ],
        [
         "11",
         "Male",
         "71.6408051192206",
         "213.741169489411"
        ],
        [
         "12",
         "Male",
         "64.7663291334055",
         "167.127461073476"
        ],
        [
         "13",
         "Male",
         "69.2830700967204",
         "189.446181386738"
        ],
        [
         "14",
         "Male",
         "69.2437322298112",
         "186.434168021239"
        ],
        [
         "15",
         "Male",
         "67.6456197004212",
         "172.186930058117"
        ],
        [
         "16",
         "Male",
         "72.4183166259878",
         "196.028506330482"
        ],
        [
         "17",
         "Male",
         "63.974325721061",
         "172.88347020878"
        ],
        [
         "18",
         "Male",
         "69.6400598997523",
         "185.98395757313"
        ],
        [
         "19",
         "Male",
         "67.9360048540095",
         "182.426648013226"
        ],
        [
         "20",
         "Male",
         "67.9150501938206",
         "174.115929081393"
        ],
        [
         "21",
         "Male",
         "69.4394398680395",
         "197.73142161472"
        ],
        [
         "22",
         "Male",
         "66.1491319608781",
         "149.173566007975"
        ],
        [
         "23",
         "Male",
         "75.2059736142212",
         "228.761780615196"
        ],
        [
         "24",
         "Male",
         "67.8931963386043",
         "162.006651848287"
        ],
        [
         "25",
         "Male",
         "68.1440327982008",
         "192.343976579187"
        ],
        [
         "26",
         "Male",
         "69.0896314289256",
         "184.435174408406"
        ],
        [
         "27",
         "Male",
         "72.8008435165003",
         "206.828189420354"
        ],
        [
         "28",
         "Male",
         "67.4212422817167",
         "175.213922399227"
        ],
        [
         "29",
         "Male",
         "68.4964153568827",
         "154.342638925955"
        ],
        [
         "30",
         "Male",
         "68.6181105502058",
         "187.506843155807"
        ],
        [
         "31",
         "Male",
         "74.0338076216678",
         "212.910225325521"
        ],
        [
         "32",
         "Male",
         "71.5282160355709",
         "195.032243233835"
        ],
        [
         "33",
         "Male",
         "69.1801610995692",
         "205.183621341371"
        ],
        [
         "34",
         "Male",
         "69.577202365402",
         "204.164125484101"
        ],
        [
         "35",
         "Male",
         "70.4009288884762",
         "192.903515074649"
        ],
        [
         "36",
         "Male",
         "69.0761711675356",
         "197.488242598925"
        ],
        [
         "37",
         "Male",
         "67.1935232827228",
         "183.810973232751"
        ],
        [
         "38",
         "Male",
         "65.8073156549306",
         "163.851824878622"
        ],
        [
         "39",
         "Male",
         "64.3041878915595",
         "163.108017147583"
        ],
        [
         "40",
         "Male",
         "67.9743362271967",
         "172.135597406825"
        ],
        [
         "41",
         "Male",
         "72.1894259592134",
         "194.045404898059"
        ],
        [
         "42",
         "Male",
         "65.2703455240394",
         "168.617746204292"
        ],
        [
         "43",
         "Male",
         "66.0901773762725",
         "161.193432596622"
        ],
        [
         "44",
         "Male",
         "67.5103215157138",
         "164.660277264007"
        ],
        [
         "45",
         "Male",
         "70.1047862551571",
         "188.922303151274"
        ],
        [
         "46",
         "Male",
         "68.2518364408672",
         "187.060552163801"
        ],
        [
         "47",
         "Male",
         "72.1727091157973",
         "209.070863390252"
        ],
        [
         "48",
         "Male",
         "69.1798576188774",
         "192.014335412005"
        ],
        [
         "49",
         "Male",
         "72.870360147235",
         "211.34249681964"
        ]
       ],
       "shape": {
        "columns": 3,
        "rows": 10000
       }
      },
      "text/html": [
       "<div>\n",
       "<style scoped>\n",
       "    .dataframe tbody tr th:only-of-type {\n",
       "        vertical-align: middle;\n",
       "    }\n",
       "\n",
       "    .dataframe tbody tr th {\n",
       "        vertical-align: top;\n",
       "    }\n",
       "\n",
       "    .dataframe thead th {\n",
       "        text-align: right;\n",
       "    }\n",
       "</style>\n",
       "<table border=\"1\" class=\"dataframe\">\n",
       "  <thead>\n",
       "    <tr style=\"text-align: right;\">\n",
       "      <th></th>\n",
       "      <th>Gender</th>\n",
       "      <th>Height</th>\n",
       "      <th>Weight</th>\n",
       "    </tr>\n",
       "  </thead>\n",
       "  <tbody>\n",
       "    <tr>\n",
       "      <th>0</th>\n",
       "      <td>Male</td>\n",
       "      <td>73.847017</td>\n",
       "      <td>241.893563</td>\n",
       "    </tr>\n",
       "    <tr>\n",
       "      <th>1</th>\n",
       "      <td>Male</td>\n",
       "      <td>68.781904</td>\n",
       "      <td>162.310473</td>\n",
       "    </tr>\n",
       "    <tr>\n",
       "      <th>2</th>\n",
       "      <td>Male</td>\n",
       "      <td>74.110105</td>\n",
       "      <td>212.740856</td>\n",
       "    </tr>\n",
       "    <tr>\n",
       "      <th>3</th>\n",
       "      <td>Male</td>\n",
       "      <td>71.730978</td>\n",
       "      <td>220.042470</td>\n",
       "    </tr>\n",
       "    <tr>\n",
       "      <th>4</th>\n",
       "      <td>Male</td>\n",
       "      <td>69.881796</td>\n",
       "      <td>206.349801</td>\n",
       "    </tr>\n",
       "    <tr>\n",
       "      <th>...</th>\n",
       "      <td>...</td>\n",
       "      <td>...</td>\n",
       "      <td>...</td>\n",
       "    </tr>\n",
       "    <tr>\n",
       "      <th>9995</th>\n",
       "      <td>Female</td>\n",
       "      <td>66.172652</td>\n",
       "      <td>136.777454</td>\n",
       "    </tr>\n",
       "    <tr>\n",
       "      <th>9996</th>\n",
       "      <td>Female</td>\n",
       "      <td>67.067155</td>\n",
       "      <td>170.867906</td>\n",
       "    </tr>\n",
       "    <tr>\n",
       "      <th>9997</th>\n",
       "      <td>Female</td>\n",
       "      <td>63.867992</td>\n",
       "      <td>128.475319</td>\n",
       "    </tr>\n",
       "    <tr>\n",
       "      <th>9998</th>\n",
       "      <td>Female</td>\n",
       "      <td>69.034243</td>\n",
       "      <td>163.852461</td>\n",
       "    </tr>\n",
       "    <tr>\n",
       "      <th>9999</th>\n",
       "      <td>Female</td>\n",
       "      <td>61.944246</td>\n",
       "      <td>113.649103</td>\n",
       "    </tr>\n",
       "  </tbody>\n",
       "</table>\n",
       "<p>10000 rows × 3 columns</p>\n",
       "</div>"
      ],
      "text/plain": [
       "      Gender     Height      Weight\n",
       "0       Male  73.847017  241.893563\n",
       "1       Male  68.781904  162.310473\n",
       "2       Male  74.110105  212.740856\n",
       "3       Male  71.730978  220.042470\n",
       "4       Male  69.881796  206.349801\n",
       "...      ...        ...         ...\n",
       "9995  Female  66.172652  136.777454\n",
       "9996  Female  67.067155  170.867906\n",
       "9997  Female  63.867992  128.475319\n",
       "9998  Female  69.034243  163.852461\n",
       "9999  Female  61.944246  113.649103\n",
       "\n",
       "[10000 rows x 3 columns]"
      ]
     },
     "execution_count": 5,
     "metadata": {},
     "output_type": "execute_result"
    }
   ],
   "source": [
    "wh"
   ]
  },
  {
   "cell_type": "code",
   "execution_count": 6,
   "metadata": {},
   "outputs": [
    {
     "data": {
      "application/vnd.microsoft.datawrangler.viewer.v0+json": {
       "columns": [
        {
         "name": "Gender",
         "rawType": "object",
         "type": "string"
        },
        {
         "name": "count",
         "rawType": "int64",
         "type": "integer"
        }
       ],
       "ref": "a4b4b499-f503-46b6-be2a-e97957d149f5",
       "rows": [
        [
         "Male",
         "5000"
        ],
        [
         "Female",
         "5000"
        ]
       ],
       "shape": {
        "columns": 1,
        "rows": 2
       }
      },
      "text/plain": [
       "Gender\n",
       "Male      5000\n",
       "Female    5000\n",
       "Name: count, dtype: int64"
      ]
     },
     "execution_count": 6,
     "metadata": {},
     "output_type": "execute_result"
    }
   ],
   "source": [
    "wh['Gender'].value_counts()"
   ]
  },
  {
   "cell_type": "markdown",
   "id": "b9b4b303-31ae-4bc7-aae5-852b281e2892",
   "metadata": {},
   "source": [
    "# Recipe 2. Detecting Outliers using Visualization\n",
    "\n",
    "In this recipe, you will explore different visualization techniques available in the seaborn library to detect outliers in your time series data. Visualizations provide an intuitive way to identify potential anomalies before applying more sophisticated statistical methods.\n",
    "\n",
    "You will learn how to use various plots including:\n",
    "- Histograms with `histplot()` and `displot()`\n",
    "- Box plots with `boxplot()`\n",
    "- Letter-value plots with `boxenplot()`\n",
    "- Violin plots with `violinplot()`\n",
    "\n",
    "Each visualization technique presents the data distribution differently, helping you identify patterns and potential outliers from multiple perspectives. By the end of this recipe, you'll understand the strengths and limitations of each approach for outlier detection.\n",
    "\n",
    "## How to do it...\n",
    "\n",
    "Let's start by importing the seaborn library and examining our data:"
   ]
  },
  {
   "cell_type": "code",
   "execution_count": 9,
   "id": "aefda02e-3130-4f92-924e-32b6b9dd91b7",
   "metadata": {},
   "outputs": [
    {
     "data": {
      "text/plain": [
       "'0.13.2'"
      ]
     },
     "execution_count": 9,
     "metadata": {},
     "output_type": "execute_result"
    }
   ],
   "source": [
    "import seaborn as sns\n",
    "sns.__version__"
   ]
  },
  {
   "cell_type": "markdown",
   "id": "35405e3e-fc2d-431c-94da-3f0cd15b4273",
   "metadata": {},
   "source": [
    "## 1. Histogram\n",
    "\n",
    "Histograms are one of the most basic but effective tools for visualizing data distribution. They group data into bins and show the frequency of observations in each bin, helping us identify:\n",
    "- The overall shape of the distribution\n",
    "- Potential clusters or modes in the data\n",
    "- Values that fall far from the central tendency\n",
    "\n",
    "Let's create a histogram of our daily passenger counts:"
   ]
  },
  {
   "cell_type": "code",
   "execution_count": 8,
   "id": "0c359af2-baeb-4e4d-9277-6fc3412ed7a3",
   "metadata": {},
   "outputs": [
    {
     "data": {
      "image/png": "[encoded data removed]",
      "text/plain": [
       "<Figure size 1200x500 with 1 Axes>"
      ]
     },
     "metadata": {},
     "output_type": "display_data"
    }
   ],
   "source": [
    "sns.histplot(wh);"
   ]
  },
  {
   "cell_type": "markdown",
   "id": "26156a4f",
   "metadata": {},
   "source": [
    "In this histogram, we can observe the distribution of daily mean passenger counts. The values appearing at the extreme left and right of the distribution are potential outliers. \n",
    "\n",
    "The center of the histogram is around 15,000 daily average passengers. The observations with very low passenger counts (below 8,000) appear to be more extreme compared to the rest and may be actual outliers. The values at the high end (close to 20,000) might also be outliers, but they're less distinct from the main distribution.\n",
    "\n",
    "Let's try another way to visualize the histogram using seaborn's `displot()` function:"
   ]
  },
  {
   "cell_type": "code",
   "execution_count": 10,
   "id": "26f10b73-d71c-4a59-b044-e0ca2a3d51ff",
   "metadata": {},
   "outputs": [
    {
     "data": {
      "image/png": "[encoded data removed]",
      "text/plain": [
       "<Figure size 1098.5x500 with 1 Axes>"
      ]
     },
     "metadata": {},
     "output_type": "display_data"
    }
   ],
   "source": [
    "sns.displot(wh, kind='hist', height=5, aspect=2);"
   ]
  },
  {
   "cell_type": "markdown",
   "id": "929f70d8",
   "metadata": {},
   "source": [
    "The `displot()` function provides similar information to `histplot()` but with more customization options. Here we've adjusted the height and aspect ratio for better visualization. \n",
    "\n",
    "While histograms are useful for understanding the overall distribution, they don't provide a clear threshold for what constitutes an outlier. For this, we'll explore box plots next."
   ]
  },
  {
   "cell_type": "markdown",
   "id": "79f45f56-834c-440c-b02a-358c27bb42d0",
   "metadata": {},
   "source": [
    "## 2. Box Plot\n",
    "\n",
    "Box plots are particularly valuable for outlier detection because they establish statistical boundaries (the whiskers) based on the interquartile range (IQR). Points beyond these boundaries are explicitly highlighted as potential outliers.\n",
    "\n",
    "A box plot displays:\n",
    "- The median (middle line in the box)\n",
    "- The interquartile range or IQR (Q3 - Q1, represented by the box)\n",
    "- The whiskers (typically extending to 1.5 * IQR beyond Q1 and Q3)\n",
    "- Individual points beyond the whiskers (potential outliers)\n",
    "\n",
    "Let's create a horizontal box plot for our data:"
   ]
  },
  {
   "cell_type": "code",
   "execution_count": 11,
   "id": "bf398139-9864-4e78-83c5-d34614253c38",
   "metadata": {},
   "outputs": [
    {
     "data": {
      "image/png": "[encoded data removed]",
      "text/plain": [
       "<Figure size 1200x500 with 1 Axes>"
      ]
     },
     "metadata": {},
     "output_type": "display_data"
    }
   ],
   "source": [
    "sns.boxplot(wh, orient='h', whis=1.5);"
   ]
  },
  {
   "cell_type": "markdown",
   "id": "dfd15335",
   "metadata": {},
   "source": [
    "In this box plot, we can see potential outliers as individual points outside the whiskers. These represent values that are more than 1.5 times the IQR away from the first quartile (Q1) or third quartile (Q3).\n",
    "\n",
    "The default `whis` parameter in seaborn's `boxplot()` function is 1.5, which corresponds to Tukey's definition of outliers. Let's explicitly set this parameter to see if the output changes:"
   ]
  },
  {
   "cell_type": "code",
   "execution_count": 14,
   "metadata": {},
   "outputs": [
    {
     "data": {
      "image/png": "[encoded data removed]",
      "text/plain": [
       "<Figure size 1200x500 with 1 Axes>"
      ]
     },
     "metadata": {},
     "output_type": "display_data"
    }
   ],
   "source": [
    "sns.boxplot(wh['Height'], orient='h', whis=1.5);"
   ]
  },
  {
   "cell_type": "code",
   "execution_count": 12,
   "metadata": {},
   "outputs": [
    {
     "data": {
      "image/png": "[encoded data removed]",
      "text/plain": [
       "<Figure size 1200x500 with 1 Axes>"
      ]
     },
     "metadata": {},
     "output_type": "display_data"
    }
   ],
   "source": [
    "sns.boxplot(wh['Weight'], orient='h', whis=1.5);"
   ]
  },
  {
   "cell_type": "code",
   "execution_count": null,
   "id": "73affec3-6f62-4c8b-93f1-f4894bfe658e",
   "metadata": {},
   "outputs": [],
   "source": [
    "sns.boxplot(tx['value'], orient='h', whis=1.5);"
   ]
  },
  {
   "cell_type": "markdown",
   "id": "a5702d1f",
   "metadata": {},
   "source": [
    "The result is identical to the previous box plot since we used the default value of `whis=1.5`. You can adjust this parameter to change the width of the whiskers:\n",
    "- Smaller values of `whis` will identify more observations as outliers\n",
    "- Larger values will be more conservative in labeling points as outliers\n",
    "\n",
    "The width of the box represents the IQR (Q3 - Q1). The lower fence is calculated as Q1 - (1.5 × IQR), and the upper fence as Q3 + (1.5 × IQR). Any observation below the lower fence or above the upper fence is considered a potential outlier.\n",
    "\n",
    "Next, let's explore a variation of the box plot called the boxen plot (or letter-value plot)."
   ]
  },
  {
   "cell_type": "markdown",
   "id": "0e1955cb-d3a3-44ef-a88e-06a77ac456d4",
   "metadata": {},
   "source": [
    "## 3. Boxen Plot (Letter Value Plot)\n",
    "\n",
    "The boxen plot (also known as a letter-value plot) is an enhancement to regular box plots, especially useful for larger datasets. It was introduced in the paper by Heike Hofmann, Hadley Wickham & Karen Kafadar (2017), \"Letter-Value Plots: Boxplots for Large Data.\"\n",
    "\n",
    "Boxen plots extend beyond the quartiles shown in traditional box plots, providing more detailed information about the distribution's tails where outliers typically reside. This makes them particularly effective for:\n",
    "- Differentiating between outliers in larger datasets\n",
    "- Showing more granular distribution information\n",
    "- Detecting subtle anomalies that might be missed in traditional box plots\n",
    "\n",
    "Let's create a boxen plot:"
   ]
  },
  {
   "cell_type": "code",
   "execution_count": 15,
   "id": "fd0b82c1-6a4c-4b27-b4dd-c044b1ee4489",
   "metadata": {},
   "outputs": [
    {
     "data": {
      "image/png": "[encoded data removed]",
      "text/plain": [
       "<Figure size 1200x500 with 1 Axes>"
      ]
     },
     "metadata": {},
     "output_type": "display_data"
    }
   ],
   "source": [
    "sns.boxenplot(wh,orient='h');"
   ]
  },
  {
   "cell_type": "markdown",
   "id": "ff09eb63",
   "metadata": {},
   "source": [
    "The boxen plot shows multiple nested boxes beyond the quartiles displayed in a traditional box plot. Each box represents a different letter value, providing more detailed distribution information.\n",
    "\n",
    "To understand the exact values of the quartiles, we can examine the descriptive statistics:"
   ]
  },
  {
   "cell_type": "code",
   "execution_count": 19,
   "id": "49aada62-f8ce-403e-8d33-a262de0fe540",
   "metadata": {},
   "outputs": [
    {
     "data": {
      "text/plain": [
       "<Axes: xlabel='Weight'>"
      ]
     },
     "execution_count": 19,
     "metadata": {},
     "output_type": "execute_result"
    },
    {
     "data": {
      "image/png": "[encoded data removed]",
      "text/plain": [
       "<Figure size 1200x500 with 1 Axes>"
      ]
     },
     "metadata": {},
     "output_type": "display_data"
    }
   ],
   "source": [
    "# changing depth with numeric value\n",
    "sns.boxenplot(wh['Weight'], k_depth=1, orient='h') "
   ]
  },
  {
   "cell_type": "markdown",
   "id": "36dbdda4",
   "metadata": {},
   "source": [
    "Here, we set `k_depth=1` to show just the central box (similar to a traditional box plot). Let's explore different methods for determining the depth:"
   ]
  },
  {
   "cell_type": "code",
   "execution_count": 21,
   "id": "175ee08a-007e-4b43-a023-48bdea0c7568",
   "metadata": {},
   "outputs": [
    {
     "data": {
      "image/png": "[encoded data removed]",
      "text/plain": [
       "<Figure size 1200x300 with 1 Axes>"
      ]
     },
     "metadata": {},
     "output_type": "display_data"
    },
    {
     "data": {
      "image/png": "[encoded data removed]",
      "text/plain": [
       "<Figure size 1200x300 with 1 Axes>"
      ]
     },
     "metadata": {},
     "output_type": "display_data"
    },
    {
     "data": {
      "image/png": "[encoded data removed]",
      "text/plain": [
       "<Figure size 1200x300 with 1 Axes>"
      ]
     },
     "metadata": {},
     "output_type": "display_data"
    },
    {
     "data": {
      "image/png": "[encoded data removed]",
      "text/plain": [
       "<Figure size 1200x300 with 1 Axes>"
      ]
     },
     "metadata": {},
     "output_type": "display_data"
    }
   ],
   "source": [
    "# exploring different methods \n",
    "for k in [\"tukey\", \"proportion\", \"trustworthy\", \"full\"]:\n",
    "    plt.figure(figsize=(12, 3)) \n",
    "    sns.boxenplot(wh['Height'], k_depth=k, orient='h')\n",
    "    plt.title(f'k_depth={k}')\n",
    "    plt.show()\n"
   ]
  },
  {
   "cell_type": "markdown",
   "id": "e83f25f2",
   "metadata": {},
   "source": [
    "The different methods produce varying numbers of boxes in the visualization:\n",
    "\n",
    "1. **tukey**: The default method, which uses letter values until the amount of data needed for a level exceeds the total remaining data (produces 4 boxes in our example)\n",
    "2. **proportion**: Creates boxes with exponentially decreasing proportions of data\n",
    "3. **trustworthy**: Uses the smallest set of letter values needed for \"trustworthy\" estimation\n",
    "4. **full**: Shows letter values for the full range of the data\n",
    "\n",
    "These different depth methods allow you to adjust the level of detail in the visualization based on your dataset's characteristics and the specific outlier detection goals."
   ]
  },
  {
   "cell_type": "markdown",
   "id": "93953403",
   "metadata": {},
   "source": [
    "## Violin Plot\n",
    "\n",
    "Violin plots combine aspects of box plots with density plots, making them powerful tools for visualizing the distribution of data and identifying outliers. They display:\n",
    "\n",
    "1. A central box plot showing the median, interquartile range, and whiskers\n",
    "2. A kernel density estimation that shows the full distribution shape\n",
    "3. The width of the \"violin\" at any given point represents the density of data at that value\n",
    "\n",
    "This visualization is particularly useful for:\n",
    "- Revealing multimodality (multiple peaks) in your data that might indicate different populations or anomaly clusters\n",
    "- Identifying asymmetry in distributions\n",
    "- Showing the full distribution while still highlighting outliers"
   ]
  },
  {
   "cell_type": "code",
   "execution_count": 22,
   "id": "1a049334-a21c-433b-be48-1c407a474c6a",
   "metadata": {},
   "outputs": [
    {
     "data": {
      "image/png": "[encoded data removed]",
      "text/plain": [
       "<Figure size 1200x500 with 1 Axes>"
      ]
     },
     "metadata": {},
     "output_type": "display_data"
    }
   ],
   "source": [
    "sns.violinplot(wh, inner='quartile', orient='h');"
   ]
  },
  {
   "cell_type": "markdown",
   "id": "ff3e573e",
   "metadata": {},
   "source": [
    "In this example:\n",
    "\n",
    "- We create a horizontal violin plot of our taxi passenger count data\n",
    "- The `inner='quartile'` parameter adds box plot quartile lines inside the violin\n",
    "- The central white dot represents the median\n",
    "- The thick black bar in the center represents the interquartile range (IQR)\n",
    "- The thin black lines extending from the box represent the whiskers (typically 1.5 × IQR)\n",
    "- Points beyond the whiskers are potential outliers\n",
    "- The width of the violin shows the density distribution\n",
    "\n",
    "Notice how the violin plot clearly shows the asymmetry in our data distribution and highlights the potential outliers at higher passenger count values."
   ]
  },
  {
   "cell_type": "markdown",
   "id": "44758f53-b31e-4597-ab05-00ef078a7a76",
   "metadata": {},
   "source": [
    "## There is more\n",
    "\n",
    "Beyond the basic visualization techniques covered above, there are several additional approaches that can be useful for outlier detection:\n",
    "\n",
    "1. **Kernel Density Estimation (KDE)** plots - These smooth density estimations can help identify areas where data points are sparse, potentially indicating outliers\n",
    "2. **Lag plots** - Particularly useful for time series data to detect outliers that disrupt temporal patterns\n",
    "3. **Specialized statistical tests** - Such as Grubbs' test or the Generalized ESD test for formal outlier detection\n",
    "\n",
    "Let's explore some of these additional methods:"
   ]
  },
  {
   "cell_type": "markdown",
   "id": "543ebc78-1f62-4c50-ac7d-bcb3517f5734",
   "metadata": {
    "tags": []
   },
   "source": [
    "# Recipe 3. Detecting Outliers using Tukey's Method\n",
    "\n",
    "Tukey's method (also known as the IQR method or boxplot method) is a robust statistical approach for identifying outliers. Unlike methods that rely on mean and standard deviation (which are sensitive to outliers themselves), Tukey's method uses quartiles, which are more resistant to the influence of extreme values.\n",
    "\n",
    "This recipe demonstrates how to:\n",
    "1. Calculate quartiles and the interquartile range (IQR)\n",
    "2. Define boundaries for potential outliers using the IQR\n",
    "3. Identify and filter outliers based on these boundaries\n",
    "4. Visualize the results to understand the impact of outlier removal"
   ]
  },
  {
   "cell_type": "markdown",
   "id": "c59cb3ae-64d1-4430-b702-80f5205bf0d9",
   "metadata": {},
   "source": [
    "## Define the `iqr_outliers` function\n",
    "\n",
    "Before applying Tukey's method, we'll first look at various ways to compute percentiles and quartiles in Python. This helps us understand the underlying statistical concepts before implementing the outlier detection algorithm."
   ]
  },
  {
   "cell_type": "markdown",
   "id": "62343e28",
   "metadata": {},
   "source": [
    "First, we prepare our data by resampling to daily values and examine its statistical distribution using the `describe()` method with custom percentiles. This helps us understand the spread and central tendency of our data before looking for outliers."
   ]
  },
  {
   "cell_type": "code",
   "execution_count": 10,
   "metadata": {},
   "outputs": [
    {
     "data": {
      "application/vnd.microsoft.datawrangler.viewer.v0+json": {
       "columns": [
        {
         "name": "index",
         "rawType": "object",
         "type": "string"
        },
        {
         "name": "Height",
         "rawType": "float64",
         "type": "float"
        },
        {
         "name": "Weight",
         "rawType": "float64",
         "type": "float"
        }
       ],
       "ref": "d68a413d-055e-4b44-817e-07bf1a7329ed",
       "rows": [
        [
         "count",
         "10000.0",
         "10000.0"
        ],
        [
         "mean",
         "66.36755975482124",
         "161.44035683283076"
        ],
        [
         "std",
         "3.847528120773229",
         "32.108439006519596"
        ],
        [
         "min",
         "54.2631333250971",
         "64.700126712753"
        ],
        [
         "25%",
         "63.505620481218955",
         "135.8180513055015"
        ],
        [
         "50%",
         "66.31807008178464",
         "161.21292769948298"
        ],
        [
         "75%",
         "69.1742617268347",
         "187.16952486868348"
        ],
        [
         "max",
         "78.9987423463896",
         "269.989698505106"
        ]
       ],
       "shape": {
        "columns": 2,
        "rows": 8
       }
      },
      "text/html": [
       "<div>\n",
       "<style scoped>\n",
       "    .dataframe tbody tr th:only-of-type {\n",
       "        vertical-align: middle;\n",
       "    }\n",
       "\n",
       "    .dataframe tbody tr th {\n",
       "        vertical-align: top;\n",
       "    }\n",
       "\n",
       "    .dataframe thead th {\n",
       "        text-align: right;\n",
       "    }\n",
       "</style>\n",
       "<table border=\"1\" class=\"dataframe\">\n",
       "  <thead>\n",
       "    <tr style=\"text-align: right;\">\n",
       "      <th></th>\n",
       "      <th>Height</th>\n",
       "      <th>Weight</th>\n",
       "    </tr>\n",
       "  </thead>\n",
       "  <tbody>\n",
       "    <tr>\n",
       "      <th>count</th>\n",
       "      <td>10000.000000</td>\n",
       "      <td>10000.000000</td>\n",
       "    </tr>\n",
       "    <tr>\n",
       "      <th>mean</th>\n",
       "      <td>66.367560</td>\n",
       "      <td>161.440357</td>\n",
       "    </tr>\n",
       "    <tr>\n",
       "      <th>std</th>\n",
       "      <td>3.847528</td>\n",
       "      <td>32.108439</td>\n",
       "    </tr>\n",
       "    <tr>\n",
       "      <th>min</th>\n",
       "      <td>54.263133</td>\n",
       "      <td>64.700127</td>\n",
       "    </tr>\n",
       "    <tr>\n",
       "      <th>25%</th>\n",
       "      <td>63.505620</td>\n",
       "      <td>135.818051</td>\n",
       "    </tr>\n",
       "    <tr>\n",
       "      <th>50%</th>\n",
       "      <td>66.318070</td>\n",
       "      <td>161.212928</td>\n",
       "    </tr>\n",
       "    <tr>\n",
       "      <th>75%</th>\n",
       "      <td>69.174262</td>\n",
       "      <td>187.169525</td>\n",
       "    </tr>\n",
       "    <tr>\n",
       "      <th>max</th>\n",
       "      <td>78.998742</td>\n",
       "      <td>269.989699</td>\n",
       "    </tr>\n",
       "  </tbody>\n",
       "</table>\n",
       "</div>"
      ],
      "text/plain": [
       "             Height        Weight\n",
       "count  10000.000000  10000.000000\n",
       "mean      66.367560    161.440357\n",
       "std        3.847528     32.108439\n",
       "min       54.263133     64.700127\n",
       "25%       63.505620    135.818051\n",
       "50%       66.318070    161.212928\n",
       "75%       69.174262    187.169525\n",
       "max       78.998742    269.989699"
      ]
     },
     "execution_count": 10,
     "metadata": {},
     "output_type": "execute_result"
    }
   ],
   "source": [
    "wh.describe()"
   ]
  },
  {
   "cell_type": "code",
   "execution_count": 11,
   "id": "878a06fc-6d8b-4983-859a-5e23acc7c3d7",
   "metadata": {},
   "outputs": [
    {
     "data": {
      "application/vnd.microsoft.datawrangler.viewer.v0+json": {
       "columns": [
        {
         "name": "index",
         "rawType": "object",
         "type": "string"
        },
        {
         "name": "Height",
         "rawType": "float64",
         "type": "float"
        },
        {
         "name": "Weight",
         "rawType": "float64",
         "type": "float"
        }
       ],
       "ref": "17bdce7f-6620-4618-bd59-2fbfab05f075",
       "rows": [
        [
         "count",
         "10000.0",
         "10000.0"
        ],
        [
         "mean",
         "66.36755975482124",
         "161.44035683283076"
        ],
        [
         "std",
         "3.847528120773229",
         "32.108439006519596"
        ],
        [
         "min",
         "54.2631333250971",
         "64.700126712753"
        ],
        [
         "0%",
         "54.2631333250971",
         "64.700126712753"
        ],
        [
         "5%",
         "60.24622082610544",
         "111.09838834744545"
        ],
        [
         "10%",
         "61.41270131336016",
         "119.7540960338156"
        ],
        [
         "25%",
         "63.505620481218955",
         "135.8180513055015"
        ],
        [
         "50%",
         "66.31807008178464",
         "161.21292769948298"
        ],
        [
         "75%",
         "69.1742617268347",
         "187.16952486868348"
        ],
        [
         "90%",
         "71.47214936325072",
         "203.519644739905"
        ],
        [
         "95%",
         "72.61710606642384",
         "211.76755583198874"
        ],
        [
         "100%",
         "78.9987423463896",
         "269.989698505106"
        ],
        [
         "max",
         "78.9987423463896",
         "269.989698505106"
        ]
       ],
       "shape": {
        "columns": 2,
        "rows": 14
       }
      },
      "text/html": [
       "<div>\n",
       "<style scoped>\n",
       "    .dataframe tbody tr th:only-of-type {\n",
       "        vertical-align: middle;\n",
       "    }\n",
       "\n",
       "    .dataframe tbody tr th {\n",
       "        vertical-align: top;\n",
       "    }\n",
       "\n",
       "    .dataframe thead th {\n",
       "        text-align: right;\n",
       "    }\n",
       "</style>\n",
       "<table border=\"1\" class=\"dataframe\">\n",
       "  <thead>\n",
       "    <tr style=\"text-align: right;\">\n",
       "      <th></th>\n",
       "      <th>Height</th>\n",
       "      <th>Weight</th>\n",
       "    </tr>\n",
       "  </thead>\n",
       "  <tbody>\n",
       "    <tr>\n",
       "      <th>count</th>\n",
       "      <td>10000.000000</td>\n",
       "      <td>10000.000000</td>\n",
       "    </tr>\n",
       "    <tr>\n",
       "      <th>mean</th>\n",
       "      <td>66.367560</td>\n",
       "      <td>161.440357</td>\n",
       "    </tr>\n",
       "    <tr>\n",
       "      <th>std</th>\n",
       "      <td>3.847528</td>\n",
       "      <td>32.108439</td>\n",
       "    </tr>\n",
       "    <tr>\n",
       "      <th>min</th>\n",
       "      <td>54.263133</td>\n",
       "      <td>64.700127</td>\n",
       "    </tr>\n",
       "    <tr>\n",
       "      <th>0%</th>\n",
       "      <td>54.263133</td>\n",
       "      <td>64.700127</td>\n",
       "    </tr>\n",
       "    <tr>\n",
       "      <th>5%</th>\n",
       "      <td>60.246221</td>\n",
       "      <td>111.098388</td>\n",
       "    </tr>\n",
       "    <tr>\n",
       "      <th>10%</th>\n",
       "      <td>61.412701</td>\n",
       "      <td>119.754096</td>\n",
       "    </tr>\n",
       "    <tr>\n",
       "      <th>25%</th>\n",
       "      <td>63.505620</td>\n",
       "      <td>135.818051</td>\n",
       "    </tr>\n",
       "    <tr>\n",
       "      <th>50%</th>\n",
       "      <td>66.318070</td>\n",
       "      <td>161.212928</td>\n",
       "    </tr>\n",
       "    <tr>\n",
       "      <th>75%</th>\n",
       "      <td>69.174262</td>\n",
       "      <td>187.169525</td>\n",
       "    </tr>\n",
       "    <tr>\n",
       "      <th>90%</th>\n",
       "      <td>71.472149</td>\n",
       "      <td>203.519645</td>\n",
       "    </tr>\n",
       "    <tr>\n",
       "      <th>95%</th>\n",
       "      <td>72.617106</td>\n",
       "      <td>211.767556</td>\n",
       "    </tr>\n",
       "    <tr>\n",
       "      <th>100%</th>\n",
       "      <td>78.998742</td>\n",
       "      <td>269.989699</td>\n",
       "    </tr>\n",
       "    <tr>\n",
       "      <th>max</th>\n",
       "      <td>78.998742</td>\n",
       "      <td>269.989699</td>\n",
       "    </tr>\n",
       "  </tbody>\n",
       "</table>\n",
       "</div>"
      ],
      "text/plain": [
       "             Height        Weight\n",
       "count  10000.000000  10000.000000\n",
       "mean      66.367560    161.440357\n",
       "std        3.847528     32.108439\n",
       "min       54.263133     64.700127\n",
       "0%        54.263133     64.700127\n",
       "5%        60.246221    111.098388\n",
       "10%       61.412701    119.754096\n",
       "25%       63.505620    135.818051\n",
       "50%       66.318070    161.212928\n",
       "75%       69.174262    187.169525\n",
       "90%       71.472149    203.519645\n",
       "95%       72.617106    211.767556\n",
       "100%      78.998742    269.989699\n",
       "max       78.998742    269.989699"
      ]
     },
     "execution_count": 11,
     "metadata": {},
     "output_type": "execute_result"
    }
   ],
   "source": [
    "percentiles = [0, 0.05, .10, .25, .5, .75, .90, .95, 1]\n",
    "wh.describe(percentiles= percentiles)"
   ]
  },
  {
   "cell_type": "markdown",
   "id": "cb475143",
   "metadata": {},
   "source": [
    "Here we're using NumPy's `percentile()` function as an alternative way to calculate the same percentiles. This function computes the q-th percentile of the data along the specified axis. The percentiles are given as integers (0-100) rather than decimals (0-1)."
   ]
  },
  {
   "cell_type": "code",
   "execution_count": 12,
   "id": "4bbbfe7c-5f30-4963-b44d-1cf7d475d242",
   "metadata": {},
   "outputs": [
    {
     "data": {
      "text/plain": [
       "array([54.26313333, 60.24622083, 61.41270131, 63.50562048, 66.31807008,\n",
       "       69.17426173, 71.47214936, 72.61710607, 78.99874235])"
      ]
     },
     "execution_count": 12,
     "metadata": {},
     "output_type": "execute_result"
    }
   ],
   "source": [
    "percentiles = [0, 5, 10, 25, 50, 75, 90, 95, 100]\n",
    "np.percentile(wh['Height'], percentiles)"
   ]
  },
  {
   "cell_type": "code",
   "execution_count": 13,
   "metadata": {},
   "outputs": [
    {
     "data": {
      "text/plain": [
       "array([ 64.70012671, 111.09838835, 119.75409603, 135.81805131,\n",
       "       161.2129277 , 187.16952487, 203.51964474, 211.76755583,\n",
       "       269.98969851])"
      ]
     },
     "execution_count": 13,
     "metadata": {},
     "output_type": "execute_result"
    }
   ],
   "source": [
    "np.percentile(wh['Weight'], percentiles)"
   ]
  },
  {
   "cell_type": "markdown",
   "id": "41ed111c",
   "metadata": {},
   "source": [
    "NumPy also provides the `quantile()` function, which is similar to `percentile()` but works with quantiles (decimals from 0-1) instead of percentiles (0-100). The results are identical to our previous calculation, just using a different scale. For Tukey's method, we'll be focusing on the quantiles at 0.25 (Q1) and 0.75 (Q3)."
   ]
  },
  {
   "cell_type": "code",
   "execution_count": 14,
   "id": "4e36d00e-9659-4f66-b2ef-c5edac6d1577",
   "metadata": {},
   "outputs": [
    {
     "data": {
      "text/plain": [
       "array([54.26313333, 60.24622083, 61.41270131, 63.50562048, 66.31807008,\n",
       "       69.17426173, 71.47214936, 72.61710607, 78.99874235])"
      ]
     },
     "execution_count": 14,
     "metadata": {},
     "output_type": "execute_result"
    }
   ],
   "source": [
    "quantiles = [0, 0.05, 0.10, 0.25, 0.50, 0.75, 0.90, 0.95, 1]\n",
    "np.quantile(wh['Height'], quantiles)"
   ]
  },
  {
   "cell_type": "markdown",
   "id": "544b073c",
   "metadata": {},
   "source": [
    "## Implementing Tukey's Method\n",
    "\n",
    "Now we'll implement Tukey's method for outlier detection. This approach is based on the interquartile range (IQR), which is the range between the first quartile (Q1) and third quartile (Q3).\n",
    "\n",
    "Tukey's method works by:\n",
    "1. Calculating Q1 (25th percentile) and Q3 (75th percentile)\n",
    "2. Computing the IQR as Q3 - Q1\n",
    "3. Defining \"fences\" (boundaries) at Q1 - k×IQR and Q3 + k×IQR\n",
    "4. Classifying any points beyond these fences as potential outliers\n",
    "\n",
    "The parameter `k` determines how sensitive the detection is. Traditionally:\n",
    "- k = 1.5 identifies \"mild\" outliers (commonly used)\n",
    "- k = 3.0 identifies \"extreme\" outliers\n",
    "\n",
    "This method is robust because it's based on quartiles, which are less influenced by extreme values than mean and standard deviation."
   ]
  },
  {
   "cell_type": "code",
   "execution_count": 15,
   "id": "88f3bffa-5994-4b6f-9d9b-c7a2b17a5efd",
   "metadata": {},
   "outputs": [],
   "source": [
    "def iqr_outliers(data, k):\n",
    "    \"\"\"\n",
    "    Detect outliers using Tukey's method with customizable fence multiplier.\n",
    "    \n",
    "    Parameters:\n",
    "    data (DataFrame): Time series data with a 'value' column\n",
    "    k (float): The fence multiplier to use (typically 1.5)\n",
    "    \n",
    "    Returns:\n",
    "    DataFrame: Filtered data containing only outlier points\n",
    "    \"\"\"\n",
    "    q1, q3 = np.percentile(data, [25, 75])\n",
    "    IQR = q3 - q1\n",
    "    lower_fence = q1 - (k * IQR)\n",
    "    upper_fence = q3 + (k * IQR)\n",
    "    return data[(data.values > upper_fence) | (data.values < lower_fence)]"
   ]
  },
  {
   "cell_type": "markdown",
   "id": "0d66fa90",
   "metadata": {},
   "source": [
    "Now let's apply our `iqr_outliers` function to our daily taxi passenger data with the standard k=1.5 value and see what potential outliers it identifies."
   ]
  },
  {
   "cell_type": "code",
   "execution_count": 16,
   "metadata": {},
   "outputs": [
    {
     "data": {
      "image/png": "[encoded data removed]",
      "text/plain": [
       "<Figure size 1200x500 with 1 Axes>"
      ]
     },
     "metadata": {},
     "output_type": "display_data"
    }
   ],
   "source": [
    "sns.boxplot(wh['Height'], orient='h', whis=1.5);"
   ]
  },
  {
   "cell_type": "code",
   "execution_count": 17,
   "id": "59b6a74d-9a65-47ac-8d2f-d616a2f24c80",
   "metadata": {},
   "outputs": [
    {
     "name": "stdout",
     "output_type": "stream",
     "text": [
      "994     78.095867\n",
      "1317    78.462053\n",
      "2014    78.998742\n",
      "3285    78.528210\n",
      "3757    78.621374\n",
      "6624    54.616858\n",
      "7294    54.873728\n",
      "9285    54.263133\n",
      "Name: Height, dtype: float64\n"
     ]
    }
   ],
   "source": [
    "outliers = iqr_outliers(wh['Height'], 1.5)\n",
    "print(outliers)"
   ]
  },
  {
   "cell_type": "code",
   "execution_count": 18,
   "metadata": {},
   "outputs": [
    {
     "data": {
      "image/png": "[encoded data removed]",
      "text/plain": [
       "<Figure size 1200x500 with 1 Axes>"
      ]
     },
     "metadata": {},
     "output_type": "display_data"
    }
   ],
   "source": [
    "sns.boxplot(wh['Weight'], orient='h', whis=1.5);"
   ]
  },
  {
   "cell_type": "code",
   "execution_count": 19,
   "metadata": {},
   "outputs": [
    {
     "name": "stdout",
     "output_type": "stream",
     "text": [
      "2014    269.989699\n",
      "Name: Weight, dtype: float64\n"
     ]
    }
   ],
   "source": [
    "outliers = iqr_outliers(wh['Weight'], 1.5)\n",
    "print(outliers)"
   ]
  },
  {
   "cell_type": "markdown",
   "id": "3b36ba6e",
   "metadata": {},
   "source": [
    "Next, let's visualize these outliers on our time series using the `plot_outliers` function. This will help us see where these potential anomalies occur in relation to the overall passenger count pattern. The `labels=True` parameter adds date labels to our outliers to make them easier to identify."
   ]
  },
  {
   "cell_type": "markdown",
   "id": "d638f341-3aad-4875-99b4-894a6ddb77e9",
   "metadata": {},
   "source": [
    "# Recipe 4. Detecting Outliers using Z-Scores\n",
    "\n",
    "Another common method for detecting outliers is using Z-scores, which measures how many standard deviations a data point is from the mean. This approach is more suitable when your data follows a normal distribution."
   ]
  },
  {
   "cell_type": "markdown",
   "id": "e73868c9-630e-42d7-b576-c5621323cbce",
   "metadata": {},
   "source": [
    "$$\n",
    "\\Large z = \\frac{x - \\mu}{\\sigma}\n",
    "$$"
   ]
  },
  {
   "cell_type": "code",
   "execution_count": 20,
   "id": "b4582d23-6cfd-42f2-8a6e-c1bf5aefb141",
   "metadata": {},
   "outputs": [],
   "source": [
    "def zscore(df, threshold=3):\n",
    "    \"\"\"\n",
    "    Detect outliers using z-score method with customizable threshold.\n",
    "    \n",
    "    Parameters:\n",
    "    df (DataFrame): Time series data with a 'value' column\n",
    "    threshold (float): The threshold in standard deviations (typically 2-3)\n",
    "    \n",
    "    Returns:\n",
    "    tuple: (outliers DataFrame, transformed DataFrame with z-scores)\n",
    "    \"\"\"\n",
    "    data = df.copy()\n",
    "    data['zscore'] = (data - data.mean())/data.std()\n",
    "    outliers = data[(data['zscore'] <= -threshold) | (data['zscore'] >= threshold)]\n",
    "    \n",
    "    return outliers, data"
   ]
  },
  {
   "cell_type": "code",
   "execution_count": 21,
   "id": "c093f6bb-a0cd-402e-a0f0-8e9c09478fd0",
   "metadata": {},
   "outputs": [],
   "source": [
    "threshold = 3\n",
    "outliers, transformed = zscore(wh[['Height']], threshold)"
   ]
  },
  {
   "cell_type": "code",
   "execution_count": 22,
   "id": "1d86f20b-5da8-4776-80a6-db09e2428d11",
   "metadata": {},
   "outputs": [
    {
     "data": {
      "image/png": "[encoded data removed]",
      "text/plain": [
       "<Figure size 1200x500 with 2 Axes>"
      ]
     },
     "metadata": {},
     "output_type": "display_data"
    }
   ],
   "source": [
    "transformed.hist();"
   ]
  },
  {
   "cell_type": "code",
   "execution_count": 23,
   "id": "89329c84-e6d4-4617-9442-b2f274b56cb3",
   "metadata": {},
   "outputs": [
    {
     "data": {
      "application/vnd.microsoft.datawrangler.viewer.v0+json": {
       "columns": [
        {
         "name": "index",
         "rawType": "int64",
         "type": "integer"
        },
        {
         "name": "Height",
         "rawType": "float64",
         "type": "float"
        },
        {
         "name": "zscore",
         "rawType": "float64",
         "type": "float"
        }
       ],
       "ref": "dc5ce07a-5a25-44e1-a5bb-91cd92dabd30",
       "rows": [
        [
         "994",
         "78.0958674715774",
         "3.0482708244375747"
        ],
        [
         "1317",
         "78.4620529193772",
         "3.143445034035347"
        ],
        [
         "2014",
         "78.9987423463896",
         "3.2829344439021027"
        ],
        [
         "3285",
         "78.5282104258694",
         "3.1606398418224586"
        ],
        [
         "3757",
         "78.621373968548",
         "3.1848537110273636"
        ],
        [
         "6624",
         "54.6168578301035",
         "-3.0540912388071733"
        ],
        [
         "9285",
         "54.2631333250971",
         "-3.1460267604987755"
        ]
       ],
       "shape": {
        "columns": 2,
        "rows": 7
       }
      },
      "text/html": [
       "<div>\n",
       "<style scoped>\n",
       "    .dataframe tbody tr th:only-of-type {\n",
       "        vertical-align: middle;\n",
       "    }\n",
       "\n",
       "    .dataframe tbody tr th {\n",
       "        vertical-align: top;\n",
       "    }\n",
       "\n",
       "    .dataframe thead th {\n",
       "        text-align: right;\n",
       "    }\n",
       "</style>\n",
       "<table border=\"1\" class=\"dataframe\">\n",
       "  <thead>\n",
       "    <tr style=\"text-align: right;\">\n",
       "      <th></th>\n",
       "      <th>Height</th>\n",
       "      <th>zscore</th>\n",
       "    </tr>\n",
       "  </thead>\n",
       "  <tbody>\n",
       "    <tr>\n",
       "      <th>994</th>\n",
       "      <td>78.095867</td>\n",
       "      <td>3.048271</td>\n",
       "    </tr>\n",
       "    <tr>\n",
       "      <th>1317</th>\n",
       "      <td>78.462053</td>\n",
       "      <td>3.143445</td>\n",
       "    </tr>\n",
       "    <tr>\n",
       "      <th>2014</th>\n",
       "      <td>78.998742</td>\n",
       "      <td>3.282934</td>\n",
       "    </tr>\n",
       "    <tr>\n",
       "      <th>3285</th>\n",
       "      <td>78.528210</td>\n",
       "      <td>3.160640</td>\n",
       "    </tr>\n",
       "    <tr>\n",
       "      <th>3757</th>\n",
       "      <td>78.621374</td>\n",
       "      <td>3.184854</td>\n",
       "    </tr>\n",
       "    <tr>\n",
       "      <th>6624</th>\n",
       "      <td>54.616858</td>\n",
       "      <td>-3.054091</td>\n",
       "    </tr>\n",
       "    <tr>\n",
       "      <th>9285</th>\n",
       "      <td>54.263133</td>\n",
       "      <td>-3.146027</td>\n",
       "    </tr>\n",
       "  </tbody>\n",
       "</table>\n",
       "</div>"
      ],
      "text/plain": [
       "         Height    zscore\n",
       "994   78.095867  3.048271\n",
       "1317  78.462053  3.143445\n",
       "2014  78.998742  3.282934\n",
       "3285  78.528210  3.160640\n",
       "3757  78.621374  3.184854\n",
       "6624  54.616858 -3.054091\n",
       "9285  54.263133 -3.146027"
      ]
     },
     "execution_count": 23,
     "metadata": {},
     "output_type": "execute_result"
    }
   ],
   "source": [
    "outliers"
   ]
  },
  {
   "cell_type": "markdown",
   "id": "823bf90e",
   "metadata": {},
   "source": [
    "## Creating a Z-Score Visualization Function\n",
    "\n",
    "To better understand how the z-score method identifies outliers, let's create a specialized visualization function. This function will:\n",
    "\n",
    "1. Plot all data points based on their z-score values\n",
    "2. Add horizontal threshold lines at the specified standard deviation boundaries\n",
    "3. Highlight points that exceed the threshold (outliers) with a different color\n",
    "\n",
    "This visualization makes it easier to interpret which data points are considered anomalous and how far they deviate from the normal range."
   ]
  },
  {
   "cell_type": "code",
   "execution_count": 24,
   "id": "a436adeb-8814-440a-98c9-5b3f40aea578",
   "metadata": {},
   "outputs": [],
   "source": [
    "def plot_zscore(data_series, d=3):\n",
    "    \"\"\"\n",
    "    Plot the standardized z-scores with threshold lines using Series index for x-axis.\n",
    "    \n",
    "    Parameters:\n",
    "    - data_series: Series containing z-scores with datetime index\n",
    "    - d: Threshold in standard deviations (default: 3)\n",
    "    \"\"\"\n",
    "    \n",
    "    plt.plot(data_series.index, data_series.values, 'k^', markersize=4)\n",
    "    \n",
    "    plt.axhline(y=d, color='r', linestyle='--', label=f'+{d} SD')\n",
    "    plt.axhline(y=-d, color='r', linestyle='--', label=f'-{d} SD')\n",
    "    \n",
    "    # Highlight outliers\n",
    "    outliers = data_series[abs(data_series) > d]\n",
    "    if not outliers.empty:\n",
    "        plt.plot(outliers.index, outliers.values, 'ro', markersize=8, label='Outliers')\n",
    "    \n",
    "    plt.ylabel('Z-score')\n",
    "    plt.title('Standardized Taxi Passenger Data with Outlier Thresholds')\n",
    "    plt.legend()\n",
    "    \n",
    "    # Format x-axis for dates\n",
    "    plt.gcf().autofmt_xdate()\n",
    "    plt.tight_layout()\n"
   ]
  },
  {
   "cell_type": "markdown",
   "id": "02af7c17",
   "metadata": {},
   "source": [
    "Let's apply our `plot_zscore` function using the same threshold value of 2.5 that we used for our outlier detection. This visualization will display:\n",
    "\n",
    "1. All data points as black triangles showing their z-score values\n",
    "2. Horizontal red dashed lines at +/- 2.5 standard deviations marking our threshold boundaries\n",
    "3. Red circles highlighting the points identified as outliers (those beyond our thresholds)\n",
    "\n",
    "This visualization makes it easy to see exactly which points are considered anomalous according to our z-score criterion."
   ]
  },
  {
   "cell_type": "code",
   "execution_count": 27,
   "id": "4ecf3b96-cbae-41fb-9f4c-c4d320076010",
   "metadata": {},
   "outputs": [
    {
     "data": {
      "image/png": "[encoded data removed]",
      "text/plain": [
       "<Figure size 1200x500 with 1 Axes>"
      ]
     },
     "metadata": {},
     "output_type": "display_data"
    }
   ],
   "source": [
    "plot_zscore(transformed['zscore'], d=3.0)\n"
   ]
  },
  {
   "cell_type": "code",
   "execution_count": 72,
   "id": "305395ff-4c22-4afb-92d6-2adad6e8a22e",
   "metadata": {},
   "outputs": [
    {
     "data": {
      "application/vnd.microsoft.datawrangler.viewer.v0+json": {
       "columns": [
        {
         "name": "index",
         "rawType": "int64",
         "type": "integer"
        },
        {
         "name": "Height",
         "rawType": "float64",
         "type": "float"
        },
        {
         "name": "zscore",
         "rawType": "float64",
         "type": "float"
        }
       ],
       "ref": "d1036d9a-5789-4ce9-bed6-0373bb1d8b0c",
       "rows": [
        [
         "994",
         "78.0958674715774",
         "3.0482708244375747"
        ],
        [
         "1317",
         "78.4620529193772",
         "3.143445034035347"
        ],
        [
         "2014",
         "78.9987423463896",
         "3.2829344439021027"
        ],
        [
         "3285",
         "78.5282104258694",
         "3.1606398418224586"
        ],
        [
         "3757",
         "78.621373968548",
         "3.1848537110273636"
        ],
        [
         "6624",
         "54.6168578301035",
         "-3.0540912388071733"
        ],
        [
         "9285",
         "54.2631333250971",
         "-3.1460267604987755"
        ]
       ],
       "shape": {
        "columns": 2,
        "rows": 7
       }
      },
      "text/html": [
       "<div>\n",
       "<style scoped>\n",
       "    .dataframe tbody tr th:only-of-type {\n",
       "        vertical-align: middle;\n",
       "    }\n",
       "\n",
       "    .dataframe tbody tr th {\n",
       "        vertical-align: top;\n",
       "    }\n",
       "\n",
       "    .dataframe thead th {\n",
       "        text-align: right;\n",
       "    }\n",
       "</style>\n",
       "<table border=\"1\" class=\"dataframe\">\n",
       "  <thead>\n",
       "    <tr style=\"text-align: right;\">\n",
       "      <th></th>\n",
       "      <th>Height</th>\n",
       "      <th>zscore</th>\n",
       "    </tr>\n",
       "  </thead>\n",
       "  <tbody>\n",
       "    <tr>\n",
       "      <th>994</th>\n",
       "      <td>78.095867</td>\n",
       "      <td>3.048271</td>\n",
       "    </tr>\n",
       "    <tr>\n",
       "      <th>1317</th>\n",
       "      <td>78.462053</td>\n",
       "      <td>3.143445</td>\n",
       "    </tr>\n",
       "    <tr>\n",
       "      <th>2014</th>\n",
       "      <td>78.998742</td>\n",
       "      <td>3.282934</td>\n",
       "    </tr>\n",
       "    <tr>\n",
       "      <th>3285</th>\n",
       "      <td>78.528210</td>\n",
       "      <td>3.160640</td>\n",
       "    </tr>\n",
       "    <tr>\n",
       "      <th>3757</th>\n",
       "      <td>78.621374</td>\n",
       "      <td>3.184854</td>\n",
       "    </tr>\n",
       "    <tr>\n",
       "      <th>6624</th>\n",
       "      <td>54.616858</td>\n",
       "      <td>-3.054091</td>\n",
       "    </tr>\n",
       "    <tr>\n",
       "      <th>9285</th>\n",
       "      <td>54.263133</td>\n",
       "      <td>-3.146027</td>\n",
       "    </tr>\n",
       "  </tbody>\n",
       "</table>\n",
       "</div>"
      ],
      "text/plain": [
       "         Height    zscore\n",
       "994   78.095867  3.048271\n",
       "1317  78.462053  3.143445\n",
       "2014  78.998742  3.282934\n",
       "3285  78.528210  3.160640\n",
       "3757  78.621374  3.184854\n",
       "6624  54.616858 -3.054091\n",
       "9285  54.263133 -3.146027"
      ]
     },
     "execution_count": 72,
     "metadata": {},
     "output_type": "execute_result"
    }
   ],
   "source": [
    "outliers"
   ]
  },
  {
   "cell_type": "markdown",
   "id": "3b320c2c-851b-44d3-b359-a7c1bb3ef2ee",
   "metadata": {
    "tags": []
   },
   "source": [
    "## There's More\n",
    "\n",
    "Since the z-score method assumes that the data follows a normal distribution, it's important to test this assumption before applying the method. If the data is not normally distributed, the z-score results may be misleading.\n",
    "\n",
    "Let's create a function that uses the Kolmogorov-Smirnov test to check if our data follows a normal distribution:"
   ]
  },
  {
   "cell_type": "code",
   "execution_count": 73,
   "id": "71b74325-6565-4d3c-92f6-c24fcd228c83",
   "metadata": {},
   "outputs": [],
   "source": [
    "from statsmodels.stats.diagnostic import kstest_normal\n",
    "\n",
    "def test_normal(df):\n",
    "    \"\"\"\n",
    "    Test if data follows a normal distribution using Kolmogorov-Smirnov test.\n",
    "    \n",
    "    Parameters:\n",
    "    df (Series or array-like): Data to test for normality\n",
    "    \n",
    "    Returns:\n",
    "    None: Prints whether to reject or fail to reject the null hypothesis\n",
    "    \"\"\"\n",
    "    t_test, p_value = kstest_normal(df)\n",
    "    if p_value < 0.05:\n",
    "        print(\"Reject null hypothesis. Data is not normal\")\n",
    "    else:\n",
    "        print(\"Fail to reject null hypothesis. Data is normal\")"
   ]
  },
  {
   "cell_type": "markdown",
   "id": "32780cb4",
   "metadata": {},
   "source": [
    "Now let's run the normality test on our taxi data to see if the z-score method is appropriate for this dataset:"
   ]
  },
  {
   "cell_type": "code",
   "execution_count": 75,
   "id": "1334509d-504f-4a89-afd4-445375978654",
   "metadata": {},
   "outputs": [
    {
     "name": "stdout",
     "output_type": "stream",
     "text": [
      "Reject null hypothesis. Data is not normal\n"
     ]
    }
   ],
   "source": [
    "test_normal(wh['Height'])"
   ]
  },
  {
   "cell_type": "markdown",
   "id": "991c4169-94eb-4c98-98f2-fd5107df34c9",
   "metadata": {},
   "source": [
    "## Conclusion on Z-Score Method\n",
    "\n",
    "Our normality test indicates that our taxi data is **not normally distributed**. This is important because:\n",
    "\n",
    "1. The z-score method assumes data follows a normal distribution\n",
    "2. When applied to non-normal data, the standard z-score thresholds may not be appropriate\n",
    "3. This could lead to either missing true outliers or flagging too many false positives\n",
    "\n",
    "This limitation brings us to our next recipe: the Modified Z-Score method, which is more robust to non-normal distributions and less influenced by extreme values.\n",
    "\n",
    "# Recipe 5. Modified Z-Score\n",
    "* Understand the difference between Z-Score and Modified Z-Score\n",
    "* When to use Modified Z-Score (and the assumptions behind Z-score)\n",
    "* Scipy's Percent Point Function (PPF)"
   ]
  },
  {
   "cell_type": "code",
   "execution_count": 76,
   "id": "7eb6cfaa-392a-4c94-a404-87df2bd7517d",
   "metadata": {},
   "outputs": [
    {
     "data": {
      "text/plain": [
       "np.float64(0.6744897501960817)"
      ]
     },
     "execution_count": 76,
     "metadata": {},
     "output_type": "execute_result"
    }
   ],
   "source": [
    "import scipy.stats as stats\n",
    "stats.norm.ppf(0.75)"
   ]
  },
  {
   "cell_type": "markdown",
   "id": "1cf5a942",
   "metadata": {},
   "source": [
    "## Understanding the Percent Point Function\n",
    "\n",
    "Before implementing the modified Z-score, let's understand the `ppf()` function from SciPy's stats module. The Percent Point Function (PPF) is the inverse of the Cumulative Distribution Function (CDF). \n",
    "\n",
    "For a standard normal distribution, `stats.norm.ppf(0.75)` returns the value below which 75% of the observations fall - which is approximately 0.6745. This constant will be used in our modified Z-score calculation to make it consistent with the standard normal distribution."
   ]
  },
  {
   "cell_type": "markdown",
   "id": "0e2f9511",
   "metadata": {},
   "source": [
    "## Implementing Modified Z-Score Method\n",
    "\n",
    "Next, we'll implement the modified Z-score method, which addresses the limitations of the standard Z-score approach by:\n",
    "\n",
    "1. Using the **median** instead of the mean as a measure of central tendency\n",
    "2. Using the **Median Absolute Deviation (MAD)** instead of standard deviation as a measure of dispersion\n",
    "\n",
    "This makes the method more robust to outliers and non-normal distributions because median and MAD are less influenced by extreme values compared to mean and standard deviation.\n",
    "\n",
    "The formula for the modified Z-score is:\n",
    "\n",
    "$$M_i = \\frac{0.6745 \\times (x_i - \\tilde{x})}{MAD}$$\n",
    "\n",
    "Where:\n",
    "- $M_i$ is the modified Z-score\n",
    "- $x_i$ is the data point\n",
    "- $\\tilde{x}$ is the median of the data\n",
    "- $MAD$ is the median absolute deviation\n",
    "- $0.6745$ is the constant that makes the modified Z-score comparable to the standard Z-score for normal distributions"
   ]
  },
  {
   "cell_type": "code",
   "execution_count": 28,
   "id": "95cee756-4ee7-443b-882d-86ee3a940585",
   "metadata": {},
   "outputs": [],
   "source": [
    "import scipy.stats as stats\n",
    "def modified_zscore(df, threshold=3):\n",
    "    \"\"\"\n",
    "    Detect outliers using a modified z-score method with customizable threshold.\n",
    "    \n",
    "    Parameters:\n",
    "    df (DataFrame): Time series data with a 'value' column\n",
    "    threshold (float): The threshold in standard deviations (typically 2-3)\n",
    "    \n",
    "    Returns:\n",
    "    tuple: (outliers DataFrame, transformed DataFrame with m_zscores)\n",
    "    \"\"\"\n",
    "    data = df.copy()\n",
    "    \n",
    "    # Calculate median and MAD\n",
    "    median = data.median()\n",
    "    MAD = np.median(np.abs(data - median))\n",
    "\n",
    "    # Calculate modified z-score\n",
    "    s = stats.norm.ppf(0.75)\n",
    "    data['m_zscore'] = s * (data - median) / MAD\n",
    "    # Identify outliers\n",
    "    outliers = data[(data['m_zscore'] > threshold) | (data['m_zscore'] < -threshold)]\n",
    "    \n",
    "    return outliers, data"
   ]
  },
  {
   "cell_type": "markdown",
   "id": "ea6f1994",
   "metadata": {},
   "source": [
    "## Applying the Modified Z-Score Method\n",
    "\n",
    "Now let's apply our `modified_zscore()` function to the daily taxi passenger count data with a threshold of 3. This will:\n",
    "\n",
    "1. Resample our data to daily averages\n",
    "2. Calculate modified Z-scores for each data point\n",
    "3. Identify outliers that exceed our specified threshold\n",
    "\n",
    "The threshold value of 3 means we'll consider any point with a modified Z-score greater than 3 or less than -3 as an outlier."
   ]
  },
  {
   "cell_type": "code",
   "execution_count": 29,
   "id": "ecf389ba-2bef-441e-ada8-3f2da8f958f8",
   "metadata": {},
   "outputs": [],
   "source": [
    "threshold =  2.5\n",
    "outliers, transformed = modified_zscore(wh[['Height']], threshold)"
   ]
  },
  {
   "cell_type": "markdown",
   "id": "9b14f42c",
   "metadata": {},
   "source": [
    "### Checking Detection Results\n",
    "\n",
    "Let's first check how many outliers were identified by our modified Z-score approach:"
   ]
  },
  {
   "cell_type": "code",
   "execution_count": 30,
   "id": "ea13b6af-082e-47c9-ab1f-f2a9f70fe701",
   "metadata": {},
   "outputs": [
    {
     "data": {
      "application/vnd.microsoft.datawrangler.viewer.v0+json": {
       "columns": [
        {
         "name": "index",
         "rawType": "int64",
         "type": "integer"
        },
        {
         "name": "Height",
         "rawType": "float64",
         "type": "float"
        },
        {
         "name": "m_zscore",
         "rawType": "float64",
         "type": "float"
        }
       ],
       "ref": "c5fe8568-4c4d-49eb-a896-2816ddebc218",
       "rows": [
        [
         "912",
         "77.1608008945486",
         "2.5761543699600047"
        ],
        [
         "994",
         "78.0958674715774",
         "2.7983194213860347"
        ],
        [
         "1317",
         "78.4620529193772",
         "2.8853224336211714"
        ],
        [
         "1922",
         "77.4466199509585",
         "2.6440629092295995"
        ],
        [
         "2014",
         "78.9987423463896",
         "3.012835957343605"
        ],
        [
         "2070",
         "77.4655691046729",
         "2.648565091013076"
        ],
        [
         "2623",
         "76.8426788279609",
         "2.5005708692559314"
        ],
        [
         "3285",
         "78.5282104258694",
         "2.901040978367751"
        ],
        [
         "3669",
         "77.0083360356505",
         "2.5399298229064797"
        ],
        [
         "3757",
         "78.621373968548",
         "2.9231759618637803"
        ],
        [
         "3909",
         "77.0673550156967",
         "2.5539523054325266"
        ],
        [
         "4275",
         "76.8668549581823",
         "2.5063149428287326"
        ],
        [
         "4297",
         "77.1008721027022",
         "2.5619157227347324"
        ],
        [
         "4331",
         "76.8487612691053",
         "2.5020160132519185"
        ],
        [
         "4569",
         "77.5471863409053",
         "2.6679567556605694"
        ],
        [
         "5345",
         "55.336492408949",
         "-2.609143379048731"
        ],
        [
         "5360",
         "55.6682021205121",
         "-2.530331552235185"
        ],
        [
         "6624",
         "54.6168578301035",
         "-2.7801233468336717"
        ],
        [
         "6625",
         "55.7397368200335",
         "-2.5133354253407596"
        ],
        [
         "7294",
         "54.8737275315254",
         "-2.719092964796579"
        ],
        [
         "7617",
         "55.1485573624105",
         "-2.653795385980311"
        ],
        [
         "8692",
         "55.6518916024929",
         "-2.534206813273853"
        ],
        [
         "9285",
         "54.2631333250971",
         "-2.8641657292435956"
        ]
       ],
       "shape": {
        "columns": 2,
        "rows": 23
       }
      },
      "text/html": [
       "<div>\n",
       "<style scoped>\n",
       "    .dataframe tbody tr th:only-of-type {\n",
       "        vertical-align: middle;\n",
       "    }\n",
       "\n",
       "    .dataframe tbody tr th {\n",
       "        vertical-align: top;\n",
       "    }\n",
       "\n",
       "    .dataframe thead th {\n",
       "        text-align: right;\n",
       "    }\n",
       "</style>\n",
       "<table border=\"1\" class=\"dataframe\">\n",
       "  <thead>\n",
       "    <tr style=\"text-align: right;\">\n",
       "      <th></th>\n",
       "      <th>Height</th>\n",
       "      <th>m_zscore</th>\n",
       "    </tr>\n",
       "  </thead>\n",
       "  <tbody>\n",
       "    <tr>\n",
       "      <th>912</th>\n",
       "      <td>77.160801</td>\n",
       "      <td>2.576154</td>\n",
       "    </tr>\n",
       "    <tr>\n",
       "      <th>994</th>\n",
       "      <td>78.095867</td>\n",
       "      <td>2.798319</td>\n",
       "    </tr>\n",
       "    <tr>\n",
       "      <th>1317</th>\n",
       "      <td>78.462053</td>\n",
       "      <td>2.885322</td>\n",
       "    </tr>\n",
       "    <tr>\n",
       "      <th>1922</th>\n",
       "      <td>77.446620</td>\n",
       "      <td>2.644063</td>\n",
       "    </tr>\n",
       "    <tr>\n",
       "      <th>2014</th>\n",
       "      <td>78.998742</td>\n",
       "      <td>3.012836</td>\n",
       "    </tr>\n",
       "    <tr>\n",
       "      <th>2070</th>\n",
       "      <td>77.465569</td>\n",
       "      <td>2.648565</td>\n",
       "    </tr>\n",
       "    <tr>\n",
       "      <th>2623</th>\n",
       "      <td>76.842679</td>\n",
       "      <td>2.500571</td>\n",
       "    </tr>\n",
       "    <tr>\n",
       "      <th>3285</th>\n",
       "      <td>78.528210</td>\n",
       "      <td>2.901041</td>\n",
       "    </tr>\n",
       "    <tr>\n",
       "      <th>3669</th>\n",
       "      <td>77.008336</td>\n",
       "      <td>2.539930</td>\n",
       "    </tr>\n",
       "    <tr>\n",
       "      <th>3757</th>\n",
       "      <td>78.621374</td>\n",
       "      <td>2.923176</td>\n",
       "    </tr>\n",
       "    <tr>\n",
       "      <th>3909</th>\n",
       "      <td>77.067355</td>\n",
       "      <td>2.553952</td>\n",
       "    </tr>\n",
       "    <tr>\n",
       "      <th>4275</th>\n",
       "      <td>76.866855</td>\n",
       "      <td>2.506315</td>\n",
       "    </tr>\n",
       "    <tr>\n",
       "      <th>4297</th>\n",
       "      <td>77.100872</td>\n",
       "      <td>2.561916</td>\n",
       "    </tr>\n",
       "    <tr>\n",
       "      <th>4331</th>\n",
       "      <td>76.848761</td>\n",
       "      <td>2.502016</td>\n",
       "    </tr>\n",
       "    <tr>\n",
       "      <th>4569</th>\n",
       "      <td>77.547186</td>\n",
       "      <td>2.667957</td>\n",
       "    </tr>\n",
       "    <tr>\n",
       "      <th>5345</th>\n",
       "      <td>55.336492</td>\n",
       "      <td>-2.609143</td>\n",
       "    </tr>\n",
       "    <tr>\n",
       "      <th>5360</th>\n",
       "      <td>55.668202</td>\n",
       "      <td>-2.530332</td>\n",
       "    </tr>\n",
       "    <tr>\n",
       "      <th>6624</th>\n",
       "      <td>54.616858</td>\n",
       "      <td>-2.780123</td>\n",
       "    </tr>\n",
       "    <tr>\n",
       "      <th>6625</th>\n",
       "      <td>55.739737</td>\n",
       "      <td>-2.513335</td>\n",
       "    </tr>\n",
       "    <tr>\n",
       "      <th>7294</th>\n",
       "      <td>54.873728</td>\n",
       "      <td>-2.719093</td>\n",
       "    </tr>\n",
       "    <tr>\n",
       "      <th>7617</th>\n",
       "      <td>55.148557</td>\n",
       "      <td>-2.653795</td>\n",
       "    </tr>\n",
       "    <tr>\n",
       "      <th>8692</th>\n",
       "      <td>55.651892</td>\n",
       "      <td>-2.534207</td>\n",
       "    </tr>\n",
       "    <tr>\n",
       "      <th>9285</th>\n",
       "      <td>54.263133</td>\n",
       "      <td>-2.864166</td>\n",
       "    </tr>\n",
       "  </tbody>\n",
       "</table>\n",
       "</div>"
      ],
      "text/plain": [
       "         Height  m_zscore\n",
       "912   77.160801  2.576154\n",
       "994   78.095867  2.798319\n",
       "1317  78.462053  2.885322\n",
       "1922  77.446620  2.644063\n",
       "2014  78.998742  3.012836\n",
       "2070  77.465569  2.648565\n",
       "2623  76.842679  2.500571\n",
       "3285  78.528210  2.901041\n",
       "3669  77.008336  2.539930\n",
       "3757  78.621374  2.923176\n",
       "3909  77.067355  2.553952\n",
       "4275  76.866855  2.506315\n",
       "4297  77.100872  2.561916\n",
       "4331  76.848761  2.502016\n",
       "4569  77.547186  2.667957\n",
       "5345  55.336492 -2.609143\n",
       "5360  55.668202 -2.530332\n",
       "6624  54.616858 -2.780123\n",
       "6625  55.739737 -2.513335\n",
       "7294  54.873728 -2.719093\n",
       "7617  55.148557 -2.653795\n",
       "8692  55.651892 -2.534207\n",
       "9285  54.263133 -2.864166"
      ]
     },
     "execution_count": 30,
     "metadata": {},
     "output_type": "execute_result"
    }
   ],
   "source": [
    "outliers.shape\n",
    "outliers"
   ]
  },
  {
   "cell_type": "markdown",
   "id": "64c027a8",
   "metadata": {},
   "source": [
    "### Visualizing Distributions\n",
    "\n",
    "To better understand how the modified Z-score transformation affects our data, let's create histograms of both the original values and the modified Z-scores:\n",
    "\n",
    "These histograms help us compare the distribution of the original data (which is likely non-normal) with the distribution of the modified Z-scores. Note that unlike standard Z-scores, which would transform a normal distribution into another normal distribution, the modified Z-score preserves the shape of the original distribution - it simply rescales it using robust statistics."
   ]
  },
  {
   "cell_type": "code",
   "execution_count": 31,
   "id": "eb3dbec8-66b0-48d9-b21f-dffb71286898",
   "metadata": {},
   "outputs": [
    {
     "data": {
      "text/plain": [
       "array([[<Axes: title={'center': 'Height'}>,\n",
       "        <Axes: title={'center': 'm_zscore'}>]], dtype=object)"
      ]
     },
     "execution_count": 31,
     "metadata": {},
     "output_type": "execute_result"
    },
    {
     "data": {
      "image/png": "[encoded data removed]",
      "text/plain": [
       "<Figure size 1200x500 with 2 Axes>"
      ]
     },
     "metadata": {},
     "output_type": "display_data"
    }
   ],
   "source": [
    "transformed.hist()"
   ]
  },
  {
   "cell_type": "markdown",
   "id": "4a5620d2",
   "metadata": {},
   "source": [
    "### Examining Identified Outliers\n",
    "\n",
    "Now let's look at the specific data points identified as outliers by the modified Z-score method. This will show us the dates and passenger counts that exceeded our threshold:"
   ]
  },
  {
   "cell_type": "code",
   "execution_count": 32,
   "id": "675783b3-b820-46cb-9c40-a227488213c7",
   "metadata": {},
   "outputs": [
    {
     "data": {
      "application/vnd.microsoft.datawrangler.viewer.v0+json": {
       "columns": [
        {
         "name": "index",
         "rawType": "int64",
         "type": "integer"
        },
        {
         "name": "Height",
         "rawType": "float64",
         "type": "float"
        },
        {
         "name": "m_zscore",
         "rawType": "float64",
         "type": "float"
        }
       ],
       "ref": "5e7a39dd-9e9e-4989-b908-d953ad5a131b",
       "rows": [
        [
         "912",
         "77.1608008945486",
         "2.5761543699600047"
        ],
        [
         "994",
         "78.0958674715774",
         "2.7983194213860347"
        ],
        [
         "1317",
         "78.4620529193772",
         "2.8853224336211714"
        ],
        [
         "1922",
         "77.4466199509585",
         "2.6440629092295995"
        ],
        [
         "2014",
         "78.9987423463896",
         "3.012835957343605"
        ],
        [
         "2070",
         "77.4655691046729",
         "2.648565091013076"
        ],
        [
         "2623",
         "76.8426788279609",
         "2.5005708692559314"
        ],
        [
         "3285",
         "78.5282104258694",
         "2.901040978367751"
        ],
        [
         "3669",
         "77.0083360356505",
         "2.5399298229064797"
        ],
        [
         "3757",
         "78.621373968548",
         "2.9231759618637803"
        ],
        [
         "3909",
         "77.0673550156967",
         "2.5539523054325266"
        ],
        [
         "4275",
         "76.8668549581823",
         "2.5063149428287326"
        ],
        [
         "4297",
         "77.1008721027022",
         "2.5619157227347324"
        ],
        [
         "4331",
         "76.8487612691053",
         "2.5020160132519185"
        ],
        [
         "4569",
         "77.5471863409053",
         "2.6679567556605694"
        ],
        [
         "5345",
         "55.336492408949",
         "-2.609143379048731"
        ],
        [
         "5360",
         "55.6682021205121",
         "-2.530331552235185"
        ],
        [
         "6624",
         "54.6168578301035",
         "-2.7801233468336717"
        ],
        [
         "6625",
         "55.7397368200335",
         "-2.5133354253407596"
        ],
        [
         "7294",
         "54.8737275315254",
         "-2.719092964796579"
        ],
        [
         "7617",
         "55.1485573624105",
         "-2.653795385980311"
        ],
        [
         "8692",
         "55.6518916024929",
         "-2.534206813273853"
        ],
        [
         "9285",
         "54.2631333250971",
         "-2.8641657292435956"
        ]
       ],
       "shape": {
        "columns": 2,
        "rows": 23
       }
      },
      "text/html": [
       "<div>\n",
       "<style scoped>\n",
       "    .dataframe tbody tr th:only-of-type {\n",
       "        vertical-align: middle;\n",
       "    }\n",
       "\n",
       "    .dataframe tbody tr th {\n",
       "        vertical-align: top;\n",
       "    }\n",
       "\n",
       "    .dataframe thead th {\n",
       "        text-align: right;\n",
       "    }\n",
       "</style>\n",
       "<table border=\"1\" class=\"dataframe\">\n",
       "  <thead>\n",
       "    <tr style=\"text-align: right;\">\n",
       "      <th></th>\n",
       "      <th>Height</th>\n",
       "      <th>m_zscore</th>\n",
       "    </tr>\n",
       "  </thead>\n",
       "  <tbody>\n",
       "    <tr>\n",
       "      <th>912</th>\n",
       "      <td>77.160801</td>\n",
       "      <td>2.576154</td>\n",
       "    </tr>\n",
       "    <tr>\n",
       "      <th>994</th>\n",
       "      <td>78.095867</td>\n",
       "      <td>2.798319</td>\n",
       "    </tr>\n",
       "    <tr>\n",
       "      <th>1317</th>\n",
       "      <td>78.462053</td>\n",
       "      <td>2.885322</td>\n",
       "    </tr>\n",
       "    <tr>\n",
       "      <th>1922</th>\n",
       "      <td>77.446620</td>\n",
       "      <td>2.644063</td>\n",
       "    </tr>\n",
       "    <tr>\n",
       "      <th>2014</th>\n",
       "      <td>78.998742</td>\n",
       "      <td>3.012836</td>\n",
       "    </tr>\n",
       "    <tr>\n",
       "      <th>2070</th>\n",
       "      <td>77.465569</td>\n",
       "      <td>2.648565</td>\n",
       "    </tr>\n",
       "    <tr>\n",
       "      <th>2623</th>\n",
       "      <td>76.842679</td>\n",
       "      <td>2.500571</td>\n",
       "    </tr>\n",
       "    <tr>\n",
       "      <th>3285</th>\n",
       "      <td>78.528210</td>\n",
       "      <td>2.901041</td>\n",
       "    </tr>\n",
       "    <tr>\n",
       "      <th>3669</th>\n",
       "      <td>77.008336</td>\n",
       "      <td>2.539930</td>\n",
       "    </tr>\n",
       "    <tr>\n",
       "      <th>3757</th>\n",
       "      <td>78.621374</td>\n",
       "      <td>2.923176</td>\n",
       "    </tr>\n",
       "    <tr>\n",
       "      <th>3909</th>\n",
       "      <td>77.067355</td>\n",
       "      <td>2.553952</td>\n",
       "    </tr>\n",
       "    <tr>\n",
       "      <th>4275</th>\n",
       "      <td>76.866855</td>\n",
       "      <td>2.506315</td>\n",
       "    </tr>\n",
       "    <tr>\n",
       "      <th>4297</th>\n",
       "      <td>77.100872</td>\n",
       "      <td>2.561916</td>\n",
       "    </tr>\n",
       "    <tr>\n",
       "      <th>4331</th>\n",
       "      <td>76.848761</td>\n",
       "      <td>2.502016</td>\n",
       "    </tr>\n",
       "    <tr>\n",
       "      <th>4569</th>\n",
       "      <td>77.547186</td>\n",
       "      <td>2.667957</td>\n",
       "    </tr>\n",
       "    <tr>\n",
       "      <th>5345</th>\n",
       "      <td>55.336492</td>\n",
       "      <td>-2.609143</td>\n",
       "    </tr>\n",
       "    <tr>\n",
       "      <th>5360</th>\n",
       "      <td>55.668202</td>\n",
       "      <td>-2.530332</td>\n",
       "    </tr>\n",
       "    <tr>\n",
       "      <th>6624</th>\n",
       "      <td>54.616858</td>\n",
       "      <td>-2.780123</td>\n",
       "    </tr>\n",
       "    <tr>\n",
       "      <th>6625</th>\n",
       "      <td>55.739737</td>\n",
       "      <td>-2.513335</td>\n",
       "    </tr>\n",
       "    <tr>\n",
       "      <th>7294</th>\n",
       "      <td>54.873728</td>\n",
       "      <td>-2.719093</td>\n",
       "    </tr>\n",
       "    <tr>\n",
       "      <th>7617</th>\n",
       "      <td>55.148557</td>\n",
       "      <td>-2.653795</td>\n",
       "    </tr>\n",
       "    <tr>\n",
       "      <th>8692</th>\n",
       "      <td>55.651892</td>\n",
       "      <td>-2.534207</td>\n",
       "    </tr>\n",
       "    <tr>\n",
       "      <th>9285</th>\n",
       "      <td>54.263133</td>\n",
       "      <td>-2.864166</td>\n",
       "    </tr>\n",
       "  </tbody>\n",
       "</table>\n",
       "</div>"
      ],
      "text/plain": [
       "         Height  m_zscore\n",
       "912   77.160801  2.576154\n",
       "994   78.095867  2.798319\n",
       "1317  78.462053  2.885322\n",
       "1922  77.446620  2.644063\n",
       "2014  78.998742  3.012836\n",
       "2070  77.465569  2.648565\n",
       "2623  76.842679  2.500571\n",
       "3285  78.528210  2.901041\n",
       "3669  77.008336  2.539930\n",
       "3757  78.621374  2.923176\n",
       "3909  77.067355  2.553952\n",
       "4275  76.866855  2.506315\n",
       "4297  77.100872  2.561916\n",
       "4331  76.848761  2.502016\n",
       "4569  77.547186  2.667957\n",
       "5345  55.336492 -2.609143\n",
       "5360  55.668202 -2.530332\n",
       "6624  54.616858 -2.780123\n",
       "6625  55.739737 -2.513335\n",
       "7294  54.873728 -2.719093\n",
       "7617  55.148557 -2.653795\n",
       "8692  55.651892 -2.534207\n",
       "9285  54.263133 -2.864166"
      ]
     },
     "execution_count": 32,
     "metadata": {},
     "output_type": "execute_result"
    }
   ],
   "source": [
    "outliers"
   ]
  },
  {
   "cell_type": "markdown",
   "id": "1528f5c1",
   "metadata": {},
   "source": [
    "### Visualizing Outliers in the Time Series\n",
    "\n",
    "Let's visualize these outliers in the context of our original time series data. This helps us understand the pattern and magnitude of the anomalies:\n",
    "\n",
    "The plot clearly shows where the outliers are located in our time series. We can observe that the modified Z-score method successfully identified major events like holidays and severe weather that caused significant deviations in taxi passenger counts."
   ]
  },
  {
   "cell_type": "markdown",
   "id": "de0366ea",
   "metadata": {},
   "source": [
    "### Visualizing Modified Z-Scores with Threshold Lines\n",
    "\n",
    "We can also visualize the modified Z-scores directly, with horizontal lines indicating our threshold boundaries:\n",
    "\n",
    "This plot shows:\n",
    "1. All data points as black triangles, representing their modified Z-score values\n",
    "2. Red dashed lines at +/- 3 standard deviations marking our threshold boundaries\n",
    "3. Red circles highlighting the points identified as outliers (those beyond our thresholds)\n",
    "\n",
    "Notice that one point is very close to the threshold line. This demonstrates the importance of carefully selecting threshold values and potentially investigating borderline cases."
   ]
  },
  {
   "cell_type": "code",
   "execution_count": 36,
   "id": "0db106f0-098d-488c-a76d-822f212588f5",
   "metadata": {},
   "outputs": [
    {
     "data": {
      "image/png": "[encoded data removed]",
      "text/plain": [
       "<Figure size 1200x500 with 1 Axes>"
      ]
     },
     "metadata": {},
     "output_type": "display_data"
    }
   ],
   "source": [
    "plot_zscore(transformed['m_zscore'], d=2.5)"
   ]
  },
  {
   "cell_type": "markdown",
   "id": "6379283a-8f40-4d87-b7b8-b452bb57d142",
   "metadata": {},
   "source": [
    "## How it Works\n",
    "\n",
    "The modified Z-score method improves upon the standard Z-score by using robust statistics—the median and Median Absolute Deviation (MAD)—which are less influenced by extreme values.\n",
    "\n",
    "### Key advantages over standard Z-scores:\n",
    "\n",
    "1. **Robustness to outliers:** Since the median and MAD are less affected by extreme values than the mean and standard deviation, the modified Z-score provides a more reliable measure when outliers are present.\n",
    "\n",
    "2. **Works with non-normal distributions:** Unlike the standard Z-score, the modified Z-score does not assume that the underlying data follows a normal distribution, making it suitable for skewed or heavy-tailed data.\n",
    "\n",
    "3. **Better detection performance:** In our example, the modified Z-score detected 6 outliers (compared to only 4 with the standard Z-score) and successfully identified more of the known anomalous dates.\n",
    "\n",
    "4. **Consistency factor:** The constant 0.6745 (derived from the 75th percentile of the standard normal distribution) makes the modified Z-score comparable to the standard Z-score for normal distributions.\n",
    "\n",
    "The modified Z-score is calculated as:\n",
    "\n",
    "$$M_i = \\frac{0.6745 \\times (x_i - \\tilde{x})}{MAD}$$\n",
    "\n",
    "Where the MAD (Median Absolute Deviation) is:\n",
    "\n",
    "$$MAD = median(|x_i - \\tilde{x}|)$$\n",
    "\n",
    "This approach minimizes the influence of outliers on both the measure of central tendency and the measure of dispersion, resulting in more reliable outlier detection, especially for real-world data."
   ]
  }
 ],
 "metadata": {
  "kernelspec": {
   "display_name": "dev1",
   "language": "python",
   "name": "python3"
  },
  "language_info": {
   "codemirror_mode": {
    "name": "ipython",
    "version": 3
   },
   "file_extension": ".py",
   "mimetype": "text/x-python",
   "name": "python",
   "nbconvert_exporter": "python",
   "pygments_lexer": "ipython3",
   "version": "3.12.11"
  },
  "toc-showmarkdowntxt": false
 },
 "nbformat": 4,
 "nbformat_minor": 5
}
