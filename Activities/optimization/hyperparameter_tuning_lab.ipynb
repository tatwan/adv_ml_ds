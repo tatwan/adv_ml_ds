{
 "cells": [
  {
   "cell_type": "markdown",
   "id": "024e1e3a",
   "metadata": {},
   "source": [
    "# Hyperparameter Tuning for Classical Machine Learning\n",
    "\n",
    "## Introduction\n",
    "\n",
    "**Hyperparameters** are configuration settings that are external to the model and whose values cannot be learned from the data. Unlike model parameters (such as weights in a neural network or coefficients in linear regression), hyperparameters must be set before the learning process begins. Examples include the number of trees in a Random Forest, the learning rate in gradient boosting, or the regularization strength in Logistic Regression.\n",
    "\n",
    "Selecting appropriate hyperparameters is crucial for model performance. Poor choices can lead to underfitting (model too simple) or overfitting (model too complex). This lab will guide you through three main approaches to hyperparameter tuning:\n",
    "\n",
    "1. **GridSearchCV** - Exhaustive search over a parameter grid\n",
    "2. **RandomizedSearchCV** - Random sampling from parameter distributions\n",
    "3. **Optuna** - Intelligent Bayesian optimization\n",
    "\n",
    "By the end of this lab, you will understand when to use each approach and how to implement them effectively for classical machine learning algorithms.\n"
   ]
  },
  {
   "cell_type": "code",
   "execution_count": 1,
   "id": "4deefb90",
   "metadata": {},
   "outputs": [
    {
     "name": "stdout",
     "output_type": "stream",
     "text": [
      "\u001b[2mUsing Python 3.12.11 environment at: /Users/tarekatwan/Repos/MyWork/Teach/repos/adv_ml_ds/dev1\u001b[0m\n",
      "\u001b[2mAudited \u001b[1m6 packages\u001b[0m \u001b[2min 8ms\u001b[0m\u001b[0m\n"
     ]
    }
   ],
   "source": [
    "!uv pip install scikit-learn pandas numpy optuna plotly nbformat"
   ]
  },
  {
   "cell_type": "code",
   "execution_count": 2,
   "id": "a6b91188",
   "metadata": {},
   "outputs": [
    {
     "name": "stdout",
     "output_type": "stream",
     "text": [
      "Libraries imported successfully!\n"
     ]
    }
   ],
   "source": [
    "# Import required libraries\n",
    "import pandas as pd\n",
    "import numpy as np\n",
    "import matplotlib.pyplot as plt\n",
    "import warnings\n",
    "warnings.filterwarnings('ignore')\n",
    "\n",
    "# Scikit-learn imports\n",
    "from sklearn.model_selection import train_test_split, GridSearchCV, RandomizedSearchCV, cross_val_score\n",
    "from sklearn.ensemble import RandomForestClassifier, GradientBoostingClassifier\n",
    "from sklearn.linear_model import LogisticRegression\n",
    "from sklearn.metrics import accuracy_score, classification_report\n",
    "from sklearn.datasets import load_breast_cancer\n",
    "from scipy.stats import randint, uniform\n",
    "\n",
    "# Optuna import\n",
    "import optuna\n",
    "from optuna.visualization import plot_optimization_history, plot_param_importances\n",
    "\n",
    "# Set random seed for reproducibility\n",
    "np.random.seed(42)\n",
    "\n",
    "print(\"Libraries imported successfully!\")\n"
   ]
  },
  {
   "cell_type": "markdown",
   "id": "e8336cec",
   "metadata": {},
   "source": [
    "## Dataset Preparation\n",
    "\n",
    "We'll use the **Breast Cancer Wisconsin dataset**, a classic binary classification problem. This dataset is more challenging than Iris and better demonstrates the impact of hyperparameter tuning.\n",
    "\n",
    "The dataset contains 569 samples with 30 features computed from digitized images of breast mass. The task is to classify tumors as malignant or benign.\n"
   ]
  },
  {
   "cell_type": "code",
   "execution_count": 3,
   "id": "d4800c12",
   "metadata": {},
   "outputs": [
    {
     "name": "stdout",
     "output_type": "stream",
     "text": [
      "Dataset shape: (569, 30)\n",
      "Training samples: 455\n",
      "Test samples: 114\n",
      "Number of features: 30\n",
      "\n",
      "Class distribution in training set:\n",
      "  Malignant (0): 170\n",
      "  Benign (1): 285\n"
     ]
    }
   ],
   "source": [
    "# Load the breast cancer dataset\n",
    "data = load_breast_cancer()\n",
    "X = data.data\n",
    "y = data.target\n",
    "\n",
    "# Split into train and test sets (80/20 split)\n",
    "X_train, X_test, y_train, y_test = train_test_split(\n",
    "    X, y, test_size=0.2, random_state=42, stratify=y\n",
    ")\n",
    "\n",
    "print(f\"Dataset shape: {X.shape}\")\n",
    "print(f\"Training samples: {len(X_train)}\")\n",
    "print(f\"Test samples: {len(X_test)}\")\n",
    "print(f\"Number of features: {X.shape[1]}\")\n",
    "print(f\"\\nClass distribution in training set:\")\n",
    "print(f\"  Malignant (0): {sum(y_train == 0)}\")\n",
    "print(f\"  Benign (1): {sum(y_train == 1)}\")\n"
   ]
  },
  {
   "cell_type": "markdown",
   "id": "57784a42",
   "metadata": {},
   "source": [
    "## Baseline Model\n",
    "\n",
    "Before tuning hyperparameters, let's establish a baseline using default parameters. This gives us a reference point to measure improvement.\n"
   ]
  },
  {
   "cell_type": "code",
   "execution_count": 4,
   "id": "618e6afa",
   "metadata": {},
   "outputs": [
    {
     "name": "stdout",
     "output_type": "stream",
     "text": [
      "Baseline Random Forest Accuracy: 0.9561\n",
      "\n",
      "Default parameters used:\n",
      "  max_depth: None\n",
      "  max_features: sqrt\n",
      "  min_samples_leaf: 1\n",
      "  min_samples_split: 2\n",
      "  n_estimators: 100\n"
     ]
    }
   ],
   "source": [
    "# Train a Random Forest with default parameters\n",
    "rf_baseline = RandomForestClassifier(random_state=42)\n",
    "rf_baseline.fit(X_train, y_train)\n",
    "\n",
    "# Evaluate on test set\n",
    "y_pred_baseline = rf_baseline.predict(X_test)\n",
    "baseline_accuracy = accuracy_score(y_test, y_pred_baseline)\n",
    "\n",
    "print(f\"Baseline Random Forest Accuracy: {baseline_accuracy:.4f}\")\n",
    "print(f\"\\nDefault parameters used:\")\n",
    "for param, value in rf_baseline.get_params().items():\n",
    "    if param in ['n_estimators', 'max_depth', 'min_samples_split', 'min_samples_leaf', 'max_features']:\n",
    "        print(f\"  {param}: {value}\")\n"
   ]
  },
  {
   "cell_type": "markdown",
   "id": "2fdd338b",
   "metadata": {},
   "source": [
    "## 1. GridSearchCV: Exhaustive Parameter Search\n",
    "\n",
    "**GridSearchCV** performs an exhaustive search over a specified parameter grid. It evaluates all possible combinations of parameters using cross-validation.\n",
    "\n",
    "### How it works:\n",
    "1. Define a grid of parameter values\n",
    "2. For each combination, train the model using cross-validation\n",
    "3. Select the combination with the best cross-validation score\n",
    "\n",
    "### Advantages:\n",
    "- Guaranteed to find the best combination within the specified grid\n",
    "- Simple and straightforward to implement\n",
    "- Reproducible results\n",
    "\n",
    "### Disadvantages:\n",
    "- Computationally expensive (grows exponentially with parameters)\n",
    "- May miss optimal values between grid points\n",
    "- Inefficient for large parameter spaces\n",
    "\n",
    "### When to use:\n",
    "- Small parameter spaces (few parameters, few values each)\n",
    "- When computational resources are available\n",
    "- When you need to guarantee finding the best combination in a limited space\n"
   ]
  },
  {
   "cell_type": "code",
   "execution_count": 5,
   "id": "f4b701e4",
   "metadata": {},
   "outputs": [
    {
     "name": "stdout",
     "output_type": "stream",
     "text": [
      "Total combinations to evaluate: 216\n",
      "With 5-fold CV, total fits: 1080\n",
      "\n",
      "Starting GridSearchCV...\n",
      "Fitting 5 folds for each of 216 candidates, totalling 1080 fits\n",
      "\n",
      "Best parameters found: {'max_depth': 10, 'max_features': 'sqrt', 'min_samples_leaf': 1, 'min_samples_split': 2, 'n_estimators': 200}\n",
      "Best cross-validation score: 0.9604\n",
      "Test set accuracy: 0.9561\n",
      "Improvement over baseline: 0.0000\n",
      "\n",
      "Best parameters found: {'max_depth': 10, 'max_features': 'sqrt', 'min_samples_leaf': 1, 'min_samples_split': 2, 'n_estimators': 200}\n",
      "Best cross-validation score: 0.9604\n",
      "Test set accuracy: 0.9561\n",
      "Improvement over baseline: 0.0000\n"
     ]
    }
   ],
   "source": [
    "# Define the parameter grid for Random Forest\n",
    "param_grid_rf = {\n",
    "    'n_estimators': [50, 100, 200],\n",
    "    'max_depth': [10, 20, 30, None],\n",
    "    'min_samples_split': [2, 5, 10],\n",
    "    'min_samples_leaf': [1, 2, 4],\n",
    "    'max_features': ['sqrt', 'log2']\n",
    "}\n",
    "\n",
    "# Calculate total combinations\n",
    "total_combinations = 1\n",
    "for param_values in param_grid_rf.values():\n",
    "    total_combinations *= len(param_values)\n",
    "print(f\"Total combinations to evaluate: {total_combinations}\")\n",
    "print(f\"With 5-fold CV, total fits: {total_combinations * 5}\\n\")\n",
    "\n",
    "# Create GridSearchCV object\n",
    "grid_search = GridSearchCV(\n",
    "    estimator=RandomForestClassifier(random_state=42),\n",
    "    param_grid=param_grid_rf,\n",
    "    cv=5,  # 5-fold cross-validation\n",
    "    n_jobs=-1,  # Use all available cores\n",
    "    verbose=1,\n",
    "    scoring='accuracy'\n",
    ")\n",
    "\n",
    "# Fit the grid search\n",
    "print(\"Starting GridSearchCV...\")\n",
    "grid_search.fit(X_train, y_train)\n",
    "\n",
    "# Display results\n",
    "print(f\"\\nBest parameters found: {grid_search.best_params_}\")\n",
    "print(f\"Best cross-validation score: {grid_search.best_score_:.4f}\")\n",
    "\n",
    "# Evaluate on test set\n",
    "y_pred_grid = grid_search.best_estimator_.predict(X_test)\n",
    "grid_accuracy = accuracy_score(y_test, y_pred_grid)\n",
    "print(f\"Test set accuracy: {grid_accuracy:.4f}\")\n",
    "print(f\"Improvement over baseline: {(grid_accuracy - baseline_accuracy):.4f}\")\n"
   ]
  },
  {
   "cell_type": "markdown",
   "id": "8772e4ad",
   "metadata": {},
   "source": [
    "## 2. RandomizedSearchCV: Efficient Random Sampling\n",
    "\n",
    "**RandomizedSearchCV** samples a fixed number of parameter combinations from specified distributions. Instead of trying every combination, it randomly samples from the parameter space.\n",
    "\n",
    "### How it works:\n",
    "1. Define probability distributions for each parameter\n",
    "2. Randomly sample parameter combinations\n",
    "3. Evaluate each combination using cross-validation\n",
    "4. Select the best performing combination\n",
    "\n",
    "### Advantages:\n",
    "- Much faster than GridSearchCV for large parameter spaces\n",
    "- Can explore a wider range of values using distributions\n",
    "- Budget can be controlled independently of parameter space size\n",
    "- Often finds near-optimal solutions quickly\n",
    "\n",
    "### Disadvantages:\n",
    "- No guarantee of finding the absolute best combination\n",
    "- Results may vary between runs (though can be controlled with random_state)\n",
    "\n",
    "### When to use:\n",
    "- Large parameter spaces where GridSearchCV is too slow\n",
    "- When you want to explore continuous or very large discrete ranges\n",
    "- When you have a limited computational budget\n",
    "- As a first pass before refining with GridSearchCV\n"
   ]
  },
  {
   "cell_type": "code",
   "execution_count": 6,
   "id": "400f2b8e",
   "metadata": {},
   "outputs": [
    {
     "name": "stdout",
     "output_type": "stream",
     "text": [
      "Starting RandomizedSearchCV...\n",
      "Will evaluate 100 random combinations (500 total fits with 5-fold CV)\n",
      "\n",
      "Fitting 5 folds for each of 100 candidates, totalling 500 fits\n",
      "\n",
      "Best parameters found: {'max_depth': 30, 'max_features': None, 'min_samples_leaf': 1, 'min_samples_split': 6, 'n_estimators': 283}\n",
      "Best cross-validation score: 0.9604\n",
      "Test set accuracy: 0.9474\n",
      "Improvement over baseline: -0.0088\n",
      "\n",
      "Best parameters found: {'max_depth': 30, 'max_features': None, 'min_samples_leaf': 1, 'min_samples_split': 6, 'n_estimators': 283}\n",
      "Best cross-validation score: 0.9604\n",
      "Test set accuracy: 0.9474\n",
      "Improvement over baseline: -0.0088\n"
     ]
    }
   ],
   "source": [
    "from scipy.stats import randint, uniform\n",
    "\n",
    "# Define parameter distributions for Random Forest\n",
    "param_dist_rf = {\n",
    "    'n_estimators': randint(50, 300),  # Random integers between 50 and 300\n",
    "    'max_depth': [10, 20, 30, 40, None],\n",
    "    'min_samples_split': randint(2, 20),\n",
    "    'min_samples_leaf': randint(1, 10),\n",
    "    'max_features': ['sqrt', 'log2', None]\n",
    "}\n",
    "\n",
    "# Create RandomizedSearchCV object\n",
    "random_search = RandomizedSearchCV(\n",
    "    estimator=RandomForestClassifier(random_state=42),\n",
    "    param_distributions=param_dist_rf,\n",
    "    n_iter=100,  # Number of random combinations to try\n",
    "    cv=5,\n",
    "    n_jobs=-1,\n",
    "    verbose=1,\n",
    "    random_state=42,\n",
    "    scoring='accuracy'\n",
    ")\n",
    "\n",
    "# Fit the random search\n",
    "print(\"Starting RandomizedSearchCV...\")\n",
    "print(f\"Will evaluate 100 random combinations (500 total fits with 5-fold CV)\\n\")\n",
    "random_search.fit(X_train, y_train)\n",
    "\n",
    "# Display results\n",
    "print(f\"\\nBest parameters found: {random_search.best_params_}\")\n",
    "print(f\"Best cross-validation score: {random_search.best_score_:.4f}\")\n",
    "\n",
    "# Evaluate on test set\n",
    "y_pred_random = random_search.best_estimator_.predict(X_test)\n",
    "random_accuracy = accuracy_score(y_test, y_pred_random)\n",
    "print(f\"Test set accuracy: {random_accuracy:.4f}\")\n",
    "print(f\"Improvement over baseline: {(random_accuracy - baseline_accuracy):.4f}\")\n"
   ]
  },
  {
   "cell_type": "markdown",
   "id": "09601713",
   "metadata": {},
   "source": [
    "## 3. Optuna: Intelligent Bayesian Optimization\n",
    "\n",
    "**Optuna** is a modern hyperparameter optimization framework that uses sophisticated algorithms to intelligently search the parameter space. Unlike grid or random search, Optuna learns from previous trials to make informed decisions about which parameters to try next.\n",
    "\n",
    "### How it works:\n",
    "1. Define an objective function that returns a metric to optimize\n",
    "2. Optuna uses **Tree-structured Parzen Estimator (TPE)** by default\n",
    "3. Each trial informs the next: promising regions are explored more\n",
    "4. Can automatically prune unpromising trials early\n",
    "\n",
    "### Key Advantages:\n",
    "- **Intelligent Search**: Uses Bayesian optimization to focus on promising regions\n",
    "- **Pruning**: Stops unpromising trials early, saving computation\n",
    "- **Flexibility**: Easy to define conditional and complex parameter spaces\n",
    "- **Dynamic**: Can add/remove parameters without restructuring code\n",
    "- **Visualization**: Built-in tools to analyze optimization process\n",
    "\n",
    "### When to use:\n",
    "- Large and complex hyperparameter spaces\n",
    "- When you want the most efficient search\n",
    "- When computational budget is limited\n",
    "- When you need conditional parameters (e.g., different params for different models)\n",
    "- For production systems where finding optimal parameters is critical\n"
   ]
  },
  {
   "cell_type": "code",
   "execution_count": 7,
   "id": "44a2e4f0",
   "metadata": {},
   "outputs": [
    {
     "name": "stdout",
     "output_type": "stream",
     "text": [
      "Starting Optuna optimization...\n"
     ]
    },
    {
     "name": "stderr",
     "output_type": "stream",
     "text": [
      "Best trial: 32. Best value: 0.958242: 100%|██████████| 100/100 [00:23<00:00,  4.31it/s]"
     ]
    },
    {
     "name": "stdout",
     "output_type": "stream",
     "text": [
      "\n",
      "Best parameters found: {'n_estimators': 289, 'max_depth': 21, 'min_samples_split': 6, 'min_samples_leaf': 4, 'max_features': 'sqrt'}\n",
      "Best cross-validation score: 0.9582\n",
      "Test set accuracy: 0.9561\n",
      "Improvement over baseline: 0.0000\n"
     ]
    },
    {
     "name": "stderr",
     "output_type": "stream",
     "text": [
      "\n"
     ]
    }
   ],
   "source": [
    "# Suppress Optuna's verbose output\n",
    "optuna.logging.set_verbosity(optuna.logging.WARNING)\n",
    "\n",
    "def objective_rf(trial):\n",
    "    \"\"\"\n",
    "    Objective function for Optuna to optimize.\n",
    "    \n",
    "    Args:\n",
    "        trial: Optuna trial object\n",
    "        \n",
    "    Returns:\n",
    "        Cross-validation accuracy score\n",
    "    \"\"\"\n",
    "    # Suggest hyperparameters\n",
    "    n_estimators = trial.suggest_int('n_estimators', 50, 300)\n",
    "    max_depth = trial.suggest_int('max_depth', 5, 50)\n",
    "    min_samples_split = trial.suggest_int('min_samples_split', 2, 20)\n",
    "    min_samples_leaf = trial.suggest_int('min_samples_leaf', 1, 10)\n",
    "    max_features = trial.suggest_categorical('max_features', ['sqrt', 'log2'])\n",
    "    \n",
    "    # Create model with suggested parameters\n",
    "    model = RandomForestClassifier(\n",
    "        n_estimators=n_estimators,\n",
    "        max_depth=max_depth,\n",
    "        min_samples_split=min_samples_split,\n",
    "        min_samples_leaf=min_samples_leaf,\n",
    "        max_features=max_features,\n",
    "        random_state=42,\n",
    "        n_jobs=-1\n",
    "    )\n",
    "    \n",
    "    # Evaluate using cross-validation\n",
    "    cv_scores = cross_val_score(model, X_train, y_train, cv=5, scoring='accuracy', n_jobs=-1)\n",
    "    \n",
    "    return cv_scores.mean()\n",
    "\n",
    "# Create study and optimize\n",
    "print(\"Starting Optuna optimization...\")\n",
    "study_rf = optuna.create_study(direction='maximize')  # We want to maximize accuracy\n",
    "study_rf.optimize(objective_rf, n_trials=100, show_progress_bar=True)\n",
    "\n",
    "# Display results\n",
    "print(f\"\\nBest parameters found: {study_rf.best_params}\")\n",
    "print(f\"Best cross-validation score: {study_rf.best_value:.4f}\")\n",
    "\n",
    "# Train final model with best parameters and evaluate on test set\n",
    "best_rf = RandomForestClassifier(**study_rf.best_params, random_state=42, n_jobs=-1)\n",
    "best_rf.fit(X_train, y_train)\n",
    "y_pred_optuna = best_rf.predict(X_test)\n",
    "optuna_accuracy = accuracy_score(y_test, y_pred_optuna)\n",
    "\n",
    "print(f\"Test set accuracy: {optuna_accuracy:.4f}\")\n",
    "print(f\"Improvement over baseline: {(optuna_accuracy - baseline_accuracy):.4f}\")\n"
   ]
  },
  {
   "cell_type": "markdown",
   "id": "3268bb0a",
   "metadata": {},
   "source": [
    "### Optuna with Multiple Algorithms\n",
    "\n",
    "One of Optuna's strengths is the ability to easily optimize across different algorithms. Let's compare Random Forest, Gradient Boosting, and Logistic Regression.\n"
   ]
  },
  {
   "cell_type": "code",
   "execution_count": 8,
   "id": "7c573cba",
   "metadata": {},
   "outputs": [
    {
     "name": "stdout",
     "output_type": "stream",
     "text": [
      "Optimizing across multiple algorithms...\n"
     ]
    },
    {
     "name": "stderr",
     "output_type": "stream",
     "text": [
      "Best trial: 51. Best value: 0.973626: 100%|██████████| 150/150 [01:00<00:00,  2.50it/s]"
     ]
    },
    {
     "name": "stdout",
     "output_type": "stream",
     "text": [
      "\n",
      "Best algorithm: GradientBoosting\n",
      "Best parameters: {'classifier': 'GradientBoosting', 'gb_n_estimators': 175, 'gb_learning_rate': 0.2979384593276022, 'gb_max_depth': 3}\n",
      "Best cross-validation score: 0.9736\n"
     ]
    },
    {
     "name": "stderr",
     "output_type": "stream",
     "text": [
      "\n"
     ]
    }
   ],
   "source": [
    "def objective_multi_model(trial):\n",
    "    \"\"\"\n",
    "    Objective function that selects and optimizes different classifiers.\n",
    "    \"\"\"\n",
    "    # First, suggest which classifier to use\n",
    "    classifier_name = trial.suggest_categorical('classifier', ['RandomForest', 'GradientBoosting', 'LogisticRegression'])\n",
    "    \n",
    "    if classifier_name == 'RandomForest':\n",
    "        n_estimators = trial.suggest_int('rf_n_estimators', 50, 300)\n",
    "        max_depth = trial.suggest_int('rf_max_depth', 5, 50)\n",
    "        min_samples_split = trial.suggest_int('rf_min_samples_split', 2, 20)\n",
    "        \n",
    "        model = RandomForestClassifier(\n",
    "            n_estimators=n_estimators,\n",
    "            max_depth=max_depth,\n",
    "            min_samples_split=min_samples_split,\n",
    "            random_state=42,\n",
    "            n_jobs=-1\n",
    "        )\n",
    "    \n",
    "    elif classifier_name == 'GradientBoosting':\n",
    "        n_estimators = trial.suggest_int('gb_n_estimators', 50, 300)\n",
    "        learning_rate = trial.suggest_float('gb_learning_rate', 0.01, 0.3, log=True)\n",
    "        max_depth = trial.suggest_int('gb_max_depth', 3, 10)\n",
    "        \n",
    "        model = GradientBoostingClassifier(\n",
    "            n_estimators=n_estimators,\n",
    "            learning_rate=learning_rate,\n",
    "            max_depth=max_depth,\n",
    "            random_state=42\n",
    "        )\n",
    "    \n",
    "    else:  # LogisticRegression\n",
    "        C = trial.suggest_float('lr_C', 0.001, 100, log=True)\n",
    "        penalty = trial.suggest_categorical('lr_penalty', ['l1', 'l2'])\n",
    "        solver = 'liblinear'  # Required for l1 penalty\n",
    "        \n",
    "        model = LogisticRegression(\n",
    "            C=C,\n",
    "            penalty=penalty,\n",
    "            solver=solver,\n",
    "            random_state=42,\n",
    "            max_iter=1000\n",
    "        )\n",
    "    \n",
    "    # Evaluate using cross-validation\n",
    "    cv_scores = cross_val_score(model, X_train, y_train, cv=5, scoring='accuracy', n_jobs=-1)\n",
    "    \n",
    "    return cv_scores.mean()\n",
    "\n",
    "# Create and run study\n",
    "print(\"Optimizing across multiple algorithms...\")\n",
    "study_multi = optuna.create_study(direction='maximize')\n",
    "study_multi.optimize(objective_multi_model, n_trials=150, show_progress_bar=True)\n",
    "\n",
    "print(f\"\\nBest algorithm: {study_multi.best_params['classifier']}\")\n",
    "print(f\"Best parameters: {study_multi.best_params}\")\n",
    "print(f\"Best cross-validation score: {study_multi.best_value:.4f}\")\n"
   ]
  },
  {
   "cell_type": "markdown",
   "id": "918f7d61",
   "metadata": {},
   "source": [
    "### Optuna Visualizations: Understanding the Optimization Process\n",
    "\n",
    "Optuna provides powerful visualization tools that help us understand how the optimization process works and which parameters are most important. These visualizations demonstrate why Optuna is more efficient than random or grid search.\n",
    "\n"
   ]
  },
  {
   "cell_type": "code",
   "execution_count": 13,
   "id": "0ce22444",
   "metadata": {},
   "outputs": [
    {
     "name": "stdout",
     "output_type": "stream",
     "text": [
      "=== Optimization History ===\n",
      "This plot shows how Optuna improved the objective value over time.\n",
      "Notice how it quickly finds good solutions and continues to refine them.\n",
      "\n"
     ]
    },
    {
     "data": {
      "application/vnd.plotly.v1+json": {
       "config": {
        "plotlyServerURL": "https://plot.ly"
       },
       "data": [
        {
         "mode": "markers",
         "name": "Objective Value",
         "type": "scatter",
         "x": [
          0,
          1,
          2,
          3,
          4,
          5,
          6,
          7,
          8,
          9,
          10,
          11,
          12,
          13,
          14,
          15,
          16,
          17,
          18,
          19,
          20,
          21,
          22,
          23,
          24,
          25,
          26,
          27,
          28,
          29,
          30,
          31,
          32,
          33,
          34,
          35,
          36,
          37,
          38,
          39,
          40,
          41,
          42,
          43,
          44,
          45,
          46,
          47,
          48,
          49,
          50,
          51,
          52,
          53,
          54,
          55,
          56,
          57,
          58,
          59,
          60,
          61,
          62,
          63,
          64,
          65,
          66,
          67,
          68,
          69,
          70,
          71,
          72,
          73,
          74,
          75,
          76,
          77,
          78,
          79,
          80,
          81,
          82,
          83,
          84,
          85,
          86,
          87,
          88,
          89,
          90,
          91,
          92,
          93,
          94,
          95,
          96,
          97,
          98,
          99
         ],
         "y": [
          0.9538461538461538,
          0.9516483516483516,
          0.9538461538461538,
          0.9560439560439562,
          0.9560439560439562,
          0.9516483516483516,
          0.9516483516483516,
          0.9560439560439562,
          0.9560439560439562,
          0.956043956043956,
          0.9494505494505494,
          0.9538461538461538,
          0.9538461538461538,
          0.9516483516483516,
          0.9538461538461538,
          0.9494505494505494,
          0.9538461538461538,
          0.9560439560439562,
          0.9538461538461538,
          0.9538461538461538,
          0.9516483516483516,
          0.953846153846154,
          0.953846153846154,
          0.9516483516483516,
          0.9494505494505494,
          0.9516483516483516,
          0.9516483516483516,
          0.9494505494505494,
          0.9582417582417582,
          0.9560439560439562,
          0.9538461538461538,
          0.9516483516483516,
          0.9582417582417584,
          0.9582417582417584,
          0.953846153846154,
          0.9560439560439562,
          0.9516483516483516,
          0.9560439560439562,
          0.956043956043956,
          0.9560439560439562,
          0.9560439560439562,
          0.9582417582417582,
          0.956043956043956,
          0.9494505494505494,
          0.9582417582417582,
          0.956043956043956,
          0.9582417582417582,
          0.9538461538461538,
          0.953846153846154,
          0.9516483516483516,
          0.9582417582417582,
          0.9582417582417582,
          0.9582417582417582,
          0.9582417582417584,
          0.9582417582417584,
          0.9582417582417584,
          0.953846153846154,
          0.9582417582417584,
          0.956043956043956,
          0.9560439560439562,
          0.9582417582417584,
          0.9582417582417584,
          0.9560439560439562,
          0.9582417582417584,
          0.9560439560439562,
          0.9582417582417584,
          0.9582417582417584,
          0.953846153846154,
          0.9560439560439562,
          0.9582417582417584,
          0.9582417582417584,
          0.9582417582417584,
          0.9582417582417584,
          0.9582417582417584,
          0.9582417582417584,
          0.9582417582417584,
          0.9560439560439562,
          0.9582417582417584,
          0.9560439560439562,
          0.9582417582417584,
          0.9582417582417584,
          0.956043956043956,
          0.9582417582417584,
          0.956043956043956,
          0.9582417582417582,
          0.9582417582417584,
          0.9582417582417582,
          0.9560439560439562,
          0.9582417582417584,
          0.9582417582417584,
          0.9582417582417584,
          0.9560439560439562,
          0.9582417582417584,
          0.9582417582417582,
          0.9582417582417584,
          0.9582417582417582,
          0.9582417582417584,
          0.9582417582417584,
          0.9538461538461538,
          0.9582417582417584
         ]
        },
        {
         "mode": "lines",
         "name": "Best Value",
         "type": "scatter",
         "x": [
          0,
          1,
          2,
          3,
          4,
          5,
          6,
          7,
          8,
          9,
          10,
          11,
          12,
          13,
          14,
          15,
          16,
          17,
          18,
          19,
          20,
          21,
          22,
          23,
          24,
          25,
          26,
          27,
          28,
          29,
          30,
          31,
          32,
          33,
          34,
          35,
          36,
          37,
          38,
          39,
          40,
          41,
          42,
          43,
          44,
          45,
          46,
          47,
          48,
          49,
          50,
          51,
          52,
          53,
          54,
          55,
          56,
          57,
          58,
          59,
          60,
          61,
          62,
          63,
          64,
          65,
          66,
          67,
          68,
          69,
          70,
          71,
          72,
          73,
          74,
          75,
          76,
          77,
          78,
          79,
          80,
          81,
          82,
          83,
          84,
          85,
          86,
          87,
          88,
          89,
          90,
          91,
          92,
          93,
          94,
          95,
          96,
          97,
          98,
          99
         ],
         "y": [
          0.9538461538461538,
          0.9538461538461538,
          0.9538461538461538,
          0.9560439560439562,
          0.9560439560439562,
          0.9560439560439562,
          0.9560439560439562,
          0.9560439560439562,
          0.9560439560439562,
          0.9560439560439562,
          0.9560439560439562,
          0.9560439560439562,
          0.9560439560439562,
          0.9560439560439562,
          0.9560439560439562,
          0.9560439560439562,
          0.9560439560439562,
          0.9560439560439562,
          0.9560439560439562,
          0.9560439560439562,
          0.9560439560439562,
          0.9560439560439562,
          0.9560439560439562,
          0.9560439560439562,
          0.9560439560439562,
          0.9560439560439562,
          0.9560439560439562,
          0.9560439560439562,
          0.9582417582417582,
          0.9582417582417582,
          0.9582417582417582,
          0.9582417582417582,
          0.9582417582417584,
          0.9582417582417584,
          0.9582417582417584,
          0.9582417582417584,
          0.9582417582417584,
          0.9582417582417584,
          0.9582417582417584,
          0.9582417582417584,
          0.9582417582417584,
          0.9582417582417584,
          0.9582417582417584,
          0.9582417582417584,
          0.9582417582417584,
          0.9582417582417584,
          0.9582417582417584,
          0.9582417582417584,
          0.9582417582417584,
          0.9582417582417584,
          0.9582417582417584,
          0.9582417582417584,
          0.9582417582417584,
          0.9582417582417584,
          0.9582417582417584,
          0.9582417582417584,
          0.9582417582417584,
          0.9582417582417584,
          0.9582417582417584,
          0.9582417582417584,
          0.9582417582417584,
          0.9582417582417584,
          0.9582417582417584,
          0.9582417582417584,
          0.9582417582417584,
          0.9582417582417584,
          0.9582417582417584,
          0.9582417582417584,
          0.9582417582417584,
          0.9582417582417584,
          0.9582417582417584,
          0.9582417582417584,
          0.9582417582417584,
          0.9582417582417584,
          0.9582417582417584,
          0.9582417582417584,
          0.9582417582417584,
          0.9582417582417584,
          0.9582417582417584,
          0.9582417582417584,
          0.9582417582417584,
          0.9582417582417584,
          0.9582417582417584,
          0.9582417582417584,
          0.9582417582417584,
          0.9582417582417584,
          0.9582417582417584,
          0.9582417582417584,
          0.9582417582417584,
          0.9582417582417584,
          0.9582417582417584,
          0.9582417582417584,
          0.9582417582417584,
          0.9582417582417584,
          0.9582417582417584,
          0.9582417582417584,
          0.9582417582417584,
          0.9582417582417584,
          0.9582417582417584,
          0.9582417582417584
         ]
        },
        {
         "marker": {
          "color": "#cccccc"
         },
         "mode": "markers",
         "name": "Infeasible Trial",
         "showlegend": false,
         "type": "scatter",
         "x": [],
         "y": []
        }
       ],
       "layout": {
        "template": {
         "data": {
          "bar": [
           {
            "error_x": {
             "color": "#2a3f5f"
            },
            "error_y": {
             "color": "#2a3f5f"
            },
            "marker": {
             "line": {
              "color": "#E5ECF6",
              "width": 0.5
             },
             "pattern": {
              "fillmode": "overlay",
              "size": 10,
              "solidity": 0.2
             }
            },
            "type": "bar"
           }
          ],
          "barpolar": [
           {
            "marker": {
             "line": {
              "color": "#E5ECF6",
              "width": 0.5
             },
             "pattern": {
              "fillmode": "overlay",
              "size": 10,
              "solidity": 0.2
             }
            },
            "type": "barpolar"
           }
          ],
          "carpet": [
           {
            "aaxis": {
             "endlinecolor": "#2a3f5f",
             "gridcolor": "white",
             "linecolor": "white",
             "minorgridcolor": "white",
             "startlinecolor": "#2a3f5f"
            },
            "baxis": {
             "endlinecolor": "#2a3f5f",
             "gridcolor": "white",
             "linecolor": "white",
             "minorgridcolor": "white",
             "startlinecolor": "#2a3f5f"
            },
            "type": "carpet"
           }
          ],
          "choropleth": [
           {
            "colorbar": {
             "outlinewidth": 0,
             "ticks": ""
            },
            "type": "choropleth"
           }
          ],
          "contour": [
           {
            "colorbar": {
             "outlinewidth": 0,
             "ticks": ""
            },
            "colorscale": [
             [
              0,
              "#0d0887"
             ],
             [
              0.1111111111111111,
              "#46039f"
             ],
             [
              0.2222222222222222,
              "#7201a8"
             ],
             [
              0.3333333333333333,
              "#9c179e"
             ],
             [
              0.4444444444444444,
              "#bd3786"
             ],
             [
              0.5555555555555556,
              "#d8576b"
             ],
             [
              0.6666666666666666,
              "#ed7953"
             ],
             [
              0.7777777777777778,
              "#fb9f3a"
             ],
             [
              0.8888888888888888,
              "#fdca26"
             ],
             [
              1,
              "#f0f921"
             ]
            ],
            "type": "contour"
           }
          ],
          "contourcarpet": [
           {
            "colorbar": {
             "outlinewidth": 0,
             "ticks": ""
            },
            "type": "contourcarpet"
           }
          ],
          "heatmap": [
           {
            "colorbar": {
             "outlinewidth": 0,
             "ticks": ""
            },
            "colorscale": [
             [
              0,
              "#0d0887"
             ],
             [
              0.1111111111111111,
              "#46039f"
             ],
             [
              0.2222222222222222,
              "#7201a8"
             ],
             [
              0.3333333333333333,
              "#9c179e"
             ],
             [
              0.4444444444444444,
              "#bd3786"
             ],
             [
              0.5555555555555556,
              "#d8576b"
             ],
             [
              0.6666666666666666,
              "#ed7953"
             ],
             [
              0.7777777777777778,
              "#fb9f3a"
             ],
             [
              0.8888888888888888,
              "#fdca26"
             ],
             [
              1,
              "#f0f921"
             ]
            ],
            "type": "heatmap"
           }
          ],
          "histogram": [
           {
            "marker": {
             "pattern": {
              "fillmode": "overlay",
              "size": 10,
              "solidity": 0.2
             }
            },
            "type": "histogram"
           }
          ],
          "histogram2d": [
           {
            "colorbar": {
             "outlinewidth": 0,
             "ticks": ""
            },
            "colorscale": [
             [
              0,
              "#0d0887"
             ],
             [
              0.1111111111111111,
              "#46039f"
             ],
             [
              0.2222222222222222,
              "#7201a8"
             ],
             [
              0.3333333333333333,
              "#9c179e"
             ],
             [
              0.4444444444444444,
              "#bd3786"
             ],
             [
              0.5555555555555556,
              "#d8576b"
             ],
             [
              0.6666666666666666,
              "#ed7953"
             ],
             [
              0.7777777777777778,
              "#fb9f3a"
             ],
             [
              0.8888888888888888,
              "#fdca26"
             ],
             [
              1,
              "#f0f921"
             ]
            ],
            "type": "histogram2d"
           }
          ],
          "histogram2dcontour": [
           {
            "colorbar": {
             "outlinewidth": 0,
             "ticks": ""
            },
            "colorscale": [
             [
              0,
              "#0d0887"
             ],
             [
              0.1111111111111111,
              "#46039f"
             ],
             [
              0.2222222222222222,
              "#7201a8"
             ],
             [
              0.3333333333333333,
              "#9c179e"
             ],
             [
              0.4444444444444444,
              "#bd3786"
             ],
             [
              0.5555555555555556,
              "#d8576b"
             ],
             [
              0.6666666666666666,
              "#ed7953"
             ],
             [
              0.7777777777777778,
              "#fb9f3a"
             ],
             [
              0.8888888888888888,
              "#fdca26"
             ],
             [
              1,
              "#f0f921"
             ]
            ],
            "type": "histogram2dcontour"
           }
          ],
          "mesh3d": [
           {
            "colorbar": {
             "outlinewidth": 0,
             "ticks": ""
            },
            "type": "mesh3d"
           }
          ],
          "parcoords": [
           {
            "line": {
             "colorbar": {
              "outlinewidth": 0,
              "ticks": ""
             }
            },
            "type": "parcoords"
           }
          ],
          "pie": [
           {
            "automargin": true,
            "type": "pie"
           }
          ],
          "scatter": [
           {
            "fillpattern": {
             "fillmode": "overlay",
             "size": 10,
             "solidity": 0.2
            },
            "type": "scatter"
           }
          ],
          "scatter3d": [
           {
            "line": {
             "colorbar": {
              "outlinewidth": 0,
              "ticks": ""
             }
            },
            "marker": {
             "colorbar": {
              "outlinewidth": 0,
              "ticks": ""
             }
            },
            "type": "scatter3d"
           }
          ],
          "scattercarpet": [
           {
            "marker": {
             "colorbar": {
              "outlinewidth": 0,
              "ticks": ""
             }
            },
            "type": "scattercarpet"
           }
          ],
          "scattergeo": [
           {
            "marker": {
             "colorbar": {
              "outlinewidth": 0,
              "ticks": ""
             }
            },
            "type": "scattergeo"
           }
          ],
          "scattergl": [
           {
            "marker": {
             "colorbar": {
              "outlinewidth": 0,
              "ticks": ""
             }
            },
            "type": "scattergl"
           }
          ],
          "scattermap": [
           {
            "marker": {
             "colorbar": {
              "outlinewidth": 0,
              "ticks": ""
             }
            },
            "type": "scattermap"
           }
          ],
          "scattermapbox": [
           {
            "marker": {
             "colorbar": {
              "outlinewidth": 0,
              "ticks": ""
             }
            },
            "type": "scattermapbox"
           }
          ],
          "scatterpolar": [
           {
            "marker": {
             "colorbar": {
              "outlinewidth": 0,
              "ticks": ""
             }
            },
            "type": "scatterpolar"
           }
          ],
          "scatterpolargl": [
           {
            "marker": {
             "colorbar": {
              "outlinewidth": 0,
              "ticks": ""
             }
            },
            "type": "scatterpolargl"
           }
          ],
          "scatterternary": [
           {
            "marker": {
             "colorbar": {
              "outlinewidth": 0,
              "ticks": ""
             }
            },
            "type": "scatterternary"
           }
          ],
          "surface": [
           {
            "colorbar": {
             "outlinewidth": 0,
             "ticks": ""
            },
            "colorscale": [
             [
              0,
              "#0d0887"
             ],
             [
              0.1111111111111111,
              "#46039f"
             ],
             [
              0.2222222222222222,
              "#7201a8"
             ],
             [
              0.3333333333333333,
              "#9c179e"
             ],
             [
              0.4444444444444444,
              "#bd3786"
             ],
             [
              0.5555555555555556,
              "#d8576b"
             ],
             [
              0.6666666666666666,
              "#ed7953"
             ],
             [
              0.7777777777777778,
              "#fb9f3a"
             ],
             [
              0.8888888888888888,
              "#fdca26"
             ],
             [
              1,
              "#f0f921"
             ]
            ],
            "type": "surface"
           }
          ],
          "table": [
           {
            "cells": {
             "fill": {
              "color": "#EBF0F8"
             },
             "line": {
              "color": "white"
             }
            },
            "header": {
             "fill": {
              "color": "#C8D4E3"
             },
             "line": {
              "color": "white"
             }
            },
            "type": "table"
           }
          ]
         },
         "layout": {
          "annotationdefaults": {
           "arrowcolor": "#2a3f5f",
           "arrowhead": 0,
           "arrowwidth": 1
          },
          "autotypenumbers": "strict",
          "coloraxis": {
           "colorbar": {
            "outlinewidth": 0,
            "ticks": ""
           }
          },
          "colorscale": {
           "diverging": [
            [
             0,
             "#8e0152"
            ],
            [
             0.1,
             "#c51b7d"
            ],
            [
             0.2,
             "#de77ae"
            ],
            [
             0.3,
             "#f1b6da"
            ],
            [
             0.4,
             "#fde0ef"
            ],
            [
             0.5,
             "#f7f7f7"
            ],
            [
             0.6,
             "#e6f5d0"
            ],
            [
             0.7,
             "#b8e186"
            ],
            [
             0.8,
             "#7fbc41"
            ],
            [
             0.9,
             "#4d9221"
            ],
            [
             1,
             "#276419"
            ]
           ],
           "sequential": [
            [
             0,
             "#0d0887"
            ],
            [
             0.1111111111111111,
             "#46039f"
            ],
            [
             0.2222222222222222,
             "#7201a8"
            ],
            [
             0.3333333333333333,
             "#9c179e"
            ],
            [
             0.4444444444444444,
             "#bd3786"
            ],
            [
             0.5555555555555556,
             "#d8576b"
            ],
            [
             0.6666666666666666,
             "#ed7953"
            ],
            [
             0.7777777777777778,
             "#fb9f3a"
            ],
            [
             0.8888888888888888,
             "#fdca26"
            ],
            [
             1,
             "#f0f921"
            ]
           ],
           "sequentialminus": [
            [
             0,
             "#0d0887"
            ],
            [
             0.1111111111111111,
             "#46039f"
            ],
            [
             0.2222222222222222,
             "#7201a8"
            ],
            [
             0.3333333333333333,
             "#9c179e"
            ],
            [
             0.4444444444444444,
             "#bd3786"
            ],
            [
             0.5555555555555556,
             "#d8576b"
            ],
            [
             0.6666666666666666,
             "#ed7953"
            ],
            [
             0.7777777777777778,
             "#fb9f3a"
            ],
            [
             0.8888888888888888,
             "#fdca26"
            ],
            [
             1,
             "#f0f921"
            ]
           ]
          },
          "colorway": [
           "#636efa",
           "#EF553B",
           "#00cc96",
           "#ab63fa",
           "#FFA15A",
           "#19d3f3",
           "#FF6692",
           "#B6E880",
           "#FF97FF",
           "#FECB52"
          ],
          "font": {
           "color": "#2a3f5f"
          },
          "geo": {
           "bgcolor": "white",
           "lakecolor": "white",
           "landcolor": "#E5ECF6",
           "showlakes": true,
           "showland": true,
           "subunitcolor": "white"
          },
          "hoverlabel": {
           "align": "left"
          },
          "hovermode": "closest",
          "mapbox": {
           "style": "light"
          },
          "paper_bgcolor": "white",
          "plot_bgcolor": "#E5ECF6",
          "polar": {
           "angularaxis": {
            "gridcolor": "white",
            "linecolor": "white",
            "ticks": ""
           },
           "bgcolor": "#E5ECF6",
           "radialaxis": {
            "gridcolor": "white",
            "linecolor": "white",
            "ticks": ""
           }
          },
          "scene": {
           "xaxis": {
            "backgroundcolor": "#E5ECF6",
            "gridcolor": "white",
            "gridwidth": 2,
            "linecolor": "white",
            "showbackground": true,
            "ticks": "",
            "zerolinecolor": "white"
           },
           "yaxis": {
            "backgroundcolor": "#E5ECF6",
            "gridcolor": "white",
            "gridwidth": 2,
            "linecolor": "white",
            "showbackground": true,
            "ticks": "",
            "zerolinecolor": "white"
           },
           "zaxis": {
            "backgroundcolor": "#E5ECF6",
            "gridcolor": "white",
            "gridwidth": 2,
            "linecolor": "white",
            "showbackground": true,
            "ticks": "",
            "zerolinecolor": "white"
           }
          },
          "shapedefaults": {
           "line": {
            "color": "#2a3f5f"
           }
          },
          "ternary": {
           "aaxis": {
            "gridcolor": "white",
            "linecolor": "white",
            "ticks": ""
           },
           "baxis": {
            "gridcolor": "white",
            "linecolor": "white",
            "ticks": ""
           },
           "bgcolor": "#E5ECF6",
           "caxis": {
            "gridcolor": "white",
            "linecolor": "white",
            "ticks": ""
           }
          },
          "title": {
           "x": 0.05
          },
          "xaxis": {
           "automargin": true,
           "gridcolor": "white",
           "linecolor": "white",
           "ticks": "",
           "title": {
            "standoff": 15
           },
           "zerolinecolor": "white",
           "zerolinewidth": 2
          },
          "yaxis": {
           "automargin": true,
           "gridcolor": "white",
           "linecolor": "white",
           "ticks": "",
           "title": {
            "standoff": 15
           },
           "zerolinecolor": "white",
           "zerolinewidth": 2
          }
         }
        },
        "title": {
         "text": "Optimization History Plot"
        },
        "xaxis": {
         "title": {
          "text": "Trial"
         }
        },
        "yaxis": {
         "title": {
          "text": "Objective Value"
         }
        }
       }
      }
     },
     "metadata": {},
     "output_type": "display_data"
    }
   ],
   "source": [
    "# 1. Optimization History: Shows how the objective value improved over trials\n",
    "print(\"=== Optimization History ===\")\n",
    "print(\"This plot shows how Optuna improved the objective value over time.\")\n",
    "print(\"Notice how it quickly finds good solutions and continues to refine them.\\n\")\n",
    "\n",
    "fig_history = plot_optimization_history(study_rf)\n",
    "fig_history.show()\n",
    "\n"
   ]
  },
  {
   "cell_type": "code",
   "execution_count": null,
   "id": "e6b096e4",
   "metadata": {},
   "outputs": [
    {
     "name": "stdout",
     "output_type": "stream",
     "text": [
      "\n",
      "=== Parameter Importance ===\n",
      "This visualization shows which hyperparameters were most important for the optimization.\n",
      "Notice how different parameters matter for different algorithms!\n",
      "\n"
     ]
    },
    {
     "data": {
      "application/vnd.plotly.v1+json": {
       "config": {
        "plotlyServerURL": "https://plot.ly"
       },
       "data": [
        {
         "cliponaxis": false,
         "hovertemplate": [
          "max_features (CategoricalDistribution): 0.018198767648859027<extra></extra>",
          "max_depth (IntDistribution): 0.07462229154646224<extra></extra>",
          "min_samples_leaf (IntDistribution): 0.10207534076099736<extra></extra>",
          "n_estimators (IntDistribution): 0.3932204337598385<extra></extra>",
          "min_samples_split (IntDistribution): 0.4118831662838427<extra></extra>"
         ],
         "name": "Objective Value",
         "orientation": "h",
         "text": [
          "0.02",
          "0.07",
          "0.10",
          "0.39",
          "0.41"
         ],
         "textposition": "outside",
         "type": "bar",
         "x": [
          0.018198767648859027,
          0.07462229154646224,
          0.10207534076099736,
          0.3932204337598385,
          0.4118831662838427
         ],
         "y": [
          "max_features",
          "max_depth",
          "min_samples_leaf",
          "n_estimators",
          "min_samples_split"
         ]
        }
       ],
       "layout": {
        "template": {
         "data": {
          "bar": [
           {
            "error_x": {
             "color": "#2a3f5f"
            },
            "error_y": {
             "color": "#2a3f5f"
            },
            "marker": {
             "line": {
              "color": "#E5ECF6",
              "width": 0.5
             },
             "pattern": {
              "fillmode": "overlay",
              "size": 10,
              "solidity": 0.2
             }
            },
            "type": "bar"
           }
          ],
          "barpolar": [
           {
            "marker": {
             "line": {
              "color": "#E5ECF6",
              "width": 0.5
             },
             "pattern": {
              "fillmode": "overlay",
              "size": 10,
              "solidity": 0.2
             }
            },
            "type": "barpolar"
           }
          ],
          "carpet": [
           {
            "aaxis": {
             "endlinecolor": "#2a3f5f",
             "gridcolor": "white",
             "linecolor": "white",
             "minorgridcolor": "white",
             "startlinecolor": "#2a3f5f"
            },
            "baxis": {
             "endlinecolor": "#2a3f5f",
             "gridcolor": "white",
             "linecolor": "white",
             "minorgridcolor": "white",
             "startlinecolor": "#2a3f5f"
            },
            "type": "carpet"
           }
          ],
          "choropleth": [
           {
            "colorbar": {
             "outlinewidth": 0,
             "ticks": ""
            },
            "type": "choropleth"
           }
          ],
          "contour": [
           {
            "colorbar": {
             "outlinewidth": 0,
             "ticks": ""
            },
            "colorscale": [
             [
              0,
              "#0d0887"
             ],
             [
              0.1111111111111111,
              "#46039f"
             ],
             [
              0.2222222222222222,
              "#7201a8"
             ],
             [
              0.3333333333333333,
              "#9c179e"
             ],
             [
              0.4444444444444444,
              "#bd3786"
             ],
             [
              0.5555555555555556,
              "#d8576b"
             ],
             [
              0.6666666666666666,
              "#ed7953"
             ],
             [
              0.7777777777777778,
              "#fb9f3a"
             ],
             [
              0.8888888888888888,
              "#fdca26"
             ],
             [
              1,
              "#f0f921"
             ]
            ],
            "type": "contour"
           }
          ],
          "contourcarpet": [
           {
            "colorbar": {
             "outlinewidth": 0,
             "ticks": ""
            },
            "type": "contourcarpet"
           }
          ],
          "heatmap": [
           {
            "colorbar": {
             "outlinewidth": 0,
             "ticks": ""
            },
            "colorscale": [
             [
              0,
              "#0d0887"
             ],
             [
              0.1111111111111111,
              "#46039f"
             ],
             [
              0.2222222222222222,
              "#7201a8"
             ],
             [
              0.3333333333333333,
              "#9c179e"
             ],
             [
              0.4444444444444444,
              "#bd3786"
             ],
             [
              0.5555555555555556,
              "#d8576b"
             ],
             [
              0.6666666666666666,
              "#ed7953"
             ],
             [
              0.7777777777777778,
              "#fb9f3a"
             ],
             [
              0.8888888888888888,
              "#fdca26"
             ],
             [
              1,
              "#f0f921"
             ]
            ],
            "type": "heatmap"
           }
          ],
          "histogram": [
           {
            "marker": {
             "pattern": {
              "fillmode": "overlay",
              "size": 10,
              "solidity": 0.2
             }
            },
            "type": "histogram"
           }
          ],
          "histogram2d": [
           {
            "colorbar": {
             "outlinewidth": 0,
             "ticks": ""
            },
            "colorscale": [
             [
              0,
              "#0d0887"
             ],
             [
              0.1111111111111111,
              "#46039f"
             ],
             [
              0.2222222222222222,
              "#7201a8"
             ],
             [
              0.3333333333333333,
              "#9c179e"
             ],
             [
              0.4444444444444444,
              "#bd3786"
             ],
             [
              0.5555555555555556,
              "#d8576b"
             ],
             [
              0.6666666666666666,
              "#ed7953"
             ],
             [
              0.7777777777777778,
              "#fb9f3a"
             ],
             [
              0.8888888888888888,
              "#fdca26"
             ],
             [
              1,
              "#f0f921"
             ]
            ],
            "type": "histogram2d"
           }
          ],
          "histogram2dcontour": [
           {
            "colorbar": {
             "outlinewidth": 0,
             "ticks": ""
            },
            "colorscale": [
             [
              0,
              "#0d0887"
             ],
             [
              0.1111111111111111,
              "#46039f"
             ],
             [
              0.2222222222222222,
              "#7201a8"
             ],
             [
              0.3333333333333333,
              "#9c179e"
             ],
             [
              0.4444444444444444,
              "#bd3786"
             ],
             [
              0.5555555555555556,
              "#d8576b"
             ],
             [
              0.6666666666666666,
              "#ed7953"
             ],
             [
              0.7777777777777778,
              "#fb9f3a"
             ],
             [
              0.8888888888888888,
              "#fdca26"
             ],
             [
              1,
              "#f0f921"
             ]
            ],
            "type": "histogram2dcontour"
           }
          ],
          "mesh3d": [
           {
            "colorbar": {
             "outlinewidth": 0,
             "ticks": ""
            },
            "type": "mesh3d"
           }
          ],
          "parcoords": [
           {
            "line": {
             "colorbar": {
              "outlinewidth": 0,
              "ticks": ""
             }
            },
            "type": "parcoords"
           }
          ],
          "pie": [
           {
            "automargin": true,
            "type": "pie"
           }
          ],
          "scatter": [
           {
            "fillpattern": {
             "fillmode": "overlay",
             "size": 10,
             "solidity": 0.2
            },
            "type": "scatter"
           }
          ],
          "scatter3d": [
           {
            "line": {
             "colorbar": {
              "outlinewidth": 0,
              "ticks": ""
             }
            },
            "marker": {
             "colorbar": {
              "outlinewidth": 0,
              "ticks": ""
             }
            },
            "type": "scatter3d"
           }
          ],
          "scattercarpet": [
           {
            "marker": {
             "colorbar": {
              "outlinewidth": 0,
              "ticks": ""
             }
            },
            "type": "scattercarpet"
           }
          ],
          "scattergeo": [
           {
            "marker": {
             "colorbar": {
              "outlinewidth": 0,
              "ticks": ""
             }
            },
            "type": "scattergeo"
           }
          ],
          "scattergl": [
           {
            "marker": {
             "colorbar": {
              "outlinewidth": 0,
              "ticks": ""
             }
            },
            "type": "scattergl"
           }
          ],
          "scattermap": [
           {
            "marker": {
             "colorbar": {
              "outlinewidth": 0,
              "ticks": ""
             }
            },
            "type": "scattermap"
           }
          ],
          "scattermapbox": [
           {
            "marker": {
             "colorbar": {
              "outlinewidth": 0,
              "ticks": ""
             }
            },
            "type": "scattermapbox"
           }
          ],
          "scatterpolar": [
           {
            "marker": {
             "colorbar": {
              "outlinewidth": 0,
              "ticks": ""
             }
            },
            "type": "scatterpolar"
           }
          ],
          "scatterpolargl": [
           {
            "marker": {
             "colorbar": {
              "outlinewidth": 0,
              "ticks": ""
             }
            },
            "type": "scatterpolargl"
           }
          ],
          "scatterternary": [
           {
            "marker": {
             "colorbar": {
              "outlinewidth": 0,
              "ticks": ""
             }
            },
            "type": "scatterternary"
           }
          ],
          "surface": [
           {
            "colorbar": {
             "outlinewidth": 0,
             "ticks": ""
            },
            "colorscale": [
             [
              0,
              "#0d0887"
             ],
             [
              0.1111111111111111,
              "#46039f"
             ],
             [
              0.2222222222222222,
              "#7201a8"
             ],
             [
              0.3333333333333333,
              "#9c179e"
             ],
             [
              0.4444444444444444,
              "#bd3786"
             ],
             [
              0.5555555555555556,
              "#d8576b"
             ],
             [
              0.6666666666666666,
              "#ed7953"
             ],
             [
              0.7777777777777778,
              "#fb9f3a"
             ],
             [
              0.8888888888888888,
              "#fdca26"
             ],
             [
              1,
              "#f0f921"
             ]
            ],
            "type": "surface"
           }
          ],
          "table": [
           {
            "cells": {
             "fill": {
              "color": "#EBF0F8"
             },
             "line": {
              "color": "white"
             }
            },
            "header": {
             "fill": {
              "color": "#C8D4E3"
             },
             "line": {
              "color": "white"
             }
            },
            "type": "table"
           }
          ]
         },
         "layout": {
          "annotationdefaults": {
           "arrowcolor": "#2a3f5f",
           "arrowhead": 0,
           "arrowwidth": 1
          },
          "autotypenumbers": "strict",
          "coloraxis": {
           "colorbar": {
            "outlinewidth": 0,
            "ticks": ""
           }
          },
          "colorscale": {
           "diverging": [
            [
             0,
             "#8e0152"
            ],
            [
             0.1,
             "#c51b7d"
            ],
            [
             0.2,
             "#de77ae"
            ],
            [
             0.3,
             "#f1b6da"
            ],
            [
             0.4,
             "#fde0ef"
            ],
            [
             0.5,
             "#f7f7f7"
            ],
            [
             0.6,
             "#e6f5d0"
            ],
            [
             0.7,
             "#b8e186"
            ],
            [
             0.8,
             "#7fbc41"
            ],
            [
             0.9,
             "#4d9221"
            ],
            [
             1,
             "#276419"
            ]
           ],
           "sequential": [
            [
             0,
             "#0d0887"
            ],
            [
             0.1111111111111111,
             "#46039f"
            ],
            [
             0.2222222222222222,
             "#7201a8"
            ],
            [
             0.3333333333333333,
             "#9c179e"
            ],
            [
             0.4444444444444444,
             "#bd3786"
            ],
            [
             0.5555555555555556,
             "#d8576b"
            ],
            [
             0.6666666666666666,
             "#ed7953"
            ],
            [
             0.7777777777777778,
             "#fb9f3a"
            ],
            [
             0.8888888888888888,
             "#fdca26"
            ],
            [
             1,
             "#f0f921"
            ]
           ],
           "sequentialminus": [
            [
             0,
             "#0d0887"
            ],
            [
             0.1111111111111111,
             "#46039f"
            ],
            [
             0.2222222222222222,
             "#7201a8"
            ],
            [
             0.3333333333333333,
             "#9c179e"
            ],
            [
             0.4444444444444444,
             "#bd3786"
            ],
            [
             0.5555555555555556,
             "#d8576b"
            ],
            [
             0.6666666666666666,
             "#ed7953"
            ],
            [
             0.7777777777777778,
             "#fb9f3a"
            ],
            [
             0.8888888888888888,
             "#fdca26"
            ],
            [
             1,
             "#f0f921"
            ]
           ]
          },
          "colorway": [
           "#636efa",
           "#EF553B",
           "#00cc96",
           "#ab63fa",
           "#FFA15A",
           "#19d3f3",
           "#FF6692",
           "#B6E880",
           "#FF97FF",
           "#FECB52"
          ],
          "font": {
           "color": "#2a3f5f"
          },
          "geo": {
           "bgcolor": "white",
           "lakecolor": "white",
           "landcolor": "#E5ECF6",
           "showlakes": true,
           "showland": true,
           "subunitcolor": "white"
          },
          "hoverlabel": {
           "align": "left"
          },
          "hovermode": "closest",
          "mapbox": {
           "style": "light"
          },
          "paper_bgcolor": "white",
          "plot_bgcolor": "#E5ECF6",
          "polar": {
           "angularaxis": {
            "gridcolor": "white",
            "linecolor": "white",
            "ticks": ""
           },
           "bgcolor": "#E5ECF6",
           "radialaxis": {
            "gridcolor": "white",
            "linecolor": "white",
            "ticks": ""
           }
          },
          "scene": {
           "xaxis": {
            "backgroundcolor": "#E5ECF6",
            "gridcolor": "white",
            "gridwidth": 2,
            "linecolor": "white",
            "showbackground": true,
            "ticks": "",
            "zerolinecolor": "white"
           },
           "yaxis": {
            "backgroundcolor": "#E5ECF6",
            "gridcolor": "white",
            "gridwidth": 2,
            "linecolor": "white",
            "showbackground": true,
            "ticks": "",
            "zerolinecolor": "white"
           },
           "zaxis": {
            "backgroundcolor": "#E5ECF6",
            "gridcolor": "white",
            "gridwidth": 2,
            "linecolor": "white",
            "showbackground": true,
            "ticks": "",
            "zerolinecolor": "white"
           }
          },
          "shapedefaults": {
           "line": {
            "color": "#2a3f5f"
           }
          },
          "ternary": {
           "aaxis": {
            "gridcolor": "white",
            "linecolor": "white",
            "ticks": ""
           },
           "baxis": {
            "gridcolor": "white",
            "linecolor": "white",
            "ticks": ""
           },
           "bgcolor": "#E5ECF6",
           "caxis": {
            "gridcolor": "white",
            "linecolor": "white",
            "ticks": ""
           }
          },
          "title": {
           "x": 0.05
          },
          "xaxis": {
           "automargin": true,
           "gridcolor": "white",
           "linecolor": "white",
           "ticks": "",
           "title": {
            "standoff": 15
           },
           "zerolinecolor": "white",
           "zerolinewidth": 2
          },
          "yaxis": {
           "automargin": true,
           "gridcolor": "white",
           "linecolor": "white",
           "ticks": "",
           "title": {
            "standoff": 15
           },
           "zerolinecolor": "white",
           "zerolinewidth": 2
          }
         }
        },
        "title": {
         "text": "Hyperparameter Importances"
        },
        "xaxis": {
         "title": {
          "text": "Hyperparameter Importance"
         }
        },
        "yaxis": {
         "title": {
          "text": "Hyperparameter"
         }
        }
       }
      }
     },
     "metadata": {},
     "output_type": "display_data"
    }
   ],
   "source": [
    "# 2. Parameter Importance: Shows which parameters had the most impact on performance\n",
    "print(\"\\n=== Parameter Importance ===\")\n",
    "print(\"This visualization shows which hyperparameters were most important for the optimization.\")\n",
    "print(\"Notice how some parameters like n_estimators and max_depth have much higher importance than others!\\n\")\n",
    "\n",
    "fig_importance = plot_param_importances(study_rf)\n",
    "fig_importance.show()\n",
    "\n"
   ]
  },
  {
   "cell_type": "code",
   "execution_count": 15,
   "id": "3911d3a9",
   "metadata": {},
   "outputs": [
    {
     "name": "stdout",
     "output_type": "stream",
     "text": [
      "\n",
      "=== Parallel Coordinate Plot ===\n",
      "This plot shows how different parameter combinations relate to performance.\n",
      "Lines represent individual trials, colored by objective value (brighter = better).\n",
      "You can see how Optuna explores the parameter space intelligently!\n",
      "\n"
     ]
    },
    {
     "data": {
      "application/vnd.plotly.v1+json": {
       "config": {
        "plotlyServerURL": "https://plot.ly"
       },
       "data": [
        {
         "dimensions": [
          {
           "label": "Objective Value",
           "range": [
            0.9494505494505494,
            0.9582417582417584
           ],
           "values": [
            0.9538461538461538,
            0.9516483516483516,
            0.9538461538461538,
            0.9560439560439562,
            0.9560439560439562,
            0.9516483516483516,
            0.9516483516483516,
            0.9560439560439562,
            0.9560439560439562,
            0.956043956043956,
            0.9494505494505494,
            0.9538461538461538,
            0.9538461538461538,
            0.9516483516483516,
            0.9538461538461538,
            0.9494505494505494,
            0.9538461538461538,
            0.9560439560439562,
            0.9538461538461538,
            0.9538461538461538,
            0.9516483516483516,
            0.953846153846154,
            0.953846153846154,
            0.9516483516483516,
            0.9494505494505494,
            0.9516483516483516,
            0.9516483516483516,
            0.9494505494505494,
            0.9582417582417582,
            0.9560439560439562,
            0.9538461538461538,
            0.9516483516483516,
            0.9582417582417584,
            0.9582417582417584,
            0.953846153846154,
            0.9560439560439562,
            0.9516483516483516,
            0.9560439560439562,
            0.956043956043956,
            0.9560439560439562,
            0.9560439560439562,
            0.9582417582417582,
            0.956043956043956,
            0.9494505494505494,
            0.9582417582417582,
            0.956043956043956,
            0.9582417582417582,
            0.9538461538461538,
            0.953846153846154,
            0.9516483516483516,
            0.9582417582417582,
            0.9582417582417582,
            0.9582417582417582,
            0.9582417582417584,
            0.9582417582417584,
            0.9582417582417584,
            0.953846153846154,
            0.9582417582417584,
            0.956043956043956,
            0.9560439560439562,
            0.9582417582417584,
            0.9582417582417584,
            0.9560439560439562,
            0.9582417582417584,
            0.9560439560439562,
            0.9582417582417584,
            0.9582417582417584,
            0.953846153846154,
            0.9560439560439562,
            0.9582417582417584,
            0.9582417582417584,
            0.9582417582417584,
            0.9582417582417584,
            0.9582417582417584,
            0.9582417582417584,
            0.9582417582417584,
            0.9560439560439562,
            0.9582417582417584,
            0.9560439560439562,
            0.9582417582417584,
            0.9582417582417584,
            0.956043956043956,
            0.9582417582417584,
            0.956043956043956,
            0.9582417582417582,
            0.9582417582417584,
            0.9582417582417582,
            0.9560439560439562,
            0.9582417582417584,
            0.9582417582417584,
            0.9582417582417584,
            0.9560439560439562,
            0.9582417582417584,
            0.9582417582417582,
            0.9582417582417584,
            0.9582417582417582,
            0.9582417582417584,
            0.9582417582417584,
            0.9538461538461538,
            0.9582417582417584
           ]
          },
          {
           "label": "max_depth",
           "range": [
            5,
            49
           ],
           "values": [
            21,
            28,
            14,
            48,
            6,
            33,
            25,
            21,
            37,
            12,
            49,
            5,
            49,
            40,
            43,
            5,
            13,
            31,
            45,
            36,
            18,
            23,
            11,
            18,
            28,
            9,
            18,
            8,
            16,
            16,
            8,
            24,
            21,
            21,
            20,
            26,
            32,
            15,
            22,
            26,
            29,
            19,
            21,
            16,
            20,
            19,
            14,
            23,
            12,
            17,
            20,
            15,
            14,
            11,
            10,
            10,
            10,
            6,
            7,
            5,
            11,
            12,
            10,
            7,
            10,
            6,
            13,
            8,
            11,
            9,
            37,
            12,
            13,
            11,
            6,
            9,
            7,
            12,
            5,
            9,
            15,
            7,
            7,
            10,
            8,
            14,
            11,
            6,
            35,
            17,
            29,
            6,
            9,
            6,
            40,
            8,
            12,
            5,
            10,
            26
           ]
          },
          {
           "label": "max_features",
           "range": [
            0,
            1
           ],
           "ticktext": [
            "log2",
            "sqrt"
           ],
           "tickvals": [
            0,
            1
           ],
           "values": [
            0,
            1,
            1,
            0,
            0,
            1,
            0,
            1,
            1,
            0,
            0,
            0,
            0,
            0,
            0,
            0,
            0,
            0,
            0,
            0,
            0,
            1,
            1,
            1,
            1,
            1,
            1,
            0,
            1,
            0,
            0,
            1,
            1,
            1,
            1,
            1,
            1,
            1,
            1,
            1,
            1,
            1,
            1,
            1,
            1,
            1,
            1,
            1,
            1,
            1,
            1,
            1,
            1,
            1,
            1,
            1,
            1,
            1,
            1,
            1,
            1,
            1,
            1,
            1,
            1,
            1,
            1,
            1,
            1,
            1,
            1,
            1,
            1,
            1,
            1,
            1,
            1,
            1,
            1,
            1,
            1,
            1,
            1,
            1,
            1,
            1,
            0,
            1,
            1,
            1,
            1,
            1,
            1,
            1,
            1,
            1,
            1,
            1,
            0,
            1
           ]
          },
          {
           "label": "min_samples_leaf",
           "range": [
            1,
            10
           ],
           "values": [
            1,
            10,
            6,
            7,
            5,
            5,
            4,
            6,
            2,
            5,
            9,
            7,
            8,
            3,
            8,
            4,
            8,
            7,
            4,
            10,
            7,
            6,
            6,
            5,
            3,
            7,
            6,
            9,
            5,
            1,
            3,
            5,
            4,
            4,
            4,
            2,
            4,
            3,
            5,
            2,
            6,
            5,
            4,
            5,
            5,
            4,
            5,
            3,
            6,
            4,
            5,
            5,
            5,
            4,
            4,
            4,
            4,
            3,
            2,
            3,
            3,
            3,
            3,
            1,
            2,
            4,
            3,
            4,
            2,
            3,
            4,
            3,
            3,
            4,
            4,
            3,
            2,
            4,
            3,
            3,
            4,
            2,
            1,
            1,
            1,
            4,
            2,
            3,
            4,
            3,
            4,
            4,
            4,
            5,
            4,
            5,
            3,
            4,
            1,
            3
           ]
          },
          {
           "label": "min_samples_split",
           "range": [
            2,
            20
           ],
           "values": [
            7,
            11,
            5,
            18,
            7,
            4,
            16,
            6,
            2,
            6,
            20,
            11,
            15,
            20,
            9,
            15,
            17,
            13,
            9,
            2,
            9,
            7,
            4,
            18,
            13,
            8,
            13,
            4,
            10,
            10,
            12,
            7,
            6,
            8,
            10,
            8,
            12,
            5,
            6,
            8,
            3,
            10,
            10,
            12,
            11,
            11,
            6,
            11,
            9,
            14,
            8,
            6,
            5,
            6,
            7,
            7,
            7,
            5,
            3,
            5,
            3,
            3,
            5,
            4,
            7,
            2,
            4,
            6,
            7,
            3,
            6,
            3,
            4,
            5,
            2,
            8,
            7,
            3,
            4,
            5,
            6,
            4,
            4,
            5,
            3,
            6,
            2,
            8,
            7,
            5,
            9,
            2,
            2,
            3,
            4,
            6,
            3,
            2,
            7,
            4
           ]
          },
          {
           "label": "n_estimators",
           "range": [
            51,
            300
           ],
           "values": [
            216,
            287,
            102,
            130,
            99,
            100,
            138,
            173,
            130,
            246,
            66,
            62,
            174,
            134,
            98,
            213,
            160,
            78,
            117,
            210,
            142,
            184,
            161,
            189,
            85,
            156,
            116,
            51,
            235,
            251,
            245,
            201,
            289,
            296,
            295,
            270,
            276,
            229,
            298,
            278,
            265,
            258,
            258,
            231,
            288,
            287,
            285,
            236,
            300,
            263,
            277,
            285,
            287,
            257,
            254,
            253,
            221,
            256,
            246,
            252,
            270,
            271,
            241,
            260,
            222,
            272,
            252,
            205,
            279,
            294,
            266,
            269,
            254,
            244,
            268,
            291,
            277,
            282,
            272,
            258,
            240,
            263,
            259,
            250,
            228,
            296,
            262,
            236,
            274,
            281,
            300,
            273,
            292,
            269,
            284,
            248,
            257,
            274,
            290,
            266
           ]
          }
         ],
         "labelangle": 30,
         "labelside": "bottom",
         "line": {
          "color": [
           0.9538461538461538,
           0.9516483516483516,
           0.9538461538461538,
           0.9560439560439562,
           0.9560439560439562,
           0.9516483516483516,
           0.9516483516483516,
           0.9560439560439562,
           0.9560439560439562,
           0.956043956043956,
           0.9494505494505494,
           0.9538461538461538,
           0.9538461538461538,
           0.9516483516483516,
           0.9538461538461538,
           0.9494505494505494,
           0.9538461538461538,
           0.9560439560439562,
           0.9538461538461538,
           0.9538461538461538,
           0.9516483516483516,
           0.953846153846154,
           0.953846153846154,
           0.9516483516483516,
           0.9494505494505494,
           0.9516483516483516,
           0.9516483516483516,
           0.9494505494505494,
           0.9582417582417582,
           0.9560439560439562,
           0.9538461538461538,
           0.9516483516483516,
           0.9582417582417584,
           0.9582417582417584,
           0.953846153846154,
           0.9560439560439562,
           0.9516483516483516,
           0.9560439560439562,
           0.956043956043956,
           0.9560439560439562,
           0.9560439560439562,
           0.9582417582417582,
           0.956043956043956,
           0.9494505494505494,
           0.9582417582417582,
           0.956043956043956,
           0.9582417582417582,
           0.9538461538461538,
           0.953846153846154,
           0.9516483516483516,
           0.9582417582417582,
           0.9582417582417582,
           0.9582417582417582,
           0.9582417582417584,
           0.9582417582417584,
           0.9582417582417584,
           0.953846153846154,
           0.9582417582417584,
           0.956043956043956,
           0.9560439560439562,
           0.9582417582417584,
           0.9582417582417584,
           0.9560439560439562,
           0.9582417582417584,
           0.9560439560439562,
           0.9582417582417584,
           0.9582417582417584,
           0.953846153846154,
           0.9560439560439562,
           0.9582417582417584,
           0.9582417582417584,
           0.9582417582417584,
           0.9582417582417584,
           0.9582417582417584,
           0.9582417582417584,
           0.9582417582417584,
           0.9560439560439562,
           0.9582417582417584,
           0.9560439560439562,
           0.9582417582417584,
           0.9582417582417584,
           0.956043956043956,
           0.9582417582417584,
           0.956043956043956,
           0.9582417582417582,
           0.9582417582417584,
           0.9582417582417582,
           0.9560439560439562,
           0.9582417582417584,
           0.9582417582417584,
           0.9582417582417584,
           0.9560439560439562,
           0.9582417582417584,
           0.9582417582417582,
           0.9582417582417584,
           0.9582417582417582,
           0.9582417582417584,
           0.9582417582417584,
           0.9538461538461538,
           0.9582417582417584
          ],
          "colorbar": {
           "title": {
            "text": "Objective Value"
           }
          },
          "colorscale": [
           [
            0,
            "rgb(247,251,255)"
           ],
           [
            0.125,
            "rgb(222,235,247)"
           ],
           [
            0.25,
            "rgb(198,219,239)"
           ],
           [
            0.375,
            "rgb(158,202,225)"
           ],
           [
            0.5,
            "rgb(107,174,214)"
           ],
           [
            0.625,
            "rgb(66,146,198)"
           ],
           [
            0.75,
            "rgb(33,113,181)"
           ],
           [
            0.875,
            "rgb(8,81,156)"
           ],
           [
            1,
            "rgb(8,48,107)"
           ]
          ],
          "reversescale": false,
          "showscale": true
         },
         "type": "parcoords"
        }
       ],
       "layout": {
        "template": {
         "data": {
          "bar": [
           {
            "error_x": {
             "color": "#2a3f5f"
            },
            "error_y": {
             "color": "#2a3f5f"
            },
            "marker": {
             "line": {
              "color": "#E5ECF6",
              "width": 0.5
             },
             "pattern": {
              "fillmode": "overlay",
              "size": 10,
              "solidity": 0.2
             }
            },
            "type": "bar"
           }
          ],
          "barpolar": [
           {
            "marker": {
             "line": {
              "color": "#E5ECF6",
              "width": 0.5
             },
             "pattern": {
              "fillmode": "overlay",
              "size": 10,
              "solidity": 0.2
             }
            },
            "type": "barpolar"
           }
          ],
          "carpet": [
           {
            "aaxis": {
             "endlinecolor": "#2a3f5f",
             "gridcolor": "white",
             "linecolor": "white",
             "minorgridcolor": "white",
             "startlinecolor": "#2a3f5f"
            },
            "baxis": {
             "endlinecolor": "#2a3f5f",
             "gridcolor": "white",
             "linecolor": "white",
             "minorgridcolor": "white",
             "startlinecolor": "#2a3f5f"
            },
            "type": "carpet"
           }
          ],
          "choropleth": [
           {
            "colorbar": {
             "outlinewidth": 0,
             "ticks": ""
            },
            "type": "choropleth"
           }
          ],
          "contour": [
           {
            "colorbar": {
             "outlinewidth": 0,
             "ticks": ""
            },
            "colorscale": [
             [
              0,
              "#0d0887"
             ],
             [
              0.1111111111111111,
              "#46039f"
             ],
             [
              0.2222222222222222,
              "#7201a8"
             ],
             [
              0.3333333333333333,
              "#9c179e"
             ],
             [
              0.4444444444444444,
              "#bd3786"
             ],
             [
              0.5555555555555556,
              "#d8576b"
             ],
             [
              0.6666666666666666,
              "#ed7953"
             ],
             [
              0.7777777777777778,
              "#fb9f3a"
             ],
             [
              0.8888888888888888,
              "#fdca26"
             ],
             [
              1,
              "#f0f921"
             ]
            ],
            "type": "contour"
           }
          ],
          "contourcarpet": [
           {
            "colorbar": {
             "outlinewidth": 0,
             "ticks": ""
            },
            "type": "contourcarpet"
           }
          ],
          "heatmap": [
           {
            "colorbar": {
             "outlinewidth": 0,
             "ticks": ""
            },
            "colorscale": [
             [
              0,
              "#0d0887"
             ],
             [
              0.1111111111111111,
              "#46039f"
             ],
             [
              0.2222222222222222,
              "#7201a8"
             ],
             [
              0.3333333333333333,
              "#9c179e"
             ],
             [
              0.4444444444444444,
              "#bd3786"
             ],
             [
              0.5555555555555556,
              "#d8576b"
             ],
             [
              0.6666666666666666,
              "#ed7953"
             ],
             [
              0.7777777777777778,
              "#fb9f3a"
             ],
             [
              0.8888888888888888,
              "#fdca26"
             ],
             [
              1,
              "#f0f921"
             ]
            ],
            "type": "heatmap"
           }
          ],
          "histogram": [
           {
            "marker": {
             "pattern": {
              "fillmode": "overlay",
              "size": 10,
              "solidity": 0.2
             }
            },
            "type": "histogram"
           }
          ],
          "histogram2d": [
           {
            "colorbar": {
             "outlinewidth": 0,
             "ticks": ""
            },
            "colorscale": [
             [
              0,
              "#0d0887"
             ],
             [
              0.1111111111111111,
              "#46039f"
             ],
             [
              0.2222222222222222,
              "#7201a8"
             ],
             [
              0.3333333333333333,
              "#9c179e"
             ],
             [
              0.4444444444444444,
              "#bd3786"
             ],
             [
              0.5555555555555556,
              "#d8576b"
             ],
             [
              0.6666666666666666,
              "#ed7953"
             ],
             [
              0.7777777777777778,
              "#fb9f3a"
             ],
             [
              0.8888888888888888,
              "#fdca26"
             ],
             [
              1,
              "#f0f921"
             ]
            ],
            "type": "histogram2d"
           }
          ],
          "histogram2dcontour": [
           {
            "colorbar": {
             "outlinewidth": 0,
             "ticks": ""
            },
            "colorscale": [
             [
              0,
              "#0d0887"
             ],
             [
              0.1111111111111111,
              "#46039f"
             ],
             [
              0.2222222222222222,
              "#7201a8"
             ],
             [
              0.3333333333333333,
              "#9c179e"
             ],
             [
              0.4444444444444444,
              "#bd3786"
             ],
             [
              0.5555555555555556,
              "#d8576b"
             ],
             [
              0.6666666666666666,
              "#ed7953"
             ],
             [
              0.7777777777777778,
              "#fb9f3a"
             ],
             [
              0.8888888888888888,
              "#fdca26"
             ],
             [
              1,
              "#f0f921"
             ]
            ],
            "type": "histogram2dcontour"
           }
          ],
          "mesh3d": [
           {
            "colorbar": {
             "outlinewidth": 0,
             "ticks": ""
            },
            "type": "mesh3d"
           }
          ],
          "parcoords": [
           {
            "line": {
             "colorbar": {
              "outlinewidth": 0,
              "ticks": ""
             }
            },
            "type": "parcoords"
           }
          ],
          "pie": [
           {
            "automargin": true,
            "type": "pie"
           }
          ],
          "scatter": [
           {
            "fillpattern": {
             "fillmode": "overlay",
             "size": 10,
             "solidity": 0.2
            },
            "type": "scatter"
           }
          ],
          "scatter3d": [
           {
            "line": {
             "colorbar": {
              "outlinewidth": 0,
              "ticks": ""
             }
            },
            "marker": {
             "colorbar": {
              "outlinewidth": 0,
              "ticks": ""
             }
            },
            "type": "scatter3d"
           }
          ],
          "scattercarpet": [
           {
            "marker": {
             "colorbar": {
              "outlinewidth": 0,
              "ticks": ""
             }
            },
            "type": "scattercarpet"
           }
          ],
          "scattergeo": [
           {
            "marker": {
             "colorbar": {
              "outlinewidth": 0,
              "ticks": ""
             }
            },
            "type": "scattergeo"
           }
          ],
          "scattergl": [
           {
            "marker": {
             "colorbar": {
              "outlinewidth": 0,
              "ticks": ""
             }
            },
            "type": "scattergl"
           }
          ],
          "scattermap": [
           {
            "marker": {
             "colorbar": {
              "outlinewidth": 0,
              "ticks": ""
             }
            },
            "type": "scattermap"
           }
          ],
          "scattermapbox": [
           {
            "marker": {
             "colorbar": {
              "outlinewidth": 0,
              "ticks": ""
             }
            },
            "type": "scattermapbox"
           }
          ],
          "scatterpolar": [
           {
            "marker": {
             "colorbar": {
              "outlinewidth": 0,
              "ticks": ""
             }
            },
            "type": "scatterpolar"
           }
          ],
          "scatterpolargl": [
           {
            "marker": {
             "colorbar": {
              "outlinewidth": 0,
              "ticks": ""
             }
            },
            "type": "scatterpolargl"
           }
          ],
          "scatterternary": [
           {
            "marker": {
             "colorbar": {
              "outlinewidth": 0,
              "ticks": ""
             }
            },
            "type": "scatterternary"
           }
          ],
          "surface": [
           {
            "colorbar": {
             "outlinewidth": 0,
             "ticks": ""
            },
            "colorscale": [
             [
              0,
              "#0d0887"
             ],
             [
              0.1111111111111111,
              "#46039f"
             ],
             [
              0.2222222222222222,
              "#7201a8"
             ],
             [
              0.3333333333333333,
              "#9c179e"
             ],
             [
              0.4444444444444444,
              "#bd3786"
             ],
             [
              0.5555555555555556,
              "#d8576b"
             ],
             [
              0.6666666666666666,
              "#ed7953"
             ],
             [
              0.7777777777777778,
              "#fb9f3a"
             ],
             [
              0.8888888888888888,
              "#fdca26"
             ],
             [
              1,
              "#f0f921"
             ]
            ],
            "type": "surface"
           }
          ],
          "table": [
           {
            "cells": {
             "fill": {
              "color": "#EBF0F8"
             },
             "line": {
              "color": "white"
             }
            },
            "header": {
             "fill": {
              "color": "#C8D4E3"
             },
             "line": {
              "color": "white"
             }
            },
            "type": "table"
           }
          ]
         },
         "layout": {
          "annotationdefaults": {
           "arrowcolor": "#2a3f5f",
           "arrowhead": 0,
           "arrowwidth": 1
          },
          "autotypenumbers": "strict",
          "coloraxis": {
           "colorbar": {
            "outlinewidth": 0,
            "ticks": ""
           }
          },
          "colorscale": {
           "diverging": [
            [
             0,
             "#8e0152"
            ],
            [
             0.1,
             "#c51b7d"
            ],
            [
             0.2,
             "#de77ae"
            ],
            [
             0.3,
             "#f1b6da"
            ],
            [
             0.4,
             "#fde0ef"
            ],
            [
             0.5,
             "#f7f7f7"
            ],
            [
             0.6,
             "#e6f5d0"
            ],
            [
             0.7,
             "#b8e186"
            ],
            [
             0.8,
             "#7fbc41"
            ],
            [
             0.9,
             "#4d9221"
            ],
            [
             1,
             "#276419"
            ]
           ],
           "sequential": [
            [
             0,
             "#0d0887"
            ],
            [
             0.1111111111111111,
             "#46039f"
            ],
            [
             0.2222222222222222,
             "#7201a8"
            ],
            [
             0.3333333333333333,
             "#9c179e"
            ],
            [
             0.4444444444444444,
             "#bd3786"
            ],
            [
             0.5555555555555556,
             "#d8576b"
            ],
            [
             0.6666666666666666,
             "#ed7953"
            ],
            [
             0.7777777777777778,
             "#fb9f3a"
            ],
            [
             0.8888888888888888,
             "#fdca26"
            ],
            [
             1,
             "#f0f921"
            ]
           ],
           "sequentialminus": [
            [
             0,
             "#0d0887"
            ],
            [
             0.1111111111111111,
             "#46039f"
            ],
            [
             0.2222222222222222,
             "#7201a8"
            ],
            [
             0.3333333333333333,
             "#9c179e"
            ],
            [
             0.4444444444444444,
             "#bd3786"
            ],
            [
             0.5555555555555556,
             "#d8576b"
            ],
            [
             0.6666666666666666,
             "#ed7953"
            ],
            [
             0.7777777777777778,
             "#fb9f3a"
            ],
            [
             0.8888888888888888,
             "#fdca26"
            ],
            [
             1,
             "#f0f921"
            ]
           ]
          },
          "colorway": [
           "#636efa",
           "#EF553B",
           "#00cc96",
           "#ab63fa",
           "#FFA15A",
           "#19d3f3",
           "#FF6692",
           "#B6E880",
           "#FF97FF",
           "#FECB52"
          ],
          "font": {
           "color": "#2a3f5f"
          },
          "geo": {
           "bgcolor": "white",
           "lakecolor": "white",
           "landcolor": "#E5ECF6",
           "showlakes": true,
           "showland": true,
           "subunitcolor": "white"
          },
          "hoverlabel": {
           "align": "left"
          },
          "hovermode": "closest",
          "mapbox": {
           "style": "light"
          },
          "paper_bgcolor": "white",
          "plot_bgcolor": "#E5ECF6",
          "polar": {
           "angularaxis": {
            "gridcolor": "white",
            "linecolor": "white",
            "ticks": ""
           },
           "bgcolor": "#E5ECF6",
           "radialaxis": {
            "gridcolor": "white",
            "linecolor": "white",
            "ticks": ""
           }
          },
          "scene": {
           "xaxis": {
            "backgroundcolor": "#E5ECF6",
            "gridcolor": "white",
            "gridwidth": 2,
            "linecolor": "white",
            "showbackground": true,
            "ticks": "",
            "zerolinecolor": "white"
           },
           "yaxis": {
            "backgroundcolor": "#E5ECF6",
            "gridcolor": "white",
            "gridwidth": 2,
            "linecolor": "white",
            "showbackground": true,
            "ticks": "",
            "zerolinecolor": "white"
           },
           "zaxis": {
            "backgroundcolor": "#E5ECF6",
            "gridcolor": "white",
            "gridwidth": 2,
            "linecolor": "white",
            "showbackground": true,
            "ticks": "",
            "zerolinecolor": "white"
           }
          },
          "shapedefaults": {
           "line": {
            "color": "#2a3f5f"
           }
          },
          "ternary": {
           "aaxis": {
            "gridcolor": "white",
            "linecolor": "white",
            "ticks": ""
           },
           "baxis": {
            "gridcolor": "white",
            "linecolor": "white",
            "ticks": ""
           },
           "bgcolor": "#E5ECF6",
           "caxis": {
            "gridcolor": "white",
            "linecolor": "white",
            "ticks": ""
           }
          },
          "title": {
           "x": 0.05
          },
          "xaxis": {
           "automargin": true,
           "gridcolor": "white",
           "linecolor": "white",
           "ticks": "",
           "title": {
            "standoff": 15
           },
           "zerolinecolor": "white",
           "zerolinewidth": 2
          },
          "yaxis": {
           "automargin": true,
           "gridcolor": "white",
           "linecolor": "white",
           "ticks": "",
           "title": {
            "standoff": 15
           },
           "zerolinecolor": "white",
           "zerolinewidth": 2
          }
         }
        },
        "title": {
         "text": "Parallel Coordinate Plot"
        }
       }
      }
     },
     "metadata": {},
     "output_type": "display_data"
    }
   ],
   "source": [
    "# 3. Parallel Coordinate Plot: Shows relationships between parameters and objective value\n",
    "print(\"\\n=== Parallel Coordinate Plot ===\")\n",
    "print(\"This plot shows how different parameter combinations relate to performance.\")\n",
    "print(\"Lines represent individual trials, colored by objective value (brighter = better).\")\n",
    "print(\"You can see how Optuna explores the parameter space intelligently!\\n\")\n",
    "\n",
    "from optuna.visualization import plot_parallel_coordinate\n",
    "fig_parallel = plot_parallel_coordinate(study_rf)\n",
    "fig_parallel.show()\n",
    "\n"
   ]
  },
  {
   "cell_type": "code",
   "execution_count": 16,
   "id": "ab84d745",
   "metadata": {},
   "outputs": [
    {
     "name": "stdout",
     "output_type": "stream",
     "text": [
      "\n",
      "=== Slice Plot ===\n",
      "This plot shows the relationship between each parameter and the objective value.\n",
      "The vertical lines show the current best values for each parameter.\n",
      "\n"
     ]
    },
    {
     "data": {
      "application/vnd.plotly.v1+json": {
       "config": {
        "plotlyServerURL": "https://plot.ly"
       },
       "data": [
        {
         "marker": {
          "color": [
           0,
           1,
           2,
           3,
           4,
           5,
           6,
           7,
           8,
           9,
           10,
           11,
           12,
           13,
           14,
           15,
           16,
           17,
           18,
           19,
           20,
           21,
           22,
           23,
           24,
           25,
           26,
           27,
           28,
           29,
           30,
           31,
           32,
           33,
           34,
           35,
           36,
           37,
           38,
           39,
           40,
           41,
           42,
           43,
           44,
           45,
           46,
           47,
           48,
           49,
           50,
           51,
           52,
           53,
           54,
           55,
           56,
           57,
           58,
           59,
           60,
           61,
           62,
           63,
           64,
           65,
           66,
           67,
           68,
           69,
           70,
           71,
           72,
           73,
           74,
           75,
           76,
           77,
           78,
           79,
           80,
           81,
           82,
           83,
           84,
           85,
           86,
           87,
           88,
           89,
           90,
           91,
           92,
           93,
           94,
           95,
           96,
           97,
           98,
           99
          ],
          "colorbar": {
           "title": {
            "text": "Trial"
           },
           "x": 1,
           "xpad": 40
          },
          "colorscale": [
           [
            0,
            "rgb(247,251,255)"
           ],
           [
            0.125,
            "rgb(222,235,247)"
           ],
           [
            0.25,
            "rgb(198,219,239)"
           ],
           [
            0.375,
            "rgb(158,202,225)"
           ],
           [
            0.5,
            "rgb(107,174,214)"
           ],
           [
            0.625,
            "rgb(66,146,198)"
           ],
           [
            0.75,
            "rgb(33,113,181)"
           ],
           [
            0.875,
            "rgb(8,81,156)"
           ],
           [
            1,
            "rgb(8,48,107)"
           ]
          ],
          "line": {
           "color": "Grey",
           "width": 0.5
          },
          "showscale": true
         },
         "mode": "markers",
         "name": "Feasible Trial",
         "showlegend": false,
         "type": "scatter",
         "x": [
          21,
          28,
          14,
          48,
          6,
          33,
          25,
          21,
          37,
          12,
          49,
          5,
          49,
          40,
          43,
          5,
          13,
          31,
          45,
          36,
          18,
          23,
          11,
          18,
          28,
          9,
          18,
          8,
          16,
          16,
          8,
          24,
          21,
          21,
          20,
          26,
          32,
          15,
          22,
          26,
          29,
          19,
          21,
          16,
          20,
          19,
          14,
          23,
          12,
          17,
          20,
          15,
          14,
          11,
          10,
          10,
          10,
          6,
          7,
          5,
          11,
          12,
          10,
          7,
          10,
          6,
          13,
          8,
          11,
          9,
          37,
          12,
          13,
          11,
          6,
          9,
          7,
          12,
          5,
          9,
          15,
          7,
          7,
          10,
          8,
          14,
          11,
          6,
          35,
          17,
          29,
          6,
          9,
          6,
          40,
          8,
          12,
          5,
          10,
          26
         ],
         "xaxis": "x",
         "y": [
          0.9538461538461538,
          0.9516483516483516,
          0.9538461538461538,
          0.9560439560439562,
          0.9560439560439562,
          0.9516483516483516,
          0.9516483516483516,
          0.9560439560439562,
          0.9560439560439562,
          0.956043956043956,
          0.9494505494505494,
          0.9538461538461538,
          0.9538461538461538,
          0.9516483516483516,
          0.9538461538461538,
          0.9494505494505494,
          0.9538461538461538,
          0.9560439560439562,
          0.9538461538461538,
          0.9538461538461538,
          0.9516483516483516,
          0.953846153846154,
          0.953846153846154,
          0.9516483516483516,
          0.9494505494505494,
          0.9516483516483516,
          0.9516483516483516,
          0.9494505494505494,
          0.9582417582417582,
          0.9560439560439562,
          0.9538461538461538,
          0.9516483516483516,
          0.9582417582417584,
          0.9582417582417584,
          0.953846153846154,
          0.9560439560439562,
          0.9516483516483516,
          0.9560439560439562,
          0.956043956043956,
          0.9560439560439562,
          0.9560439560439562,
          0.9582417582417582,
          0.956043956043956,
          0.9494505494505494,
          0.9582417582417582,
          0.956043956043956,
          0.9582417582417582,
          0.9538461538461538,
          0.953846153846154,
          0.9516483516483516,
          0.9582417582417582,
          0.9582417582417582,
          0.9582417582417582,
          0.9582417582417584,
          0.9582417582417584,
          0.9582417582417584,
          0.953846153846154,
          0.9582417582417584,
          0.956043956043956,
          0.9560439560439562,
          0.9582417582417584,
          0.9582417582417584,
          0.9560439560439562,
          0.9582417582417584,
          0.9560439560439562,
          0.9582417582417584,
          0.9582417582417584,
          0.953846153846154,
          0.9560439560439562,
          0.9582417582417584,
          0.9582417582417584,
          0.9582417582417584,
          0.9582417582417584,
          0.9582417582417584,
          0.9582417582417584,
          0.9582417582417584,
          0.9560439560439562,
          0.9582417582417584,
          0.9560439560439562,
          0.9582417582417584,
          0.9582417582417584,
          0.956043956043956,
          0.9582417582417584,
          0.956043956043956,
          0.9582417582417582,
          0.9582417582417584,
          0.9582417582417582,
          0.9560439560439562,
          0.9582417582417584,
          0.9582417582417584,
          0.9582417582417584,
          0.9560439560439562,
          0.9582417582417584,
          0.9582417582417582,
          0.9582417582417584,
          0.9582417582417582,
          0.9582417582417584,
          0.9582417582417584,
          0.9538461538461538,
          0.9582417582417584
         ],
         "yaxis": "y"
        },
        {
         "marker": {
          "color": [
           0,
           1,
           2,
           3,
           4,
           5,
           6,
           7,
           8,
           9,
           10,
           11,
           12,
           13,
           14,
           15,
           16,
           17,
           18,
           19,
           20,
           21,
           22,
           23,
           24,
           25,
           26,
           27,
           28,
           29,
           30,
           31,
           32,
           33,
           34,
           35,
           36,
           37,
           38,
           39,
           40,
           41,
           42,
           43,
           44,
           45,
           46,
           47,
           48,
           49,
           50,
           51,
           52,
           53,
           54,
           55,
           56,
           57,
           58,
           59,
           60,
           61,
           62,
           63,
           64,
           65,
           66,
           67,
           68,
           69,
           70,
           71,
           72,
           73,
           74,
           75,
           76,
           77,
           78,
           79,
           80,
           81,
           82,
           83,
           84,
           85,
           86,
           87,
           88,
           89,
           90,
           91,
           92,
           93,
           94,
           95,
           96,
           97,
           98,
           99
          ],
          "colorbar": {
           "title": {
            "text": "Trial"
           },
           "x": 1,
           "xpad": 40
          },
          "colorscale": [
           [
            0,
            "rgb(247,251,255)"
           ],
           [
            0.125,
            "rgb(222,235,247)"
           ],
           [
            0.25,
            "rgb(198,219,239)"
           ],
           [
            0.375,
            "rgb(158,202,225)"
           ],
           [
            0.5,
            "rgb(107,174,214)"
           ],
           [
            0.625,
            "rgb(66,146,198)"
           ],
           [
            0.75,
            "rgb(33,113,181)"
           ],
           [
            0.875,
            "rgb(8,81,156)"
           ],
           [
            1,
            "rgb(8,48,107)"
           ]
          ],
          "line": {
           "color": "Grey",
           "width": 0.5
          },
          "showscale": false
         },
         "mode": "markers",
         "name": "Feasible Trial",
         "showlegend": false,
         "type": "scatter",
         "x": [
          "log2",
          "sqrt",
          "sqrt",
          "log2",
          "log2",
          "sqrt",
          "log2",
          "sqrt",
          "sqrt",
          "log2",
          "log2",
          "log2",
          "log2",
          "log2",
          "log2",
          "log2",
          "log2",
          "log2",
          "log2",
          "log2",
          "log2",
          "sqrt",
          "sqrt",
          "sqrt",
          "sqrt",
          "sqrt",
          "sqrt",
          "log2",
          "sqrt",
          "log2",
          "log2",
          "sqrt",
          "sqrt",
          "sqrt",
          "sqrt",
          "sqrt",
          "sqrt",
          "sqrt",
          "sqrt",
          "sqrt",
          "sqrt",
          "sqrt",
          "sqrt",
          "sqrt",
          "sqrt",
          "sqrt",
          "sqrt",
          "sqrt",
          "sqrt",
          "sqrt",
          "sqrt",
          "sqrt",
          "sqrt",
          "sqrt",
          "sqrt",
          "sqrt",
          "sqrt",
          "sqrt",
          "sqrt",
          "sqrt",
          "sqrt",
          "sqrt",
          "sqrt",
          "sqrt",
          "sqrt",
          "sqrt",
          "sqrt",
          "sqrt",
          "sqrt",
          "sqrt",
          "sqrt",
          "sqrt",
          "sqrt",
          "sqrt",
          "sqrt",
          "sqrt",
          "sqrt",
          "sqrt",
          "sqrt",
          "sqrt",
          "sqrt",
          "sqrt",
          "sqrt",
          "sqrt",
          "sqrt",
          "sqrt",
          "log2",
          "sqrt",
          "sqrt",
          "sqrt",
          "sqrt",
          "sqrt",
          "sqrt",
          "sqrt",
          "sqrt",
          "sqrt",
          "sqrt",
          "sqrt",
          "log2",
          "sqrt"
         ],
         "xaxis": "x2",
         "y": [
          0.9538461538461538,
          0.9516483516483516,
          0.9538461538461538,
          0.9560439560439562,
          0.9560439560439562,
          0.9516483516483516,
          0.9516483516483516,
          0.9560439560439562,
          0.9560439560439562,
          0.956043956043956,
          0.9494505494505494,
          0.9538461538461538,
          0.9538461538461538,
          0.9516483516483516,
          0.9538461538461538,
          0.9494505494505494,
          0.9538461538461538,
          0.9560439560439562,
          0.9538461538461538,
          0.9538461538461538,
          0.9516483516483516,
          0.953846153846154,
          0.953846153846154,
          0.9516483516483516,
          0.9494505494505494,
          0.9516483516483516,
          0.9516483516483516,
          0.9494505494505494,
          0.9582417582417582,
          0.9560439560439562,
          0.9538461538461538,
          0.9516483516483516,
          0.9582417582417584,
          0.9582417582417584,
          0.953846153846154,
          0.9560439560439562,
          0.9516483516483516,
          0.9560439560439562,
          0.956043956043956,
          0.9560439560439562,
          0.9560439560439562,
          0.9582417582417582,
          0.956043956043956,
          0.9494505494505494,
          0.9582417582417582,
          0.956043956043956,
          0.9582417582417582,
          0.9538461538461538,
          0.953846153846154,
          0.9516483516483516,
          0.9582417582417582,
          0.9582417582417582,
          0.9582417582417582,
          0.9582417582417584,
          0.9582417582417584,
          0.9582417582417584,
          0.953846153846154,
          0.9582417582417584,
          0.956043956043956,
          0.9560439560439562,
          0.9582417582417584,
          0.9582417582417584,
          0.9560439560439562,
          0.9582417582417584,
          0.9560439560439562,
          0.9582417582417584,
          0.9582417582417584,
          0.953846153846154,
          0.9560439560439562,
          0.9582417582417584,
          0.9582417582417584,
          0.9582417582417584,
          0.9582417582417584,
          0.9582417582417584,
          0.9582417582417584,
          0.9582417582417584,
          0.9560439560439562,
          0.9582417582417584,
          0.9560439560439562,
          0.9582417582417584,
          0.9582417582417584,
          0.956043956043956,
          0.9582417582417584,
          0.956043956043956,
          0.9582417582417582,
          0.9582417582417584,
          0.9582417582417582,
          0.9560439560439562,
          0.9582417582417584,
          0.9582417582417584,
          0.9582417582417584,
          0.9560439560439562,
          0.9582417582417584,
          0.9582417582417582,
          0.9582417582417584,
          0.9582417582417582,
          0.9582417582417584,
          0.9582417582417584,
          0.9538461538461538,
          0.9582417582417584
         ],
         "yaxis": "y2"
        },
        {
         "marker": {
          "color": [
           0,
           1,
           2,
           3,
           4,
           5,
           6,
           7,
           8,
           9,
           10,
           11,
           12,
           13,
           14,
           15,
           16,
           17,
           18,
           19,
           20,
           21,
           22,
           23,
           24,
           25,
           26,
           27,
           28,
           29,
           30,
           31,
           32,
           33,
           34,
           35,
           36,
           37,
           38,
           39,
           40,
           41,
           42,
           43,
           44,
           45,
           46,
           47,
           48,
           49,
           50,
           51,
           52,
           53,
           54,
           55,
           56,
           57,
           58,
           59,
           60,
           61,
           62,
           63,
           64,
           65,
           66,
           67,
           68,
           69,
           70,
           71,
           72,
           73,
           74,
           75,
           76,
           77,
           78,
           79,
           80,
           81,
           82,
           83,
           84,
           85,
           86,
           87,
           88,
           89,
           90,
           91,
           92,
           93,
           94,
           95,
           96,
           97,
           98,
           99
          ],
          "colorbar": {
           "title": {
            "text": "Trial"
           },
           "x": 1,
           "xpad": 40
          },
          "colorscale": [
           [
            0,
            "rgb(247,251,255)"
           ],
           [
            0.125,
            "rgb(222,235,247)"
           ],
           [
            0.25,
            "rgb(198,219,239)"
           ],
           [
            0.375,
            "rgb(158,202,225)"
           ],
           [
            0.5,
            "rgb(107,174,214)"
           ],
           [
            0.625,
            "rgb(66,146,198)"
           ],
           [
            0.75,
            "rgb(33,113,181)"
           ],
           [
            0.875,
            "rgb(8,81,156)"
           ],
           [
            1,
            "rgb(8,48,107)"
           ]
          ],
          "line": {
           "color": "Grey",
           "width": 0.5
          },
          "showscale": false
         },
         "mode": "markers",
         "name": "Feasible Trial",
         "showlegend": false,
         "type": "scatter",
         "x": [
          1,
          10,
          6,
          7,
          5,
          5,
          4,
          6,
          2,
          5,
          9,
          7,
          8,
          3,
          8,
          4,
          8,
          7,
          4,
          10,
          7,
          6,
          6,
          5,
          3,
          7,
          6,
          9,
          5,
          1,
          3,
          5,
          4,
          4,
          4,
          2,
          4,
          3,
          5,
          2,
          6,
          5,
          4,
          5,
          5,
          4,
          5,
          3,
          6,
          4,
          5,
          5,
          5,
          4,
          4,
          4,
          4,
          3,
          2,
          3,
          3,
          3,
          3,
          1,
          2,
          4,
          3,
          4,
          2,
          3,
          4,
          3,
          3,
          4,
          4,
          3,
          2,
          4,
          3,
          3,
          4,
          2,
          1,
          1,
          1,
          4,
          2,
          3,
          4,
          3,
          4,
          4,
          4,
          5,
          4,
          5,
          3,
          4,
          1,
          3
         ],
         "xaxis": "x3",
         "y": [
          0.9538461538461538,
          0.9516483516483516,
          0.9538461538461538,
          0.9560439560439562,
          0.9560439560439562,
          0.9516483516483516,
          0.9516483516483516,
          0.9560439560439562,
          0.9560439560439562,
          0.956043956043956,
          0.9494505494505494,
          0.9538461538461538,
          0.9538461538461538,
          0.9516483516483516,
          0.9538461538461538,
          0.9494505494505494,
          0.9538461538461538,
          0.9560439560439562,
          0.9538461538461538,
          0.9538461538461538,
          0.9516483516483516,
          0.953846153846154,
          0.953846153846154,
          0.9516483516483516,
          0.9494505494505494,
          0.9516483516483516,
          0.9516483516483516,
          0.9494505494505494,
          0.9582417582417582,
          0.9560439560439562,
          0.9538461538461538,
          0.9516483516483516,
          0.9582417582417584,
          0.9582417582417584,
          0.953846153846154,
          0.9560439560439562,
          0.9516483516483516,
          0.9560439560439562,
          0.956043956043956,
          0.9560439560439562,
          0.9560439560439562,
          0.9582417582417582,
          0.956043956043956,
          0.9494505494505494,
          0.9582417582417582,
          0.956043956043956,
          0.9582417582417582,
          0.9538461538461538,
          0.953846153846154,
          0.9516483516483516,
          0.9582417582417582,
          0.9582417582417582,
          0.9582417582417582,
          0.9582417582417584,
          0.9582417582417584,
          0.9582417582417584,
          0.953846153846154,
          0.9582417582417584,
          0.956043956043956,
          0.9560439560439562,
          0.9582417582417584,
          0.9582417582417584,
          0.9560439560439562,
          0.9582417582417584,
          0.9560439560439562,
          0.9582417582417584,
          0.9582417582417584,
          0.953846153846154,
          0.9560439560439562,
          0.9582417582417584,
          0.9582417582417584,
          0.9582417582417584,
          0.9582417582417584,
          0.9582417582417584,
          0.9582417582417584,
          0.9582417582417584,
          0.9560439560439562,
          0.9582417582417584,
          0.9560439560439562,
          0.9582417582417584,
          0.9582417582417584,
          0.956043956043956,
          0.9582417582417584,
          0.956043956043956,
          0.9582417582417582,
          0.9582417582417584,
          0.9582417582417582,
          0.9560439560439562,
          0.9582417582417584,
          0.9582417582417584,
          0.9582417582417584,
          0.9560439560439562,
          0.9582417582417584,
          0.9582417582417582,
          0.9582417582417584,
          0.9582417582417582,
          0.9582417582417584,
          0.9582417582417584,
          0.9538461538461538,
          0.9582417582417584
         ],
         "yaxis": "y3"
        },
        {
         "marker": {
          "color": [
           0,
           1,
           2,
           3,
           4,
           5,
           6,
           7,
           8,
           9,
           10,
           11,
           12,
           13,
           14,
           15,
           16,
           17,
           18,
           19,
           20,
           21,
           22,
           23,
           24,
           25,
           26,
           27,
           28,
           29,
           30,
           31,
           32,
           33,
           34,
           35,
           36,
           37,
           38,
           39,
           40,
           41,
           42,
           43,
           44,
           45,
           46,
           47,
           48,
           49,
           50,
           51,
           52,
           53,
           54,
           55,
           56,
           57,
           58,
           59,
           60,
           61,
           62,
           63,
           64,
           65,
           66,
           67,
           68,
           69,
           70,
           71,
           72,
           73,
           74,
           75,
           76,
           77,
           78,
           79,
           80,
           81,
           82,
           83,
           84,
           85,
           86,
           87,
           88,
           89,
           90,
           91,
           92,
           93,
           94,
           95,
           96,
           97,
           98,
           99
          ],
          "colorbar": {
           "title": {
            "text": "Trial"
           },
           "x": 1,
           "xpad": 40
          },
          "colorscale": [
           [
            0,
            "rgb(247,251,255)"
           ],
           [
            0.125,
            "rgb(222,235,247)"
           ],
           [
            0.25,
            "rgb(198,219,239)"
           ],
           [
            0.375,
            "rgb(158,202,225)"
           ],
           [
            0.5,
            "rgb(107,174,214)"
           ],
           [
            0.625,
            "rgb(66,146,198)"
           ],
           [
            0.75,
            "rgb(33,113,181)"
           ],
           [
            0.875,
            "rgb(8,81,156)"
           ],
           [
            1,
            "rgb(8,48,107)"
           ]
          ],
          "line": {
           "color": "Grey",
           "width": 0.5
          },
          "showscale": false
         },
         "mode": "markers",
         "name": "Feasible Trial",
         "showlegend": false,
         "type": "scatter",
         "x": [
          7,
          11,
          5,
          18,
          7,
          4,
          16,
          6,
          2,
          6,
          20,
          11,
          15,
          20,
          9,
          15,
          17,
          13,
          9,
          2,
          9,
          7,
          4,
          18,
          13,
          8,
          13,
          4,
          10,
          10,
          12,
          7,
          6,
          8,
          10,
          8,
          12,
          5,
          6,
          8,
          3,
          10,
          10,
          12,
          11,
          11,
          6,
          11,
          9,
          14,
          8,
          6,
          5,
          6,
          7,
          7,
          7,
          5,
          3,
          5,
          3,
          3,
          5,
          4,
          7,
          2,
          4,
          6,
          7,
          3,
          6,
          3,
          4,
          5,
          2,
          8,
          7,
          3,
          4,
          5,
          6,
          4,
          4,
          5,
          3,
          6,
          2,
          8,
          7,
          5,
          9,
          2,
          2,
          3,
          4,
          6,
          3,
          2,
          7,
          4
         ],
         "xaxis": "x4",
         "y": [
          0.9538461538461538,
          0.9516483516483516,
          0.9538461538461538,
          0.9560439560439562,
          0.9560439560439562,
          0.9516483516483516,
          0.9516483516483516,
          0.9560439560439562,
          0.9560439560439562,
          0.956043956043956,
          0.9494505494505494,
          0.9538461538461538,
          0.9538461538461538,
          0.9516483516483516,
          0.9538461538461538,
          0.9494505494505494,
          0.9538461538461538,
          0.9560439560439562,
          0.9538461538461538,
          0.9538461538461538,
          0.9516483516483516,
          0.953846153846154,
          0.953846153846154,
          0.9516483516483516,
          0.9494505494505494,
          0.9516483516483516,
          0.9516483516483516,
          0.9494505494505494,
          0.9582417582417582,
          0.9560439560439562,
          0.9538461538461538,
          0.9516483516483516,
          0.9582417582417584,
          0.9582417582417584,
          0.953846153846154,
          0.9560439560439562,
          0.9516483516483516,
          0.9560439560439562,
          0.956043956043956,
          0.9560439560439562,
          0.9560439560439562,
          0.9582417582417582,
          0.956043956043956,
          0.9494505494505494,
          0.9582417582417582,
          0.956043956043956,
          0.9582417582417582,
          0.9538461538461538,
          0.953846153846154,
          0.9516483516483516,
          0.9582417582417582,
          0.9582417582417582,
          0.9582417582417582,
          0.9582417582417584,
          0.9582417582417584,
          0.9582417582417584,
          0.953846153846154,
          0.9582417582417584,
          0.956043956043956,
          0.9560439560439562,
          0.9582417582417584,
          0.9582417582417584,
          0.9560439560439562,
          0.9582417582417584,
          0.9560439560439562,
          0.9582417582417584,
          0.9582417582417584,
          0.953846153846154,
          0.9560439560439562,
          0.9582417582417584,
          0.9582417582417584,
          0.9582417582417584,
          0.9582417582417584,
          0.9582417582417584,
          0.9582417582417584,
          0.9582417582417584,
          0.9560439560439562,
          0.9582417582417584,
          0.9560439560439562,
          0.9582417582417584,
          0.9582417582417584,
          0.956043956043956,
          0.9582417582417584,
          0.956043956043956,
          0.9582417582417582,
          0.9582417582417584,
          0.9582417582417582,
          0.9560439560439562,
          0.9582417582417584,
          0.9582417582417584,
          0.9582417582417584,
          0.9560439560439562,
          0.9582417582417584,
          0.9582417582417582,
          0.9582417582417584,
          0.9582417582417582,
          0.9582417582417584,
          0.9582417582417584,
          0.9538461538461538,
          0.9582417582417584
         ],
         "yaxis": "y4"
        },
        {
         "marker": {
          "color": [
           0,
           1,
           2,
           3,
           4,
           5,
           6,
           7,
           8,
           9,
           10,
           11,
           12,
           13,
           14,
           15,
           16,
           17,
           18,
           19,
           20,
           21,
           22,
           23,
           24,
           25,
           26,
           27,
           28,
           29,
           30,
           31,
           32,
           33,
           34,
           35,
           36,
           37,
           38,
           39,
           40,
           41,
           42,
           43,
           44,
           45,
           46,
           47,
           48,
           49,
           50,
           51,
           52,
           53,
           54,
           55,
           56,
           57,
           58,
           59,
           60,
           61,
           62,
           63,
           64,
           65,
           66,
           67,
           68,
           69,
           70,
           71,
           72,
           73,
           74,
           75,
           76,
           77,
           78,
           79,
           80,
           81,
           82,
           83,
           84,
           85,
           86,
           87,
           88,
           89,
           90,
           91,
           92,
           93,
           94,
           95,
           96,
           97,
           98,
           99
          ],
          "colorbar": {
           "title": {
            "text": "Trial"
           },
           "x": 1,
           "xpad": 40
          },
          "colorscale": [
           [
            0,
            "rgb(247,251,255)"
           ],
           [
            0.125,
            "rgb(222,235,247)"
           ],
           [
            0.25,
            "rgb(198,219,239)"
           ],
           [
            0.375,
            "rgb(158,202,225)"
           ],
           [
            0.5,
            "rgb(107,174,214)"
           ],
           [
            0.625,
            "rgb(66,146,198)"
           ],
           [
            0.75,
            "rgb(33,113,181)"
           ],
           [
            0.875,
            "rgb(8,81,156)"
           ],
           [
            1,
            "rgb(8,48,107)"
           ]
          ],
          "line": {
           "color": "Grey",
           "width": 0.5
          },
          "showscale": false
         },
         "mode": "markers",
         "name": "Feasible Trial",
         "showlegend": false,
         "type": "scatter",
         "x": [
          216,
          287,
          102,
          130,
          99,
          100,
          138,
          173,
          130,
          246,
          66,
          62,
          174,
          134,
          98,
          213,
          160,
          78,
          117,
          210,
          142,
          184,
          161,
          189,
          85,
          156,
          116,
          51,
          235,
          251,
          245,
          201,
          289,
          296,
          295,
          270,
          276,
          229,
          298,
          278,
          265,
          258,
          258,
          231,
          288,
          287,
          285,
          236,
          300,
          263,
          277,
          285,
          287,
          257,
          254,
          253,
          221,
          256,
          246,
          252,
          270,
          271,
          241,
          260,
          222,
          272,
          252,
          205,
          279,
          294,
          266,
          269,
          254,
          244,
          268,
          291,
          277,
          282,
          272,
          258,
          240,
          263,
          259,
          250,
          228,
          296,
          262,
          236,
          274,
          281,
          300,
          273,
          292,
          269,
          284,
          248,
          257,
          274,
          290,
          266
         ],
         "xaxis": "x5",
         "y": [
          0.9538461538461538,
          0.9516483516483516,
          0.9538461538461538,
          0.9560439560439562,
          0.9560439560439562,
          0.9516483516483516,
          0.9516483516483516,
          0.9560439560439562,
          0.9560439560439562,
          0.956043956043956,
          0.9494505494505494,
          0.9538461538461538,
          0.9538461538461538,
          0.9516483516483516,
          0.9538461538461538,
          0.9494505494505494,
          0.9538461538461538,
          0.9560439560439562,
          0.9538461538461538,
          0.9538461538461538,
          0.9516483516483516,
          0.953846153846154,
          0.953846153846154,
          0.9516483516483516,
          0.9494505494505494,
          0.9516483516483516,
          0.9516483516483516,
          0.9494505494505494,
          0.9582417582417582,
          0.9560439560439562,
          0.9538461538461538,
          0.9516483516483516,
          0.9582417582417584,
          0.9582417582417584,
          0.953846153846154,
          0.9560439560439562,
          0.9516483516483516,
          0.9560439560439562,
          0.956043956043956,
          0.9560439560439562,
          0.9560439560439562,
          0.9582417582417582,
          0.956043956043956,
          0.9494505494505494,
          0.9582417582417582,
          0.956043956043956,
          0.9582417582417582,
          0.9538461538461538,
          0.953846153846154,
          0.9516483516483516,
          0.9582417582417582,
          0.9582417582417582,
          0.9582417582417582,
          0.9582417582417584,
          0.9582417582417584,
          0.9582417582417584,
          0.953846153846154,
          0.9582417582417584,
          0.956043956043956,
          0.9560439560439562,
          0.9582417582417584,
          0.9582417582417584,
          0.9560439560439562,
          0.9582417582417584,
          0.9560439560439562,
          0.9582417582417584,
          0.9582417582417584,
          0.953846153846154,
          0.9560439560439562,
          0.9582417582417584,
          0.9582417582417584,
          0.9582417582417584,
          0.9582417582417584,
          0.9582417582417584,
          0.9582417582417584,
          0.9582417582417584,
          0.9560439560439562,
          0.9582417582417584,
          0.9560439560439562,
          0.9582417582417584,
          0.9582417582417584,
          0.956043956043956,
          0.9582417582417584,
          0.956043956043956,
          0.9582417582417582,
          0.9582417582417584,
          0.9582417582417582,
          0.9560439560439562,
          0.9582417582417584,
          0.9582417582417584,
          0.9582417582417584,
          0.9560439560439562,
          0.9582417582417584,
          0.9582417582417582,
          0.9582417582417584,
          0.9582417582417582,
          0.9582417582417584,
          0.9582417582417584,
          0.9538461538461538,
          0.9582417582417584
         ],
         "yaxis": "y5"
        }
       ],
       "layout": {
        "template": {
         "data": {
          "bar": [
           {
            "error_x": {
             "color": "#2a3f5f"
            },
            "error_y": {
             "color": "#2a3f5f"
            },
            "marker": {
             "line": {
              "color": "#E5ECF6",
              "width": 0.5
             },
             "pattern": {
              "fillmode": "overlay",
              "size": 10,
              "solidity": 0.2
             }
            },
            "type": "bar"
           }
          ],
          "barpolar": [
           {
            "marker": {
             "line": {
              "color": "#E5ECF6",
              "width": 0.5
             },
             "pattern": {
              "fillmode": "overlay",
              "size": 10,
              "solidity": 0.2
             }
            },
            "type": "barpolar"
           }
          ],
          "carpet": [
           {
            "aaxis": {
             "endlinecolor": "#2a3f5f",
             "gridcolor": "white",
             "linecolor": "white",
             "minorgridcolor": "white",
             "startlinecolor": "#2a3f5f"
            },
            "baxis": {
             "endlinecolor": "#2a3f5f",
             "gridcolor": "white",
             "linecolor": "white",
             "minorgridcolor": "white",
             "startlinecolor": "#2a3f5f"
            },
            "type": "carpet"
           }
          ],
          "choropleth": [
           {
            "colorbar": {
             "outlinewidth": 0,
             "ticks": ""
            },
            "type": "choropleth"
           }
          ],
          "contour": [
           {
            "colorbar": {
             "outlinewidth": 0,
             "ticks": ""
            },
            "colorscale": [
             [
              0,
              "#0d0887"
             ],
             [
              0.1111111111111111,
              "#46039f"
             ],
             [
              0.2222222222222222,
              "#7201a8"
             ],
             [
              0.3333333333333333,
              "#9c179e"
             ],
             [
              0.4444444444444444,
              "#bd3786"
             ],
             [
              0.5555555555555556,
              "#d8576b"
             ],
             [
              0.6666666666666666,
              "#ed7953"
             ],
             [
              0.7777777777777778,
              "#fb9f3a"
             ],
             [
              0.8888888888888888,
              "#fdca26"
             ],
             [
              1,
              "#f0f921"
             ]
            ],
            "type": "contour"
           }
          ],
          "contourcarpet": [
           {
            "colorbar": {
             "outlinewidth": 0,
             "ticks": ""
            },
            "type": "contourcarpet"
           }
          ],
          "heatmap": [
           {
            "colorbar": {
             "outlinewidth": 0,
             "ticks": ""
            },
            "colorscale": [
             [
              0,
              "#0d0887"
             ],
             [
              0.1111111111111111,
              "#46039f"
             ],
             [
              0.2222222222222222,
              "#7201a8"
             ],
             [
              0.3333333333333333,
              "#9c179e"
             ],
             [
              0.4444444444444444,
              "#bd3786"
             ],
             [
              0.5555555555555556,
              "#d8576b"
             ],
             [
              0.6666666666666666,
              "#ed7953"
             ],
             [
              0.7777777777777778,
              "#fb9f3a"
             ],
             [
              0.8888888888888888,
              "#fdca26"
             ],
             [
              1,
              "#f0f921"
             ]
            ],
            "type": "heatmap"
           }
          ],
          "histogram": [
           {
            "marker": {
             "pattern": {
              "fillmode": "overlay",
              "size": 10,
              "solidity": 0.2
             }
            },
            "type": "histogram"
           }
          ],
          "histogram2d": [
           {
            "colorbar": {
             "outlinewidth": 0,
             "ticks": ""
            },
            "colorscale": [
             [
              0,
              "#0d0887"
             ],
             [
              0.1111111111111111,
              "#46039f"
             ],
             [
              0.2222222222222222,
              "#7201a8"
             ],
             [
              0.3333333333333333,
              "#9c179e"
             ],
             [
              0.4444444444444444,
              "#bd3786"
             ],
             [
              0.5555555555555556,
              "#d8576b"
             ],
             [
              0.6666666666666666,
              "#ed7953"
             ],
             [
              0.7777777777777778,
              "#fb9f3a"
             ],
             [
              0.8888888888888888,
              "#fdca26"
             ],
             [
              1,
              "#f0f921"
             ]
            ],
            "type": "histogram2d"
           }
          ],
          "histogram2dcontour": [
           {
            "colorbar": {
             "outlinewidth": 0,
             "ticks": ""
            },
            "colorscale": [
             [
              0,
              "#0d0887"
             ],
             [
              0.1111111111111111,
              "#46039f"
             ],
             [
              0.2222222222222222,
              "#7201a8"
             ],
             [
              0.3333333333333333,
              "#9c179e"
             ],
             [
              0.4444444444444444,
              "#bd3786"
             ],
             [
              0.5555555555555556,
              "#d8576b"
             ],
             [
              0.6666666666666666,
              "#ed7953"
             ],
             [
              0.7777777777777778,
              "#fb9f3a"
             ],
             [
              0.8888888888888888,
              "#fdca26"
             ],
             [
              1,
              "#f0f921"
             ]
            ],
            "type": "histogram2dcontour"
           }
          ],
          "mesh3d": [
           {
            "colorbar": {
             "outlinewidth": 0,
             "ticks": ""
            },
            "type": "mesh3d"
           }
          ],
          "parcoords": [
           {
            "line": {
             "colorbar": {
              "outlinewidth": 0,
              "ticks": ""
             }
            },
            "type": "parcoords"
           }
          ],
          "pie": [
           {
            "automargin": true,
            "type": "pie"
           }
          ],
          "scatter": [
           {
            "fillpattern": {
             "fillmode": "overlay",
             "size": 10,
             "solidity": 0.2
            },
            "type": "scatter"
           }
          ],
          "scatter3d": [
           {
            "line": {
             "colorbar": {
              "outlinewidth": 0,
              "ticks": ""
             }
            },
            "marker": {
             "colorbar": {
              "outlinewidth": 0,
              "ticks": ""
             }
            },
            "type": "scatter3d"
           }
          ],
          "scattercarpet": [
           {
            "marker": {
             "colorbar": {
              "outlinewidth": 0,
              "ticks": ""
             }
            },
            "type": "scattercarpet"
           }
          ],
          "scattergeo": [
           {
            "marker": {
             "colorbar": {
              "outlinewidth": 0,
              "ticks": ""
             }
            },
            "type": "scattergeo"
           }
          ],
          "scattergl": [
           {
            "marker": {
             "colorbar": {
              "outlinewidth": 0,
              "ticks": ""
             }
            },
            "type": "scattergl"
           }
          ],
          "scattermap": [
           {
            "marker": {
             "colorbar": {
              "outlinewidth": 0,
              "ticks": ""
             }
            },
            "type": "scattermap"
           }
          ],
          "scattermapbox": [
           {
            "marker": {
             "colorbar": {
              "outlinewidth": 0,
              "ticks": ""
             }
            },
            "type": "scattermapbox"
           }
          ],
          "scatterpolar": [
           {
            "marker": {
             "colorbar": {
              "outlinewidth": 0,
              "ticks": ""
             }
            },
            "type": "scatterpolar"
           }
          ],
          "scatterpolargl": [
           {
            "marker": {
             "colorbar": {
              "outlinewidth": 0,
              "ticks": ""
             }
            },
            "type": "scatterpolargl"
           }
          ],
          "scatterternary": [
           {
            "marker": {
             "colorbar": {
              "outlinewidth": 0,
              "ticks": ""
             }
            },
            "type": "scatterternary"
           }
          ],
          "surface": [
           {
            "colorbar": {
             "outlinewidth": 0,
             "ticks": ""
            },
            "colorscale": [
             [
              0,
              "#0d0887"
             ],
             [
              0.1111111111111111,
              "#46039f"
             ],
             [
              0.2222222222222222,
              "#7201a8"
             ],
             [
              0.3333333333333333,
              "#9c179e"
             ],
             [
              0.4444444444444444,
              "#bd3786"
             ],
             [
              0.5555555555555556,
              "#d8576b"
             ],
             [
              0.6666666666666666,
              "#ed7953"
             ],
             [
              0.7777777777777778,
              "#fb9f3a"
             ],
             [
              0.8888888888888888,
              "#fdca26"
             ],
             [
              1,
              "#f0f921"
             ]
            ],
            "type": "surface"
           }
          ],
          "table": [
           {
            "cells": {
             "fill": {
              "color": "#EBF0F8"
             },
             "line": {
              "color": "white"
             }
            },
            "header": {
             "fill": {
              "color": "#C8D4E3"
             },
             "line": {
              "color": "white"
             }
            },
            "type": "table"
           }
          ]
         },
         "layout": {
          "annotationdefaults": {
           "arrowcolor": "#2a3f5f",
           "arrowhead": 0,
           "arrowwidth": 1
          },
          "autotypenumbers": "strict",
          "coloraxis": {
           "colorbar": {
            "outlinewidth": 0,
            "ticks": ""
           }
          },
          "colorscale": {
           "diverging": [
            [
             0,
             "#8e0152"
            ],
            [
             0.1,
             "#c51b7d"
            ],
            [
             0.2,
             "#de77ae"
            ],
            [
             0.3,
             "#f1b6da"
            ],
            [
             0.4,
             "#fde0ef"
            ],
            [
             0.5,
             "#f7f7f7"
            ],
            [
             0.6,
             "#e6f5d0"
            ],
            [
             0.7,
             "#b8e186"
            ],
            [
             0.8,
             "#7fbc41"
            ],
            [
             0.9,
             "#4d9221"
            ],
            [
             1,
             "#276419"
            ]
           ],
           "sequential": [
            [
             0,
             "#0d0887"
            ],
            [
             0.1111111111111111,
             "#46039f"
            ],
            [
             0.2222222222222222,
             "#7201a8"
            ],
            [
             0.3333333333333333,
             "#9c179e"
            ],
            [
             0.4444444444444444,
             "#bd3786"
            ],
            [
             0.5555555555555556,
             "#d8576b"
            ],
            [
             0.6666666666666666,
             "#ed7953"
            ],
            [
             0.7777777777777778,
             "#fb9f3a"
            ],
            [
             0.8888888888888888,
             "#fdca26"
            ],
            [
             1,
             "#f0f921"
            ]
           ],
           "sequentialminus": [
            [
             0,
             "#0d0887"
            ],
            [
             0.1111111111111111,
             "#46039f"
            ],
            [
             0.2222222222222222,
             "#7201a8"
            ],
            [
             0.3333333333333333,
             "#9c179e"
            ],
            [
             0.4444444444444444,
             "#bd3786"
            ],
            [
             0.5555555555555556,
             "#d8576b"
            ],
            [
             0.6666666666666666,
             "#ed7953"
            ],
            [
             0.7777777777777778,
             "#fb9f3a"
            ],
            [
             0.8888888888888888,
             "#fdca26"
            ],
            [
             1,
             "#f0f921"
            ]
           ]
          },
          "colorway": [
           "#636efa",
           "#EF553B",
           "#00cc96",
           "#ab63fa",
           "#FFA15A",
           "#19d3f3",
           "#FF6692",
           "#B6E880",
           "#FF97FF",
           "#FECB52"
          ],
          "font": {
           "color": "#2a3f5f"
          },
          "geo": {
           "bgcolor": "white",
           "lakecolor": "white",
           "landcolor": "#E5ECF6",
           "showlakes": true,
           "showland": true,
           "subunitcolor": "white"
          },
          "hoverlabel": {
           "align": "left"
          },
          "hovermode": "closest",
          "mapbox": {
           "style": "light"
          },
          "paper_bgcolor": "white",
          "plot_bgcolor": "#E5ECF6",
          "polar": {
           "angularaxis": {
            "gridcolor": "white",
            "linecolor": "white",
            "ticks": ""
           },
           "bgcolor": "#E5ECF6",
           "radialaxis": {
            "gridcolor": "white",
            "linecolor": "white",
            "ticks": ""
           }
          },
          "scene": {
           "xaxis": {
            "backgroundcolor": "#E5ECF6",
            "gridcolor": "white",
            "gridwidth": 2,
            "linecolor": "white",
            "showbackground": true,
            "ticks": "",
            "zerolinecolor": "white"
           },
           "yaxis": {
            "backgroundcolor": "#E5ECF6",
            "gridcolor": "white",
            "gridwidth": 2,
            "linecolor": "white",
            "showbackground": true,
            "ticks": "",
            "zerolinecolor": "white"
           },
           "zaxis": {
            "backgroundcolor": "#E5ECF6",
            "gridcolor": "white",
            "gridwidth": 2,
            "linecolor": "white",
            "showbackground": true,
            "ticks": "",
            "zerolinecolor": "white"
           }
          },
          "shapedefaults": {
           "line": {
            "color": "#2a3f5f"
           }
          },
          "ternary": {
           "aaxis": {
            "gridcolor": "white",
            "linecolor": "white",
            "ticks": ""
           },
           "baxis": {
            "gridcolor": "white",
            "linecolor": "white",
            "ticks": ""
           },
           "bgcolor": "#E5ECF6",
           "caxis": {
            "gridcolor": "white",
            "linecolor": "white",
            "ticks": ""
           }
          },
          "title": {
           "x": 0.05
          },
          "xaxis": {
           "automargin": true,
           "gridcolor": "white",
           "linecolor": "white",
           "ticks": "",
           "title": {
            "standoff": 15
           },
           "zerolinecolor": "white",
           "zerolinewidth": 2
          },
          "yaxis": {
           "automargin": true,
           "gridcolor": "white",
           "linecolor": "white",
           "ticks": "",
           "title": {
            "standoff": 15
           },
           "zerolinecolor": "white",
           "zerolinewidth": 2
          }
         }
        },
        "title": {
         "text": "Slice Plot"
        },
        "width": 1500,
        "xaxis": {
         "anchor": "y",
         "domain": [
          0,
          0.16799999999999998
         ],
         "title": {
          "text": "max_depth"
         }
        },
        "xaxis2": {
         "anchor": "y2",
         "categoryarray": [
          "sqrt",
          "log2"
         ],
         "categoryorder": "array",
         "domain": [
          0.208,
          0.376
         ],
         "title": {
          "text": "max_features"
         },
         "type": "category"
        },
        "xaxis3": {
         "anchor": "y3",
         "domain": [
          0.416,
          0.584
         ],
         "title": {
          "text": "min_samples_leaf"
         }
        },
        "xaxis4": {
         "anchor": "y4",
         "domain": [
          0.624,
          0.792
         ],
         "title": {
          "text": "min_samples_split"
         }
        },
        "xaxis5": {
         "anchor": "y5",
         "domain": [
          0.832,
          1
         ],
         "title": {
          "text": "n_estimators"
         }
        },
        "yaxis": {
         "anchor": "x",
         "domain": [
          0,
          1
         ],
         "title": {
          "text": "Objective Value"
         }
        },
        "yaxis2": {
         "anchor": "x2",
         "domain": [
          0,
          1
         ],
         "matches": "y",
         "showticklabels": false
        },
        "yaxis3": {
         "anchor": "x3",
         "domain": [
          0,
          1
         ],
         "matches": "y",
         "showticklabels": false
        },
        "yaxis4": {
         "anchor": "x4",
         "domain": [
          0,
          1
         ],
         "matches": "y",
         "showticklabels": false
        },
        "yaxis5": {
         "anchor": "x5",
         "domain": [
          0,
          1
         ],
         "matches": "y",
         "showticklabels": false
        }
       }
      }
     },
     "metadata": {},
     "output_type": "display_data"
    }
   ],
   "source": [
    "# 4. Slice Plot: Shows how individual parameters affect the objective value\n",
    "print(\"\\n=== Slice Plot ===\")\n",
    "print(\"This plot shows the relationship between each parameter and the objective value.\")\n",
    "print(\"The vertical lines show the current best values for each parameter.\\n\")\n",
    "\n",
    "from optuna.visualization import plot_slice\n",
    "fig_slice = plot_slice(study_rf)\n",
    "fig_slice.show()\n",
    "\n"
   ]
  },
  {
   "cell_type": "markdown",
   "id": "773bff9f",
   "metadata": {},
   "source": [
    "### Why These Visualizations Matter\n",
    "\n",
    "The visualizations above demonstrate several key advantages of Optuna over traditional hyperparameter tuning methods:\n",
    "\n",
    "1. **Intelligent Exploration**: The optimization history shows how Optuna quickly identifies promising regions and refines them, rather than randomly sampling like RandomizedSearchCV.\n",
    "\n",
    "2. **Parameter Insights**: The parameter importance plot reveals which hyperparameters actually matter for your specific problem, helping you focus future tuning efforts. For Random Forest, we can see which parameters like tree depth or number of estimators have the biggest impact on performance.\n",
    "\n",
    "3. **Visual Parameter Relationships**: The parallel coordinate and slice plots show how different parameter combinations relate to performance, making it easy to understand the optimization landscape.\n",
    "\n",
    "4. **Visual Debugging**: These plots help you understand if your parameter ranges are appropriate and if the optimization is working correctly.\n",
    "\n",
    "5. **Reproducibility and Analysis**: Optuna's visualizations make it easy to share and analyze optimization results, which is crucial for production deployments.\n",
    "\n",
    "Unlike GridSearchCV (which is exhaustive but inefficient) and RandomizedSearchCV (which is fast but uninformed), Optuna learns from each trial to make smarter decisions about where to search next. This Bayesian optimization approach is particularly powerful for efficiently exploring complex parameter spaces, as demonstrated with the Random Forest optimization above.\n",
    "\n"
   ]
  },
  {
   "cell_type": "markdown",
   "id": "d0edcd35",
   "metadata": {},
   "source": [
    "## Comparison and Summary\n",
    "\n",
    "Let's compare the three approaches we've explored:\n"
   ]
  },
  {
   "cell_type": "code",
   "execution_count": 17,
   "id": "98376f13",
   "metadata": {},
   "outputs": [
    {
     "name": "stdout",
     "output_type": "stream",
     "text": [
      "            Method  Test Accuracy  Improvement\n",
      "          Baseline       0.956140     0.000000\n",
      "      GridSearchCV       0.956140     0.000000\n",
      "RandomizedSearchCV       0.947368    -0.008772\n",
      "       Optuna (RF)       0.956140     0.000000\n",
      "    Optuna (Multi)       0.973626     0.017486\n"
     ]
    },
    {
     "data": {
      "image/png": "[encoded data removed]",
      "text/plain": [
       "<Figure size 1000x600 with 1 Axes>"
      ]
     },
     "metadata": {},
     "output_type": "display_data"
    }
   ],
   "source": [
    "# Create comparison table\n",
    "results = {\n",
    "    'Method': ['Baseline', 'GridSearchCV', 'RandomizedSearchCV', 'Optuna (RF)', 'Optuna (Multi)'],\n",
    "    'Test Accuracy': [\n",
    "        baseline_accuracy,\n",
    "        grid_accuracy,\n",
    "        random_accuracy,\n",
    "        optuna_accuracy,\n",
    "        study_multi.best_value\n",
    "    ],\n",
    "    'Improvement': [\n",
    "        0,\n",
    "        grid_accuracy - baseline_accuracy,\n",
    "        random_accuracy - baseline_accuracy,\n",
    "        optuna_accuracy - baseline_accuracy,\n",
    "        study_multi.best_value - baseline_accuracy\n",
    "    ]\n",
    "}\n",
    "\n",
    "results_df = pd.DataFrame(results)\n",
    "print(results_df.to_string(index=False))\n",
    "\n",
    "# Visualize results\n",
    "plt.figure(figsize=(10, 6))\n",
    "methods = results_df['Method']\n",
    "accuracies = results_df['Test Accuracy']\n",
    "\n",
    "bars = plt.bar(methods, accuracies, color=['gray', 'skyblue', 'lightgreen', 'orange', 'coral'])\n",
    "plt.axhline(y=baseline_accuracy, color='red', linestyle='--', label='Baseline', alpha=0.7)\n",
    "plt.ylabel('Test Accuracy', fontsize=12)\n",
    "plt.xlabel('Method', fontsize=12)\n",
    "plt.title('Hyperparameter Tuning Methods Comparison', fontsize=14, fontweight='bold')\n",
    "plt.xticks(rotation=45, ha='right')\n",
    "plt.ylim([min(accuracies) - 0.02, max(accuracies) + 0.02])\n",
    "plt.legend()\n",
    "plt.tight_layout()\n",
    "plt.grid(axis='y', alpha=0.3)\n",
    "plt.show()\n"
   ]
  },
  {
   "cell_type": "markdown",
   "id": "ec705a04",
   "metadata": {},
   "source": [
    "## Decision Guide: When to Use Each Method\n",
    "\n",
    "| Criterion | GridSearchCV | RandomizedSearchCV | Optuna |\n",
    "|-----------|--------------|-------------------|---------|\n",
    "| **Parameter Space Size** | Small (< 100 combinations) | Medium to Large | Any size |\n",
    "| **Computational Budget** | High | Medium | Low to Medium |\n",
    "| **Optimization Goal** | Exhaustive search | Quick exploration | Efficient optimization |\n",
    "| **Reproducibility** | Perfect | Good (with random_state) | Good (with seed) |\n",
    "| **Ease of Use** | Very Easy | Very Easy | Easy |\n",
    "| **Conditional Parameters** | No | No | Yes |\n",
    "| **Early Stopping** | No | No | Yes (pruning) |\n",
    "| **Best For** | Small grids, thorough search | Initial exploration, large spaces | Production, complex spaces |\n",
    "\n",
    "### Practical Recommendations:\n",
    "\n",
    "**Use GridSearchCV when:**\n",
    "- You have a small, well-defined parameter space\n",
    "- You want to guarantee finding the best combination within your grid\n",
    "- Computational time is not a constraint\n",
    "- You're doing a final refinement in a narrow range\n",
    "\n",
    "**Use RandomizedSearchCV when:**\n",
    "- You're exploring a large parameter space for the first time\n",
    "- You want to quickly identify promising regions\n",
    "- You have a fixed computational budget\n",
    "- You're using continuous distributions for parameters\n",
    "\n",
    "**Use Optuna when:**\n",
    "- You need the most efficient search possible\n",
    "- You're working with complex, conditional parameter spaces\n",
    "- Computational resources are limited\n",
    "- You want to leverage previous trial information\n",
    "- You need pruning to stop unpromising trials early\n",
    "- You're deploying to production and need optimal performance\n",
    "\n",
    "### Hybrid Approach:\n",
    "A common strategy is to:\n",
    "1. Start with **RandomizedSearchCV** to explore the space broadly\n",
    "2. Use **Optuna** to refine and find optimal parameters efficiently\n",
    "3. Optionally use **GridSearchCV** for final fine-tuning in a narrow range\n"
   ]
  },
  {
   "cell_type": "markdown",
   "id": "43aa9a7e",
   "metadata": {},
   "source": [
    "## Best Practices for Hyperparameter Tuning\n",
    "\n",
    "### 1. Always Use Cross-Validation\n",
    "Never tune hyperparameters on the test set. Use cross-validation on the training set, then evaluate the final model on the held-out test set.\n",
    "\n",
    "### 2. Understand Your Parameters\n",
    "Know what each hyperparameter does and its typical range. This helps you define sensible search spaces.\n",
    "\n",
    "### 3. Use Appropriate Distributions\n",
    "- For parameters that span orders of magnitude (e.g., learning rate), use log-uniform distributions\n",
    "- For discrete counts, use integer distributions\n",
    "- For bounded continuous values, use uniform distributions\n",
    "\n",
    "### 4. Start Broad, Then Refine\n",
    "Begin with a wide search space to explore, then narrow down based on results.\n",
    "\n",
    "### 5. Monitor for Overfitting\n",
    "If cross-validation scores are much higher than test scores, you may be overfitting to your validation folds.\n",
    "\n",
    "### 6. Consider Computational Cost\n",
    "Balance the number of trials/combinations with available computational resources and time constraints.\n",
    "\n",
    "### 7. Use Parallel Processing\n",
    "Most methods support `n_jobs=-1` to use all CPU cores, significantly speeding up the search.\n",
    "\n",
    "### 8. Save Your Results\n",
    "Keep track of hyperparameter searches and their results for future reference and reproducibility.\n"
   ]
  },
  {
   "cell_type": "markdown",
   "id": "9c5d5421",
   "metadata": {},
   "source": [
    "## Exercise: Try It Yourself!\n",
    "\n",
    "Now it's your turn! Try the following exercises to reinforce your learning:\n",
    "\n",
    "### Exercise 1: XGBoost Tuning\n",
    "Install XGBoost (`pip install xgboost`) and use Optuna to tune an XGBoost classifier on this dataset. Key parameters to tune:\n",
    "- `n_estimators`: Number of boosting rounds\n",
    "- `max_depth`: Maximum tree depth\n",
    "- `learning_rate`: Step size shrinkage\n",
    "- `subsample`: Fraction of samples used for each tree\n",
    "- `colsample_bytree`: Fraction of features used for each tree\n",
    "\n",
    "### Exercise 2: Compare Timing\n",
    "Measure and compare the execution time of GridSearchCV, RandomizedSearchCV, and Optuna for the same parameter space.\n",
    "\n",
    "### Exercise 3: Visualize Optuna Results\n",
    "Use Optuna's visualization functions to analyze the optimization process:\n",
    "```python\n",
    "from optuna.visualization import plot_optimization_history, plot_param_importances\n",
    "\n",
    "plot_optimization_history(study_rf)\n",
    "plot_param_importances(study_rf)\n",
    "```\n",
    "\n",
    "### Exercise 4: Custom Scoring\n",
    "Modify the examples to optimize for a different metric (e.g., F1-score, ROC-AUC) instead of accuracy.\n"
   ]
  },
  {
   "cell_type": "markdown",
   "id": "8bcfa137",
   "metadata": {},
   "source": [
    "## Additional Resources\n",
    "\n",
    "### Documentation:\n",
    "- [Scikit-learn: Tuning Hyperparameters](https://scikit-learn.org/stable/modules/grid_search.html)\n",
    "- [Optuna Documentation](https://optuna.readthedocs.io/)\n",
    "- [Scipy Stats Distributions](https://docs.scipy.org/doc/scipy/reference/stats.html)\n",
    "\n",
    "### Further Reading:\n",
    "- Bergstra, J., & Bengio, Y. (2012). Random search for hyper-parameter optimization. *Journal of Machine Learning Research*, 13(1), 281-305.\n",
    "- Akiba, T., Sano, S., Yanase, T., Ohta, T., & Koyama, M. (2019). Optuna: A next-generation hyperparameter optimization framework. *Proceedings of the 25th ACM SIGKDD*.\n",
    "\n",
    "### Tips:\n",
    "- Always validate on a separate test set\n",
    "- Consider the trade-off between search time and performance gain\n",
    "- Document your hyperparameter choices and search process\n",
    "- Use version control for your hyperparameter configurations\n",
    "\n",
    "---\n",
    "\n",
    "**Happy tuning! 🎯**\n"
   ]
  }
 ],
 "metadata": {
  "kernelspec": {
   "display_name": "dev1",
   "language": "python",
   "name": "python3"
  },
  "language_info": {
   "codemirror_mode": {
    "name": "ipython",
    "version": 3
   },
   "file_extension": ".py",
   "mimetype": "text/x-python",
   "name": "python",
   "nbconvert_exporter": "python",
   "pygments_lexer": "ipython3",
   "version": "3.12.11"
  }
 },
 "nbformat": 4,
 "nbformat_minor": 5
}
